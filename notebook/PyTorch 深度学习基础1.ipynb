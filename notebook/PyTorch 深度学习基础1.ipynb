{
 "cells": [
  {
   "cell_type": "markdown",
   "metadata": {},
   "source": [
    "**《深度学习之 PyTorch 实战》**\n",
    "\n",
    "讲师作者：[土豆老师](https://iphysresearch.github.io)"
   ]
  },
  {
   "cell_type": "markdown",
   "metadata": {},
   "source": [
    "# 线性回归"
   ]
  },
  {
   "cell_type": "markdown",
   "metadata": {},
   "source": [
    "## 线性回归的矢量计算表达式\n",
    "\n",
    "在模型训练或预测时，我们常常会同时处理多个数据样本并用到矢量计算。在介绍线性回归的矢量计算表达式之前，让我们先考虑对两个向量相加的两种方法。"
   ]
  },
  {
   "cell_type": "code",
   "execution_count": 1,
   "metadata": {},
   "outputs": [
    {
     "data": {
      "text/plain": [
       "'1.3.0.post2'"
      ]
     },
     "execution_count": 1,
     "metadata": {},
     "output_type": "execute_result"
    }
   ],
   "source": [
    "import torch  # 加载 torch 库\n",
    "torch.__version__   # 查看版本"
   ]
  },
  {
   "cell_type": "markdown",
   "metadata": {},
   "source": [
    "下面先定义两个1000维的向量。"
   ]
  },
  {
   "cell_type": "code",
   "execution_count": 2,
   "metadata": {},
   "outputs": [],
   "source": [
    "from time import time\n",
    "\n",
    "a = torch.ones(1000)\n",
    "b = torch.ones(1000)"
   ]
  },
  {
   "cell_type": "markdown",
   "metadata": {},
   "source": [
    "向量相加的一种方法是，将这两个向量按元素逐一做标量加法。"
   ]
  },
  {
   "cell_type": "code",
   "execution_count": 5,
   "metadata": {},
   "outputs": [
    {
     "data": {
      "text/plain": [
       "0.1520709991455078"
      ]
     },
     "execution_count": 5,
     "metadata": {},
     "output_type": "execute_result"
    }
   ],
   "source": [
    "start = time()\n",
    "c = torch.zeros(1000)\n",
    "for i in range(1000):\n",
    "    c[i] = a[i] + b[i]\n",
    "time() - start"
   ]
  },
  {
   "cell_type": "markdown",
   "metadata": {},
   "source": [
    "向量相加的另一种方法是，将这两个向量直接做矢量加法。"
   ]
  },
  {
   "cell_type": "code",
   "execution_count": 6,
   "metadata": {},
   "outputs": [
    {
     "data": {
      "text/plain": [
       "0.00027632713317871094"
      ]
     },
     "execution_count": 6,
     "metadata": {},
     "output_type": "execute_result"
    }
   ],
   "source": [
    "start = time()\n",
    "d = a + b\n",
    "time() - start"
   ]
  },
  {
   "cell_type": "markdown",
   "metadata": {},
   "source": [
    "结果很明显，后者比前者更省时。因此，我们应该尽可能采用矢量计算，以提升计算效率。"
   ]
  },
  {
   "cell_type": "markdown",
   "metadata": {},
   "source": [
    "---\n",
    "\n",
    "## 线性回归的从零开始实现\n",
    ">(Restart your kernel here)\n",
    "\n",
    "在了解了线性回归的背景知识之后，现在我们可以动手实现它了。尽管强大的深度学习框架可以减少大量重复性工作，但若过于依赖它提供的便利，会导致我们很难深入理解深度学习是如何工作的。因此，本节将介绍如何只利用 `Tensor` 和 `autograd` 来实现一个线性回归的训练。"
   ]
  },
  {
   "cell_type": "code",
   "execution_count": 1,
   "metadata": {},
   "outputs": [
    {
     "name": "stdout",
     "output_type": "stream",
     "text": [
      "1.3.0.post2\n"
     ]
    }
   ],
   "source": [
    "import torch  # 加载 torch 库\n",
    "print(torch.__version__)   # 查看版本\n",
    "\n",
    "# matplotlib 包可用于作图，设置成嵌入显示 (jupyter 中的魔法指令)\n",
    "%matplotlib inline  \n",
    "from IPython import display\n",
    "from matplotlib import pyplot as plt \n",
    "import random"
   ]
  },
  {
   "cell_type": "markdown",
   "metadata": {},
   "source": [
    "### 生成数据集\n",
    "\n",
    "我们构造一个简单的人工训练数据集，它可以使我们能够直观比较学到的参数和真实的模型参数的区别。设训练数据集样本数为 1000，输入个数（特征数）为 2。给定随机生成的批量样本特征 $\\boldsymbol{X} \\in \\mathbb{R}^{1000 \\times 2}$，我们使用线性回归模型真实权重 $\\boldsymbol{w} = [2, -3.4]^\\top$ 和偏差 $b=4.2$，以及一个随机噪声项 $\\epsilon$ 来生成标签\n",
    "\n",
    "$$\\boldsymbol{y} = \\boldsymbol{X}\\boldsymbol{w} + b + \\epsilon,$$\n",
    "\n",
    "其中噪声项 $\\epsilon$ 服从均值为 0、标准差为 0.01 的正态分布。噪声代表了数据集中无意义的干扰。下面，让我们生成数据集。"
   ]
  },
  {
   "cell_type": "code",
   "execution_count": 2,
   "metadata": {},
   "outputs": [
    {
     "name": "stdout",
     "output_type": "stream",
     "text": [
      "X: torch.Size([1000, 2]) y: torch.Size([1000])\n"
     ]
    }
   ],
   "source": [
    "num_inputs = 2\n",
    "num_examples = 1000\n",
    "true_w = torch.tensor([2, -3.4])\n",
    "true_b = 4.2\n",
    "features = torch.normal(mean=0, std=1, size=(num_examples, num_inputs))\n",
    "labels = true_w[0] * features[:, 0] + true_w[1] * features[:, 1] + true_b\n",
    "labels += torch.normal(mean=0, std=0.01, size=labels.shape)\n",
    "\n",
    "print('X:',features.shape, 'y:', labels.shape)"
   ]
  },
  {
   "cell_type": "markdown",
   "metadata": {},
   "source": [
    "注意，`features` 的每一行是一个长度为 2 的向量，而 `labels` 的每一行是一个长度为 1 的向量（标量）。"
   ]
  },
  {
   "cell_type": "code",
   "execution_count": 3,
   "metadata": {},
   "outputs": [
    {
     "data": {
      "text/plain": [
       "(tensor([0.1915, 0.4583]), tensor(3.0206))"
      ]
     },
     "execution_count": 3,
     "metadata": {},
     "output_type": "execute_result"
    }
   ],
   "source": [
    "features[0], labels[0]"
   ]
  },
  {
   "cell_type": "markdown",
   "metadata": {},
   "source": [
    "通过生成第二个特征 `features[:, 1]` (矩阵的第二列) 和标签 `labels` 的散点图，可以更直观地观察两者间的线性关系。"
   ]
  },
  {
   "cell_type": "code",
   "execution_count": 4,
   "metadata": {},
   "outputs": [
    {
     "data": {
      "image/svg+xml": [
       "<?xml version=\"1.0\" encoding=\"utf-8\" standalone=\"no\"?>\n",
       "<!DOCTYPE svg PUBLIC \"-//W3C//DTD SVG 1.1//EN\"\n",
       "  \"http://www.w3.org/Graphics/SVG/1.1/DTD/svg11.dtd\">\n",
       "<!-- Created with matplotlib (https://matplotlib.org/) -->\n",
       "<svg height=\"166.978125pt\" version=\"1.1\" viewBox=\"0 0 237.804688 166.978125\" width=\"237.804688pt\" xmlns=\"http://www.w3.org/2000/svg\" xmlns:xlink=\"http://www.w3.org/1999/xlink\">\n",
       " <defs>\n",
       "  <style type=\"text/css\">\n",
       "*{stroke-linecap:butt;stroke-linejoin:round;white-space:pre;}\n",
       "  </style>\n",
       " </defs>\n",
       " <g id=\"figure_1\">\n",
       "  <g id=\"patch_1\">\n",
       "   <path d=\"M 0 166.978125 \n",
       "L 237.804688 166.978125 \n",
       "L 237.804688 0 \n",
       "L 0 0 \n",
       "z\n",
       "\" style=\"fill:none;\"/>\n",
       "  </g>\n",
       "  <g id=\"axes_1\">\n",
       "   <g id=\"patch_2\">\n",
       "    <path d=\"M 35.304688 143.1 \n",
       "L 230.604688 143.1 \n",
       "L 230.604688 7.2 \n",
       "L 35.304688 7.2 \n",
       "z\n",
       "\" style=\"fill:#ffffff;\"/>\n",
       "   </g>\n",
       "   <g id=\"PathCollection_1\">\n",
       "    <defs>\n",
       "     <path d=\"M 0 0.5 \n",
       "C 0.132602 0.5 0.25979 0.447317 0.353553 0.353553 \n",
       "C 0.447317 0.25979 0.5 0.132602 0.5 0 \n",
       "C 0.5 -0.132602 0.447317 -0.25979 0.353553 -0.353553 \n",
       "C 0.25979 -0.447317 0.132602 -0.5 0 -0.5 \n",
       "C -0.132602 -0.5 -0.25979 -0.447317 -0.353553 -0.353553 \n",
       "C -0.447317 -0.25979 -0.5 -0.132602 -0.5 0 \n",
       "C -0.5 0.132602 -0.447317 0.25979 -0.353553 0.353553 \n",
       "C -0.25979 0.447317 -0.132602 0.5 0 0.5 \n",
       "z\n",
       "\" id=\"m99eaf96f29\" style=\"stroke:#1f77b4;\"/>\n",
       "    </defs>\n",
       "    <g clip-path=\"url(#p126e0b308a)\">\n",
       "     <use style=\"fill:#1f77b4;stroke:#1f77b4;\" x=\"145.553844\" xlink:href=\"#m99eaf96f29\" y=\"73.577442\"/>\n",
       "     <use style=\"fill:#1f77b4;stroke:#1f77b4;\" x=\"135.395874\" xlink:href=\"#m99eaf96f29\" y=\"84.03711\"/>\n",
       "     <use style=\"fill:#1f77b4;stroke:#1f77b4;\" x=\"111.16708\" xlink:href=\"#m99eaf96f29\" y=\"62.253501\"/>\n",
       "     <use style=\"fill:#1f77b4;stroke:#1f77b4;\" x=\"126.309009\" xlink:href=\"#m99eaf96f29\" y=\"67.810936\"/>\n",
       "     <use style=\"fill:#1f77b4;stroke:#1f77b4;\" x=\"96.5994\" xlink:href=\"#m99eaf96f29\" y=\"63.509846\"/>\n",
       "     <use style=\"fill:#1f77b4;stroke:#1f77b4;\" x=\"185.594312\" xlink:href=\"#m99eaf96f29\" y=\"93.522432\"/>\n",
       "     <use style=\"fill:#1f77b4;stroke:#1f77b4;\" x=\"181.978573\" xlink:href=\"#m99eaf96f29\" y=\"86.639357\"/>\n",
       "     <use style=\"fill:#1f77b4;stroke:#1f77b4;\" x=\"147.670277\" xlink:href=\"#m99eaf96f29\" y=\"63.230361\"/>\n",
       "     <use style=\"fill:#1f77b4;stroke:#1f77b4;\" x=\"118.710099\" xlink:href=\"#m99eaf96f29\" y=\"49.265147\"/>\n",
       "     <use style=\"fill:#1f77b4;stroke:#1f77b4;\" x=\"119.069441\" xlink:href=\"#m99eaf96f29\" y=\"57.472438\"/>\n",
       "     <use style=\"fill:#1f77b4;stroke:#1f77b4;\" x=\"162.92682\" xlink:href=\"#m99eaf96f29\" y=\"71.685294\"/>\n",
       "     <use style=\"fill:#1f77b4;stroke:#1f77b4;\" x=\"97.448539\" xlink:href=\"#m99eaf96f29\" y=\"45.960549\"/>\n",
       "     <use style=\"fill:#1f77b4;stroke:#1f77b4;\" x=\"134.318971\" xlink:href=\"#m99eaf96f29\" y=\"64.84852\"/>\n",
       "     <use style=\"fill:#1f77b4;stroke:#1f77b4;\" x=\"189.596764\" xlink:href=\"#m99eaf96f29\" y=\"97.165966\"/>\n",
       "     <use style=\"fill:#1f77b4;stroke:#1f77b4;\" x=\"145.565183\" xlink:href=\"#m99eaf96f29\" y=\"98.918009\"/>\n",
       "     <use style=\"fill:#1f77b4;stroke:#1f77b4;\" x=\"105.628663\" xlink:href=\"#m99eaf96f29\" y=\"55.035716\"/>\n",
       "     <use style=\"fill:#1f77b4;stroke:#1f77b4;\" x=\"101.966838\" xlink:href=\"#m99eaf96f29\" y=\"51.612762\"/>\n",
       "     <use style=\"fill:#1f77b4;stroke:#1f77b4;\" x=\"75.85598\" xlink:href=\"#m99eaf96f29\" y=\"32.075228\"/>\n",
       "     <use style=\"fill:#1f77b4;stroke:#1f77b4;\" x=\"120.214415\" xlink:href=\"#m99eaf96f29\" y=\"55.174403\"/>\n",
       "     <use style=\"fill:#1f77b4;stroke:#1f77b4;\" x=\"119.755079\" xlink:href=\"#m99eaf96f29\" y=\"62.546336\"/>\n",
       "     <use style=\"fill:#1f77b4;stroke:#1f77b4;\" x=\"161.18134\" xlink:href=\"#m99eaf96f29\" y=\"95.615368\"/>\n",
       "     <use style=\"fill:#1f77b4;stroke:#1f77b4;\" x=\"120.85465\" xlink:href=\"#m99eaf96f29\" y=\"61.090656\"/>\n",
       "     <use style=\"fill:#1f77b4;stroke:#1f77b4;\" x=\"147.62356\" xlink:href=\"#m99eaf96f29\" y=\"83.257948\"/>\n",
       "     <use style=\"fill:#1f77b4;stroke:#1f77b4;\" x=\"110.762753\" xlink:href=\"#m99eaf96f29\" y=\"43.201161\"/>\n",
       "     <use style=\"fill:#1f77b4;stroke:#1f77b4;\" x=\"99.352868\" xlink:href=\"#m99eaf96f29\" y=\"49.268134\"/>\n",
       "     <use style=\"fill:#1f77b4;stroke:#1f77b4;\" x=\"183.848204\" xlink:href=\"#m99eaf96f29\" y=\"107.01233\"/>\n",
       "     <use style=\"fill:#1f77b4;stroke:#1f77b4;\" x=\"161.191947\" xlink:href=\"#m99eaf96f29\" y=\"95.973983\"/>\n",
       "     <use style=\"fill:#1f77b4;stroke:#1f77b4;\" x=\"163.26684\" xlink:href=\"#m99eaf96f29\" y=\"98.649602\"/>\n",
       "     <use style=\"fill:#1f77b4;stroke:#1f77b4;\" x=\"108.453184\" xlink:href=\"#m99eaf96f29\" y=\"59.745222\"/>\n",
       "     <use style=\"fill:#1f77b4;stroke:#1f77b4;\" x=\"149.686112\" xlink:href=\"#m99eaf96f29\" y=\"77.311526\"/>\n",
       "     <use style=\"fill:#1f77b4;stroke:#1f77b4;\" x=\"139.275698\" xlink:href=\"#m99eaf96f29\" y=\"72.565071\"/>\n",
       "     <use style=\"fill:#1f77b4;stroke:#1f77b4;\" x=\"135.763344\" xlink:href=\"#m99eaf96f29\" y=\"74.372475\"/>\n",
       "     <use style=\"fill:#1f77b4;stroke:#1f77b4;\" x=\"142.374866\" xlink:href=\"#m99eaf96f29\" y=\"70.090518\"/>\n",
       "     <use style=\"fill:#1f77b4;stroke:#1f77b4;\" x=\"127.338549\" xlink:href=\"#m99eaf96f29\" y=\"68.989648\"/>\n",
       "     <use style=\"fill:#1f77b4;stroke:#1f77b4;\" x=\"129.653699\" xlink:href=\"#m99eaf96f29\" y=\"70.411796\"/>\n",
       "     <use style=\"fill:#1f77b4;stroke:#1f77b4;\" x=\"144.010194\" xlink:href=\"#m99eaf96f29\" y=\"72.860411\"/>\n",
       "     <use style=\"fill:#1f77b4;stroke:#1f77b4;\" x=\"123.737729\" xlink:href=\"#m99eaf96f29\" y=\"84.240051\"/>\n",
       "     <use style=\"fill:#1f77b4;stroke:#1f77b4;\" x=\"129.438735\" xlink:href=\"#m99eaf96f29\" y=\"75.87424\"/>\n",
       "     <use style=\"fill:#1f77b4;stroke:#1f77b4;\" x=\"169.90451\" xlink:href=\"#m99eaf96f29\" y=\"96.09273\"/>\n",
       "     <use style=\"fill:#1f77b4;stroke:#1f77b4;\" x=\"165.650387\" xlink:href=\"#m99eaf96f29\" y=\"82.621493\"/>\n",
       "     <use style=\"fill:#1f77b4;stroke:#1f77b4;\" x=\"167.579458\" xlink:href=\"#m99eaf96f29\" y=\"88.240394\"/>\n",
       "     <use style=\"fill:#1f77b4;stroke:#1f77b4;\" x=\"123.459375\" xlink:href=\"#m99eaf96f29\" y=\"58.3547\"/>\n",
       "     <use style=\"fill:#1f77b4;stroke:#1f77b4;\" x=\"215.294434\" xlink:href=\"#m99eaf96f29\" y=\"126.677357\"/>\n",
       "     <use style=\"fill:#1f77b4;stroke:#1f77b4;\" x=\"92.053203\" xlink:href=\"#m99eaf96f29\" y=\"44.932652\"/>\n",
       "     <use style=\"fill:#1f77b4;stroke:#1f77b4;\" x=\"162.123085\" xlink:href=\"#m99eaf96f29\" y=\"87.742365\"/>\n",
       "     <use style=\"fill:#1f77b4;stroke:#1f77b4;\" x=\"132.421026\" xlink:href=\"#m99eaf96f29\" y=\"79.29016\"/>\n",
       "     <use style=\"fill:#1f77b4;stroke:#1f77b4;\" x=\"161.914045\" xlink:href=\"#m99eaf96f29\" y=\"73.123791\"/>\n",
       "     <use style=\"fill:#1f77b4;stroke:#1f77b4;\" x=\"79.771357\" xlink:href=\"#m99eaf96f29\" y=\"45.745432\"/>\n",
       "     <use style=\"fill:#1f77b4;stroke:#1f77b4;\" x=\"143.135457\" xlink:href=\"#m99eaf96f29\" y=\"79.70841\"/>\n",
       "     <use style=\"fill:#1f77b4;stroke:#1f77b4;\" x=\"137.299294\" xlink:href=\"#m99eaf96f29\" y=\"69.441412\"/>\n",
       "     <use style=\"fill:#1f77b4;stroke:#1f77b4;\" x=\"87.944289\" xlink:href=\"#m99eaf96f29\" y=\"39.23908\"/>\n",
       "     <use style=\"fill:#1f77b4;stroke:#1f77b4;\" x=\"131.851388\" xlink:href=\"#m99eaf96f29\" y=\"76.210565\"/>\n",
       "     <use style=\"fill:#1f77b4;stroke:#1f77b4;\" x=\"182.897312\" xlink:href=\"#m99eaf96f29\" y=\"100.892511\"/>\n",
       "     <use style=\"fill:#1f77b4;stroke:#1f77b4;\" x=\"135.905006\" xlink:href=\"#m99eaf96f29\" y=\"64.726447\"/>\n",
       "     <use style=\"fill:#1f77b4;stroke:#1f77b4;\" x=\"109.8896\" xlink:href=\"#m99eaf96f29\" y=\"58.750024\"/>\n",
       "     <use style=\"fill:#1f77b4;stroke:#1f77b4;\" x=\"101.028779\" xlink:href=\"#m99eaf96f29\" y=\"45.510656\"/>\n",
       "     <use style=\"fill:#1f77b4;stroke:#1f77b4;\" x=\"150.851667\" xlink:href=\"#m99eaf96f29\" y=\"86.804595\"/>\n",
       "     <use style=\"fill:#1f77b4;stroke:#1f77b4;\" x=\"120.163536\" xlink:href=\"#m99eaf96f29\" y=\"63.579043\"/>\n",
       "     <use style=\"fill:#1f77b4;stroke:#1f77b4;\" x=\"117.726251\" xlink:href=\"#m99eaf96f29\" y=\"48.283911\"/>\n",
       "     <use style=\"fill:#1f77b4;stroke:#1f77b4;\" x=\"89.215919\" xlink:href=\"#m99eaf96f29\" y=\"52.867214\"/>\n",
       "     <use style=\"fill:#1f77b4;stroke:#1f77b4;\" x=\"140.258913\" xlink:href=\"#m99eaf96f29\" y=\"70.963138\"/>\n",
       "     <use style=\"fill:#1f77b4;stroke:#1f77b4;\" x=\"110.455141\" xlink:href=\"#m99eaf96f29\" y=\"49.459852\"/>\n",
       "     <use style=\"fill:#1f77b4;stroke:#1f77b4;\" x=\"128.169728\" xlink:href=\"#m99eaf96f29\" y=\"70.833575\"/>\n",
       "     <use style=\"fill:#1f77b4;stroke:#1f77b4;\" x=\"96.539151\" xlink:href=\"#m99eaf96f29\" y=\"55.385137\"/>\n",
       "     <use style=\"fill:#1f77b4;stroke:#1f77b4;\" x=\"84.43897\" xlink:href=\"#m99eaf96f29\" y=\"34.0174\"/>\n",
       "     <use style=\"fill:#1f77b4;stroke:#1f77b4;\" x=\"101.714075\" xlink:href=\"#m99eaf96f29\" y=\"59.659024\"/>\n",
       "     <use style=\"fill:#1f77b4;stroke:#1f77b4;\" x=\"97.376585\" xlink:href=\"#m99eaf96f29\" y=\"38.048838\"/>\n",
       "     <use style=\"fill:#1f77b4;stroke:#1f77b4;\" x=\"92.013602\" xlink:href=\"#m99eaf96f29\" y=\"51.665013\"/>\n",
       "     <use style=\"fill:#1f77b4;stroke:#1f77b4;\" x=\"132.484153\" xlink:href=\"#m99eaf96f29\" y=\"56.395387\"/>\n",
       "     <use style=\"fill:#1f77b4;stroke:#1f77b4;\" x=\"123.31956\" xlink:href=\"#m99eaf96f29\" y=\"68.994067\"/>\n",
       "     <use style=\"fill:#1f77b4;stroke:#1f77b4;\" x=\"210.438216\" xlink:href=\"#m99eaf96f29\" y=\"105.441312\"/>\n",
       "     <use style=\"fill:#1f77b4;stroke:#1f77b4;\" x=\"174.523994\" xlink:href=\"#m99eaf96f29\" y=\"93.301315\"/>\n",
       "     <use style=\"fill:#1f77b4;stroke:#1f77b4;\" x=\"164.868938\" xlink:href=\"#m99eaf96f29\" y=\"82.048682\"/>\n",
       "     <use style=\"fill:#1f77b4;stroke:#1f77b4;\" x=\"161.844309\" xlink:href=\"#m99eaf96f29\" y=\"81.140962\"/>\n",
       "     <use style=\"fill:#1f77b4;stroke:#1f77b4;\" x=\"146.800972\" xlink:href=\"#m99eaf96f29\" y=\"66.281513\"/>\n",
       "     <use style=\"fill:#1f77b4;stroke:#1f77b4;\" x=\"128.240087\" xlink:href=\"#m99eaf96f29\" y=\"68.182338\"/>\n",
       "     <use style=\"fill:#1f77b4;stroke:#1f77b4;\" x=\"140.41499\" xlink:href=\"#m99eaf96f29\" y=\"80.659123\"/>\n",
       "     <use style=\"fill:#1f77b4;stroke:#1f77b4;\" x=\"148.66879\" xlink:href=\"#m99eaf96f29\" y=\"74.959487\"/>\n",
       "     <use style=\"fill:#1f77b4;stroke:#1f77b4;\" x=\"118.947458\" xlink:href=\"#m99eaf96f29\" y=\"61.756927\"/>\n",
       "     <use style=\"fill:#1f77b4;stroke:#1f77b4;\" x=\"134.698784\" xlink:href=\"#m99eaf96f29\" y=\"46.465655\"/>\n",
       "     <use style=\"fill:#1f77b4;stroke:#1f77b4;\" x=\"114.549579\" xlink:href=\"#m99eaf96f29\" y=\"48.080121\"/>\n",
       "     <use style=\"fill:#1f77b4;stroke:#1f77b4;\" x=\"151.079054\" xlink:href=\"#m99eaf96f29\" y=\"87.518048\"/>\n",
       "     <use style=\"fill:#1f77b4;stroke:#1f77b4;\" x=\"144.70809\" xlink:href=\"#m99eaf96f29\" y=\"85.80768\"/>\n",
       "     <use style=\"fill:#1f77b4;stroke:#1f77b4;\" x=\"110.628616\" xlink:href=\"#m99eaf96f29\" y=\"70.535803\"/>\n",
       "     <use style=\"fill:#1f77b4;stroke:#1f77b4;\" x=\"139.353202\" xlink:href=\"#m99eaf96f29\" y=\"93.2981\"/>\n",
       "     <use style=\"fill:#1f77b4;stroke:#1f77b4;\" x=\"178.629679\" xlink:href=\"#m99eaf96f29\" y=\"72.653163\"/>\n",
       "     <use style=\"fill:#1f77b4;stroke:#1f77b4;\" x=\"117.628274\" xlink:href=\"#m99eaf96f29\" y=\"66.505056\"/>\n",
       "     <use style=\"fill:#1f77b4;stroke:#1f77b4;\" x=\"116.689318\" xlink:href=\"#m99eaf96f29\" y=\"42.128531\"/>\n",
       "     <use style=\"fill:#1f77b4;stroke:#1f77b4;\" x=\"137.66558\" xlink:href=\"#m99eaf96f29\" y=\"82.781117\"/>\n",
       "     <use style=\"fill:#1f77b4;stroke:#1f77b4;\" x=\"94.282486\" xlink:href=\"#m99eaf96f29\" y=\"49.928901\"/>\n",
       "     <use style=\"fill:#1f77b4;stroke:#1f77b4;\" x=\"126.81401\" xlink:href=\"#m99eaf96f29\" y=\"71.895573\"/>\n",
       "     <use style=\"fill:#1f77b4;stroke:#1f77b4;\" x=\"130.826753\" xlink:href=\"#m99eaf96f29\" y=\"65.930268\"/>\n",
       "     <use style=\"fill:#1f77b4;stroke:#1f77b4;\" x=\"121.188791\" xlink:href=\"#m99eaf96f29\" y=\"56.364405\"/>\n",
       "     <use style=\"fill:#1f77b4;stroke:#1f77b4;\" x=\"110.654709\" xlink:href=\"#m99eaf96f29\" y=\"47.184483\"/>\n",
       "     <use style=\"fill:#1f77b4;stroke:#1f77b4;\" x=\"91.495968\" xlink:href=\"#m99eaf96f29\" y=\"44.304381\"/>\n",
       "     <use style=\"fill:#1f77b4;stroke:#1f77b4;\" x=\"136.048703\" xlink:href=\"#m99eaf96f29\" y=\"67.333064\"/>\n",
       "     <use style=\"fill:#1f77b4;stroke:#1f77b4;\" x=\"142.953653\" xlink:href=\"#m99eaf96f29\" y=\"77.676478\"/>\n",
       "     <use style=\"fill:#1f77b4;stroke:#1f77b4;\" x=\"134.372277\" xlink:href=\"#m99eaf96f29\" y=\"73.672026\"/>\n",
       "     <use style=\"fill:#1f77b4;stroke:#1f77b4;\" x=\"155.204248\" xlink:href=\"#m99eaf96f29\" y=\"77.884112\"/>\n",
       "     <use style=\"fill:#1f77b4;stroke:#1f77b4;\" x=\"64.660111\" xlink:href=\"#m99eaf96f29\" y=\"33.734568\"/>\n",
       "     <use style=\"fill:#1f77b4;stroke:#1f77b4;\" x=\"154.752724\" xlink:href=\"#m99eaf96f29\" y=\"76.176378\"/>\n",
       "     <use style=\"fill:#1f77b4;stroke:#1f77b4;\" x=\"154.25874\" xlink:href=\"#m99eaf96f29\" y=\"85.643056\"/>\n",
       "     <use style=\"fill:#1f77b4;stroke:#1f77b4;\" x=\"116.709317\" xlink:href=\"#m99eaf96f29\" y=\"58.61737\"/>\n",
       "     <use style=\"fill:#1f77b4;stroke:#1f77b4;\" x=\"159.752593\" xlink:href=\"#m99eaf96f29\" y=\"70.207357\"/>\n",
       "     <use style=\"fill:#1f77b4;stroke:#1f77b4;\" x=\"160.848966\" xlink:href=\"#m99eaf96f29\" y=\"80.168137\"/>\n",
       "     <use style=\"fill:#1f77b4;stroke:#1f77b4;\" x=\"103.13874\" xlink:href=\"#m99eaf96f29\" y=\"50.135398\"/>\n",
       "     <use style=\"fill:#1f77b4;stroke:#1f77b4;\" x=\"69.201521\" xlink:href=\"#m99eaf96f29\" y=\"46.543578\"/>\n",
       "     <use style=\"fill:#1f77b4;stroke:#1f77b4;\" x=\"84.730674\" xlink:href=\"#m99eaf96f29\" y=\"42.901966\"/>\n",
       "     <use style=\"fill:#1f77b4;stroke:#1f77b4;\" x=\"128.890544\" xlink:href=\"#m99eaf96f29\" y=\"55.416362\"/>\n",
       "     <use style=\"fill:#1f77b4;stroke:#1f77b4;\" x=\"85.496983\" xlink:href=\"#m99eaf96f29\" y=\"37.100012\"/>\n",
       "     <use style=\"fill:#1f77b4;stroke:#1f77b4;\" x=\"108.332561\" xlink:href=\"#m99eaf96f29\" y=\"43.725816\"/>\n",
       "     <use style=\"fill:#1f77b4;stroke:#1f77b4;\" x=\"134.549166\" xlink:href=\"#m99eaf96f29\" y=\"69.794765\"/>\n",
       "     <use style=\"fill:#1f77b4;stroke:#1f77b4;\" x=\"182.281751\" xlink:href=\"#m99eaf96f29\" y=\"90.906107\"/>\n",
       "     <use style=\"fill:#1f77b4;stroke:#1f77b4;\" x=\"149.449592\" xlink:href=\"#m99eaf96f29\" y=\"74.632532\"/>\n",
       "     <use style=\"fill:#1f77b4;stroke:#1f77b4;\" x=\"121.327964\" xlink:href=\"#m99eaf96f29\" y=\"62.274787\"/>\n",
       "     <use style=\"fill:#1f77b4;stroke:#1f77b4;\" x=\"134.706859\" xlink:href=\"#m99eaf96f29\" y=\"56.112829\"/>\n",
       "     <use style=\"fill:#1f77b4;stroke:#1f77b4;\" x=\"185.201634\" xlink:href=\"#m99eaf96f29\" y=\"106.339311\"/>\n",
       "     <use style=\"fill:#1f77b4;stroke:#1f77b4;\" x=\"179.787117\" xlink:href=\"#m99eaf96f29\" y=\"89.852219\"/>\n",
       "     <use style=\"fill:#1f77b4;stroke:#1f77b4;\" x=\"110.573362\" xlink:href=\"#m99eaf96f29\" y=\"65.431213\"/>\n",
       "     <use style=\"fill:#1f77b4;stroke:#1f77b4;\" x=\"63.657856\" xlink:href=\"#m99eaf96f29\" y=\"34.388985\"/>\n",
       "     <use style=\"fill:#1f77b4;stroke:#1f77b4;\" x=\"71.96399\" xlink:href=\"#m99eaf96f29\" y=\"41.874808\"/>\n",
       "     <use style=\"fill:#1f77b4;stroke:#1f77b4;\" x=\"73.713377\" xlink:href=\"#m99eaf96f29\" y=\"41.646955\"/>\n",
       "     <use style=\"fill:#1f77b4;stroke:#1f77b4;\" x=\"131.681556\" xlink:href=\"#m99eaf96f29\" y=\"67.74451\"/>\n",
       "     <use style=\"fill:#1f77b4;stroke:#1f77b4;\" x=\"114.281876\" xlink:href=\"#m99eaf96f29\" y=\"60.459412\"/>\n",
       "     <use style=\"fill:#1f77b4;stroke:#1f77b4;\" x=\"140.846293\" xlink:href=\"#m99eaf96f29\" y=\"70.608128\"/>\n",
       "     <use style=\"fill:#1f77b4;stroke:#1f77b4;\" x=\"145.26575\" xlink:href=\"#m99eaf96f29\" y=\"90.407424\"/>\n",
       "     <use style=\"fill:#1f77b4;stroke:#1f77b4;\" x=\"105.356647\" xlink:href=\"#m99eaf96f29\" y=\"50.088564\"/>\n",
       "     <use style=\"fill:#1f77b4;stroke:#1f77b4;\" x=\"106.254126\" xlink:href=\"#m99eaf96f29\" y=\"76.487194\"/>\n",
       "     <use style=\"fill:#1f77b4;stroke:#1f77b4;\" x=\"163.795459\" xlink:href=\"#m99eaf96f29\" y=\"83.27604\"/>\n",
       "     <use style=\"fill:#1f77b4;stroke:#1f77b4;\" x=\"157.324956\" xlink:href=\"#m99eaf96f29\" y=\"90.575067\"/>\n",
       "     <use style=\"fill:#1f77b4;stroke:#1f77b4;\" x=\"112.709774\" xlink:href=\"#m99eaf96f29\" y=\"38.500666\"/>\n",
       "     <use style=\"fill:#1f77b4;stroke:#1f77b4;\" x=\"182.431337\" xlink:href=\"#m99eaf96f29\" y=\"90.666692\"/>\n",
       "     <use style=\"fill:#1f77b4;stroke:#1f77b4;\" x=\"184.167688\" xlink:href=\"#m99eaf96f29\" y=\"99.576545\"/>\n",
       "     <use style=\"fill:#1f77b4;stroke:#1f77b4;\" x=\"123.399747\" xlink:href=\"#m99eaf96f29\" y=\"67.834879\"/>\n",
       "     <use style=\"fill:#1f77b4;stroke:#1f77b4;\" x=\"174.177535\" xlink:href=\"#m99eaf96f29\" y=\"88.690088\"/>\n",
       "     <use style=\"fill:#1f77b4;stroke:#1f77b4;\" x=\"162.909206\" xlink:href=\"#m99eaf96f29\" y=\"77.980461\"/>\n",
       "     <use style=\"fill:#1f77b4;stroke:#1f77b4;\" x=\"84.509603\" xlink:href=\"#m99eaf96f29\" y=\"58.316895\"/>\n",
       "     <use style=\"fill:#1f77b4;stroke:#1f77b4;\" x=\"139.584563\" xlink:href=\"#m99eaf96f29\" y=\"66.682822\"/>\n",
       "     <use style=\"fill:#1f77b4;stroke:#1f77b4;\" x=\"129.679054\" xlink:href=\"#m99eaf96f29\" y=\"69.357624\"/>\n",
       "     <use style=\"fill:#1f77b4;stroke:#1f77b4;\" x=\"100.384813\" xlink:href=\"#m99eaf96f29\" y=\"47.636306\"/>\n",
       "     <use style=\"fill:#1f77b4;stroke:#1f77b4;\" x=\"171.479964\" xlink:href=\"#m99eaf96f29\" y=\"85.039122\"/>\n",
       "     <use style=\"fill:#1f77b4;stroke:#1f77b4;\" x=\"114.219039\" xlink:href=\"#m99eaf96f29\" y=\"62.889343\"/>\n",
       "     <use style=\"fill:#1f77b4;stroke:#1f77b4;\" x=\"112.452559\" xlink:href=\"#m99eaf96f29\" y=\"58.021379\"/>\n",
       "     <use style=\"fill:#1f77b4;stroke:#1f77b4;\" x=\"139.719057\" xlink:href=\"#m99eaf96f29\" y=\"62.60797\"/>\n",
       "     <use style=\"fill:#1f77b4;stroke:#1f77b4;\" x=\"119.375039\" xlink:href=\"#m99eaf96f29\" y=\"50.757892\"/>\n",
       "     <use style=\"fill:#1f77b4;stroke:#1f77b4;\" x=\"125.190002\" xlink:href=\"#m99eaf96f29\" y=\"71.607619\"/>\n",
       "     <use style=\"fill:#1f77b4;stroke:#1f77b4;\" x=\"121.512025\" xlink:href=\"#m99eaf96f29\" y=\"71.972399\"/>\n",
       "     <use style=\"fill:#1f77b4;stroke:#1f77b4;\" x=\"178.879023\" xlink:href=\"#m99eaf96f29\" y=\"97.227011\"/>\n",
       "     <use style=\"fill:#1f77b4;stroke:#1f77b4;\" x=\"117.881951\" xlink:href=\"#m99eaf96f29\" y=\"63.810568\"/>\n",
       "     <use style=\"fill:#1f77b4;stroke:#1f77b4;\" x=\"126.692595\" xlink:href=\"#m99eaf96f29\" y=\"70.52955\"/>\n",
       "     <use style=\"fill:#1f77b4;stroke:#1f77b4;\" x=\"113.275633\" xlink:href=\"#m99eaf96f29\" y=\"56.619675\"/>\n",
       "     <use style=\"fill:#1f77b4;stroke:#1f77b4;\" x=\"142.18452\" xlink:href=\"#m99eaf96f29\" y=\"70.016837\"/>\n",
       "     <use style=\"fill:#1f77b4;stroke:#1f77b4;\" x=\"117.406764\" xlink:href=\"#m99eaf96f29\" y=\"58.479886\"/>\n",
       "     <use style=\"fill:#1f77b4;stroke:#1f77b4;\" x=\"105.446288\" xlink:href=\"#m99eaf96f29\" y=\"37.093877\"/>\n",
       "     <use style=\"fill:#1f77b4;stroke:#1f77b4;\" x=\"126.529013\" xlink:href=\"#m99eaf96f29\" y=\"66.775267\"/>\n",
       "     <use style=\"fill:#1f77b4;stroke:#1f77b4;\" x=\"135.329447\" xlink:href=\"#m99eaf96f29\" y=\"56.988157\"/>\n",
       "     <use style=\"fill:#1f77b4;stroke:#1f77b4;\" x=\"118.516341\" xlink:href=\"#m99eaf96f29\" y=\"54.245515\"/>\n",
       "     <use style=\"fill:#1f77b4;stroke:#1f77b4;\" x=\"132.470892\" xlink:href=\"#m99eaf96f29\" y=\"67.178447\"/>\n",
       "     <use style=\"fill:#1f77b4;stroke:#1f77b4;\" x=\"146.219042\" xlink:href=\"#m99eaf96f29\" y=\"75.519562\"/>\n",
       "     <use style=\"fill:#1f77b4;stroke:#1f77b4;\" x=\"136.930101\" xlink:href=\"#m99eaf96f29\" y=\"67.369044\"/>\n",
       "     <use style=\"fill:#1f77b4;stroke:#1f77b4;\" x=\"127.683496\" xlink:href=\"#m99eaf96f29\" y=\"69.320646\"/>\n",
       "     <use style=\"fill:#1f77b4;stroke:#1f77b4;\" x=\"127.630213\" xlink:href=\"#m99eaf96f29\" y=\"61.341637\"/>\n",
       "     <use style=\"fill:#1f77b4;stroke:#1f77b4;\" x=\"126.137676\" xlink:href=\"#m99eaf96f29\" y=\"53.939605\"/>\n",
       "     <use style=\"fill:#1f77b4;stroke:#1f77b4;\" x=\"149.573789\" xlink:href=\"#m99eaf96f29\" y=\"73.661955\"/>\n",
       "     <use style=\"fill:#1f77b4;stroke:#1f77b4;\" x=\"165.670346\" xlink:href=\"#m99eaf96f29\" y=\"86.311491\"/>\n",
       "     <use style=\"fill:#1f77b4;stroke:#1f77b4;\" x=\"70.991458\" xlink:href=\"#m99eaf96f29\" y=\"47.659944\"/>\n",
       "     <use style=\"fill:#1f77b4;stroke:#1f77b4;\" x=\"121.204219\" xlink:href=\"#m99eaf96f29\" y=\"61.953478\"/>\n",
       "     <use style=\"fill:#1f77b4;stroke:#1f77b4;\" x=\"149.920254\" xlink:href=\"#m99eaf96f29\" y=\"77.853158\"/>\n",
       "     <use style=\"fill:#1f77b4;stroke:#1f77b4;\" x=\"141.927057\" xlink:href=\"#m99eaf96f29\" y=\"68.179405\"/>\n",
       "     <use style=\"fill:#1f77b4;stroke:#1f77b4;\" x=\"168.111937\" xlink:href=\"#m99eaf96f29\" y=\"89.15837\"/>\n",
       "     <use style=\"fill:#1f77b4;stroke:#1f77b4;\" x=\"89.962021\" xlink:href=\"#m99eaf96f29\" y=\"46.67785\"/>\n",
       "     <use style=\"fill:#1f77b4;stroke:#1f77b4;\" x=\"71.401478\" xlink:href=\"#m99eaf96f29\" y=\"32.580227\"/>\n",
       "     <use style=\"fill:#1f77b4;stroke:#1f77b4;\" x=\"103.442913\" xlink:href=\"#m99eaf96f29\" y=\"70.38645\"/>\n",
       "     <use style=\"fill:#1f77b4;stroke:#1f77b4;\" x=\"186.880498\" xlink:href=\"#m99eaf96f29\" y=\"96.951934\"/>\n",
       "     <use style=\"fill:#1f77b4;stroke:#1f77b4;\" x=\"120.064563\" xlink:href=\"#m99eaf96f29\" y=\"72.700141\"/>\n",
       "     <use style=\"fill:#1f77b4;stroke:#1f77b4;\" x=\"142.289676\" xlink:href=\"#m99eaf96f29\" y=\"75.24786\"/>\n",
       "     <use style=\"fill:#1f77b4;stroke:#1f77b4;\" x=\"111.106979\" xlink:href=\"#m99eaf96f29\" y=\"64.460932\"/>\n",
       "     <use style=\"fill:#1f77b4;stroke:#1f77b4;\" x=\"132.21774\" xlink:href=\"#m99eaf96f29\" y=\"62.698345\"/>\n",
       "     <use style=\"fill:#1f77b4;stroke:#1f77b4;\" x=\"152.244547\" xlink:href=\"#m99eaf96f29\" y=\"78.669555\"/>\n",
       "     <use style=\"fill:#1f77b4;stroke:#1f77b4;\" x=\"138.130777\" xlink:href=\"#m99eaf96f29\" y=\"54.18444\"/>\n",
       "     <use style=\"fill:#1f77b4;stroke:#1f77b4;\" x=\"111.489841\" xlink:href=\"#m99eaf96f29\" y=\"46.949706\"/>\n",
       "     <use style=\"fill:#1f77b4;stroke:#1f77b4;\" x=\"173.275044\" xlink:href=\"#m99eaf96f29\" y=\"89.537673\"/>\n",
       "     <use style=\"fill:#1f77b4;stroke:#1f77b4;\" x=\"123.843568\" xlink:href=\"#m99eaf96f29\" y=\"71.790037\"/>\n",
       "     <use style=\"fill:#1f77b4;stroke:#1f77b4;\" x=\"146.485187\" xlink:href=\"#m99eaf96f29\" y=\"79.295463\"/>\n",
       "     <use style=\"fill:#1f77b4;stroke:#1f77b4;\" x=\"123.416151\" xlink:href=\"#m99eaf96f29\" y=\"65.183741\"/>\n",
       "     <use style=\"fill:#1f77b4;stroke:#1f77b4;\" x=\"131.133993\" xlink:href=\"#m99eaf96f29\" y=\"68.509227\"/>\n",
       "     <use style=\"fill:#1f77b4;stroke:#1f77b4;\" x=\"127.647998\" xlink:href=\"#m99eaf96f29\" y=\"75.443827\"/>\n",
       "     <use style=\"fill:#1f77b4;stroke:#1f77b4;\" x=\"166.700157\" xlink:href=\"#m99eaf96f29\" y=\"87.264261\"/>\n",
       "     <use style=\"fill:#1f77b4;stroke:#1f77b4;\" x=\"144.143612\" xlink:href=\"#m99eaf96f29\" y=\"69.532989\"/>\n",
       "     <use style=\"fill:#1f77b4;stroke:#1f77b4;\" x=\"159.23557\" xlink:href=\"#m99eaf96f29\" y=\"81.584606\"/>\n",
       "     <use style=\"fill:#1f77b4;stroke:#1f77b4;\" x=\"162.860757\" xlink:href=\"#m99eaf96f29\" y=\"86.244937\"/>\n",
       "     <use style=\"fill:#1f77b4;stroke:#1f77b4;\" x=\"124.964149\" xlink:href=\"#m99eaf96f29\" y=\"73.385202\"/>\n",
       "     <use style=\"fill:#1f77b4;stroke:#1f77b4;\" x=\"79.387371\" xlink:href=\"#m99eaf96f29\" y=\"27.492282\"/>\n",
       "     <use style=\"fill:#1f77b4;stroke:#1f77b4;\" x=\"135.437263\" xlink:href=\"#m99eaf96f29\" y=\"59.579226\"/>\n",
       "     <use style=\"fill:#1f77b4;stroke:#1f77b4;\" x=\"124.814552\" xlink:href=\"#m99eaf96f29\" y=\"67.17011\"/>\n",
       "     <use style=\"fill:#1f77b4;stroke:#1f77b4;\" x=\"99.49803\" xlink:href=\"#m99eaf96f29\" y=\"64.705016\"/>\n",
       "     <use style=\"fill:#1f77b4;stroke:#1f77b4;\" x=\"151.113649\" xlink:href=\"#m99eaf96f29\" y=\"72.407397\"/>\n",
       "     <use style=\"fill:#1f77b4;stroke:#1f77b4;\" x=\"132.047079\" xlink:href=\"#m99eaf96f29\" y=\"64.051173\"/>\n",
       "     <use style=\"fill:#1f77b4;stroke:#1f77b4;\" x=\"96.234264\" xlink:href=\"#m99eaf96f29\" y=\"51.86396\"/>\n",
       "     <use style=\"fill:#1f77b4;stroke:#1f77b4;\" x=\"92.784671\" xlink:href=\"#m99eaf96f29\" y=\"56.291226\"/>\n",
       "     <use style=\"fill:#1f77b4;stroke:#1f77b4;\" x=\"116.605764\" xlink:href=\"#m99eaf96f29\" y=\"42.120889\"/>\n",
       "     <use style=\"fill:#1f77b4;stroke:#1f77b4;\" x=\"118.962944\" xlink:href=\"#m99eaf96f29\" y=\"66.568988\"/>\n",
       "     <use style=\"fill:#1f77b4;stroke:#1f77b4;\" x=\"178.56012\" xlink:href=\"#m99eaf96f29\" y=\"93.324357\"/>\n",
       "     <use style=\"fill:#1f77b4;stroke:#1f77b4;\" x=\"153.145789\" xlink:href=\"#m99eaf96f29\" y=\"71.191777\"/>\n",
       "     <use style=\"fill:#1f77b4;stroke:#1f77b4;\" x=\"135.240584\" xlink:href=\"#m99eaf96f29\" y=\"57.352945\"/>\n",
       "     <use style=\"fill:#1f77b4;stroke:#1f77b4;\" x=\"149.386982\" xlink:href=\"#m99eaf96f29\" y=\"83.638763\"/>\n",
       "     <use style=\"fill:#1f77b4;stroke:#1f77b4;\" x=\"113.467169\" xlink:href=\"#m99eaf96f29\" y=\"45.831649\"/>\n",
       "     <use style=\"fill:#1f77b4;stroke:#1f77b4;\" x=\"116.708525\" xlink:href=\"#m99eaf96f29\" y=\"37.728258\"/>\n",
       "     <use style=\"fill:#1f77b4;stroke:#1f77b4;\" x=\"93.922049\" xlink:href=\"#m99eaf96f29\" y=\"61.704498\"/>\n",
       "     <use style=\"fill:#1f77b4;stroke:#1f77b4;\" x=\"84.342039\" xlink:href=\"#m99eaf96f29\" y=\"38.827006\"/>\n",
       "     <use style=\"fill:#1f77b4;stroke:#1f77b4;\" x=\"117.843436\" xlink:href=\"#m99eaf96f29\" y=\"74.938905\"/>\n",
       "     <use style=\"fill:#1f77b4;stroke:#1f77b4;\" x=\"149.482783\" xlink:href=\"#m99eaf96f29\" y=\"68.030806\"/>\n",
       "     <use style=\"fill:#1f77b4;stroke:#1f77b4;\" x=\"151.556624\" xlink:href=\"#m99eaf96f29\" y=\"84.453955\"/>\n",
       "     <use style=\"fill:#1f77b4;stroke:#1f77b4;\" x=\"134.014263\" xlink:href=\"#m99eaf96f29\" y=\"60.642391\"/>\n",
       "     <use style=\"fill:#1f77b4;stroke:#1f77b4;\" x=\"119.281076\" xlink:href=\"#m99eaf96f29\" y=\"62.768053\"/>\n",
       "     <use style=\"fill:#1f77b4;stroke:#1f77b4;\" x=\"147.374049\" xlink:href=\"#m99eaf96f29\" y=\"75.226429\"/>\n",
       "     <use style=\"fill:#1f77b4;stroke:#1f77b4;\" x=\"172.144214\" xlink:href=\"#m99eaf96f29\" y=\"86.408868\"/>\n",
       "     <use style=\"fill:#1f77b4;stroke:#1f77b4;\" x=\"133.272454\" xlink:href=\"#m99eaf96f29\" y=\"55.991878\"/>\n",
       "     <use style=\"fill:#1f77b4;stroke:#1f77b4;\" x=\"180.468948\" xlink:href=\"#m99eaf96f29\" y=\"102.686412\"/>\n",
       "     <use style=\"fill:#1f77b4;stroke:#1f77b4;\" x=\"124.713653\" xlink:href=\"#m99eaf96f29\" y=\"50.852765\"/>\n",
       "     <use style=\"fill:#1f77b4;stroke:#1f77b4;\" x=\"109.486419\" xlink:href=\"#m99eaf96f29\" y=\"36.027056\"/>\n",
       "     <use style=\"fill:#1f77b4;stroke:#1f77b4;\" x=\"131.531314\" xlink:href=\"#m99eaf96f29\" y=\"59.860898\"/>\n",
       "     <use style=\"fill:#1f77b4;stroke:#1f77b4;\" x=\"67.360116\" xlink:href=\"#m99eaf96f29\" y=\"29.17394\"/>\n",
       "     <use style=\"fill:#1f77b4;stroke:#1f77b4;\" x=\"133.827033\" xlink:href=\"#m99eaf96f29\" y=\"74.241247\"/>\n",
       "     <use style=\"fill:#1f77b4;stroke:#1f77b4;\" x=\"130.378253\" xlink:href=\"#m99eaf96f29\" y=\"74.426456\"/>\n",
       "     <use style=\"fill:#1f77b4;stroke:#1f77b4;\" x=\"124.20897\" xlink:href=\"#m99eaf96f29\" y=\"73.488949\"/>\n",
       "     <use style=\"fill:#1f77b4;stroke:#1f77b4;\" x=\"139.038183\" xlink:href=\"#m99eaf96f29\" y=\"66.271588\"/>\n",
       "     <use style=\"fill:#1f77b4;stroke:#1f77b4;\" x=\"106.269744\" xlink:href=\"#m99eaf96f29\" y=\"51.090999\"/>\n",
       "     <use style=\"fill:#1f77b4;stroke:#1f77b4;\" x=\"134.602679\" xlink:href=\"#m99eaf96f29\" y=\"79.361299\"/>\n",
       "     <use style=\"fill:#1f77b4;stroke:#1f77b4;\" x=\"128.384868\" xlink:href=\"#m99eaf96f29\" y=\"65.085258\"/>\n",
       "     <use style=\"fill:#1f77b4;stroke:#1f77b4;\" x=\"92.876563\" xlink:href=\"#m99eaf96f29\" y=\"66.055715\"/>\n",
       "     <use style=\"fill:#1f77b4;stroke:#1f77b4;\" x=\"131.608908\" xlink:href=\"#m99eaf96f29\" y=\"71.957263\"/>\n",
       "     <use style=\"fill:#1f77b4;stroke:#1f77b4;\" x=\"210.94582\" xlink:href=\"#m99eaf96f29\" y=\"101.897331\"/>\n",
       "     <use style=\"fill:#1f77b4;stroke:#1f77b4;\" x=\"128.257217\" xlink:href=\"#m99eaf96f29\" y=\"80.326513\"/>\n",
       "     <use style=\"fill:#1f77b4;stroke:#1f77b4;\" x=\"123.476268\" xlink:href=\"#m99eaf96f29\" y=\"76.869098\"/>\n",
       "     <use style=\"fill:#1f77b4;stroke:#1f77b4;\" x=\"155.456779\" xlink:href=\"#m99eaf96f29\" y=\"73.014713\"/>\n",
       "     <use style=\"fill:#1f77b4;stroke:#1f77b4;\" x=\"106.940236\" xlink:href=\"#m99eaf96f29\" y=\"50.489019\"/>\n",
       "     <use style=\"fill:#1f77b4;stroke:#1f77b4;\" x=\"161.80376\" xlink:href=\"#m99eaf96f29\" y=\"83.888188\"/>\n",
       "     <use style=\"fill:#1f77b4;stroke:#1f77b4;\" x=\"145.047466\" xlink:href=\"#m99eaf96f29\" y=\"69.337977\"/>\n",
       "     <use style=\"fill:#1f77b4;stroke:#1f77b4;\" x=\"86.650918\" xlink:href=\"#m99eaf96f29\" y=\"34.783701\"/>\n",
       "     <use style=\"fill:#1f77b4;stroke:#1f77b4;\" x=\"123.773025\" xlink:href=\"#m99eaf96f29\" y=\"70.784048\"/>\n",
       "     <use style=\"fill:#1f77b4;stroke:#1f77b4;\" x=\"150.019701\" xlink:href=\"#m99eaf96f29\" y=\"88.372762\"/>\n",
       "     <use style=\"fill:#1f77b4;stroke:#1f77b4;\" x=\"77.088957\" xlink:href=\"#m99eaf96f29\" y=\"27.778287\"/>\n",
       "     <use style=\"fill:#1f77b4;stroke:#1f77b4;\" x=\"121.139474\" xlink:href=\"#m99eaf96f29\" y=\"70.214439\"/>\n",
       "     <use style=\"fill:#1f77b4;stroke:#1f77b4;\" x=\"94.68901\" xlink:href=\"#m99eaf96f29\" y=\"45.762745\"/>\n",
       "     <use style=\"fill:#1f77b4;stroke:#1f77b4;\" x=\"131.83215\" xlink:href=\"#m99eaf96f29\" y=\"64.107771\"/>\n",
       "     <use style=\"fill:#1f77b4;stroke:#1f77b4;\" x=\"82.977032\" xlink:href=\"#m99eaf96f29\" y=\"49.388716\"/>\n",
       "     <use style=\"fill:#1f77b4;stroke:#1f77b4;\" x=\"159.954083\" xlink:href=\"#m99eaf96f29\" y=\"74.720001\"/>\n",
       "     <use style=\"fill:#1f77b4;stroke:#1f77b4;\" x=\"148.60639\" xlink:href=\"#m99eaf96f29\" y=\"72.212712\"/>\n",
       "     <use style=\"fill:#1f77b4;stroke:#1f77b4;\" x=\"114.722068\" xlink:href=\"#m99eaf96f29\" y=\"62.713737\"/>\n",
       "     <use style=\"fill:#1f77b4;stroke:#1f77b4;\" x=\"112.281287\" xlink:href=\"#m99eaf96f29\" y=\"55.796439\"/>\n",
       "     <use style=\"fill:#1f77b4;stroke:#1f77b4;\" x=\"113.447938\" xlink:href=\"#m99eaf96f29\" y=\"63.921697\"/>\n",
       "     <use style=\"fill:#1f77b4;stroke:#1f77b4;\" x=\"114.177087\" xlink:href=\"#m99eaf96f29\" y=\"46.38894\"/>\n",
       "     <use style=\"fill:#1f77b4;stroke:#1f77b4;\" x=\"163.547093\" xlink:href=\"#m99eaf96f29\" y=\"91.547322\"/>\n",
       "     <use style=\"fill:#1f77b4;stroke:#1f77b4;\" x=\"150.096287\" xlink:href=\"#m99eaf96f29\" y=\"75.232519\"/>\n",
       "     <use style=\"fill:#1f77b4;stroke:#1f77b4;\" x=\"85.852381\" xlink:href=\"#m99eaf96f29\" y=\"51.744092\"/>\n",
       "     <use style=\"fill:#1f77b4;stroke:#1f77b4;\" x=\"149.344856\" xlink:href=\"#m99eaf96f29\" y=\"73.803178\"/>\n",
       "     <use style=\"fill:#1f77b4;stroke:#1f77b4;\" x=\"147.460711\" xlink:href=\"#m99eaf96f29\" y=\"95.865654\"/>\n",
       "     <use style=\"fill:#1f77b4;stroke:#1f77b4;\" x=\"87.183091\" xlink:href=\"#m99eaf96f29\" y=\"41.883419\"/>\n",
       "     <use style=\"fill:#1f77b4;stroke:#1f77b4;\" x=\"214.206093\" xlink:href=\"#m99eaf96f29\" y=\"136.90681\"/>\n",
       "     <use style=\"fill:#1f77b4;stroke:#1f77b4;\" x=\"126.803409\" xlink:href=\"#m99eaf96f29\" y=\"60.419689\"/>\n",
       "     <use style=\"fill:#1f77b4;stroke:#1f77b4;\" x=\"78.452842\" xlink:href=\"#m99eaf96f29\" y=\"48.5208\"/>\n",
       "     <use style=\"fill:#1f77b4;stroke:#1f77b4;\" x=\"128.29312\" xlink:href=\"#m99eaf96f29\" y=\"59.513497\"/>\n",
       "     <use style=\"fill:#1f77b4;stroke:#1f77b4;\" x=\"68.422681\" xlink:href=\"#m99eaf96f29\" y=\"30.485778\"/>\n",
       "     <use style=\"fill:#1f77b4;stroke:#1f77b4;\" x=\"125.452531\" xlink:href=\"#m99eaf96f29\" y=\"57.38579\"/>\n",
       "     <use style=\"fill:#1f77b4;stroke:#1f77b4;\" x=\"158.599224\" xlink:href=\"#m99eaf96f29\" y=\"69.883598\"/>\n",
       "     <use style=\"fill:#1f77b4;stroke:#1f77b4;\" x=\"122.195193\" xlink:href=\"#m99eaf96f29\" y=\"74.631482\"/>\n",
       "     <use style=\"fill:#1f77b4;stroke:#1f77b4;\" x=\"83.257514\" xlink:href=\"#m99eaf96f29\" y=\"49.71105\"/>\n",
       "     <use style=\"fill:#1f77b4;stroke:#1f77b4;\" x=\"163.398931\" xlink:href=\"#m99eaf96f29\" y=\"80.259892\"/>\n",
       "     <use style=\"fill:#1f77b4;stroke:#1f77b4;\" x=\"116.936474\" xlink:href=\"#m99eaf96f29\" y=\"69.338617\"/>\n",
       "     <use style=\"fill:#1f77b4;stroke:#1f77b4;\" x=\"129.979294\" xlink:href=\"#m99eaf96f29\" y=\"62.454972\"/>\n",
       "     <use style=\"fill:#1f77b4;stroke:#1f77b4;\" x=\"124.20396\" xlink:href=\"#m99eaf96f29\" y=\"61.536534\"/>\n",
       "     <use style=\"fill:#1f77b4;stroke:#1f77b4;\" x=\"118.921444\" xlink:href=\"#m99eaf96f29\" y=\"65.237141\"/>\n",
       "     <use style=\"fill:#1f77b4;stroke:#1f77b4;\" x=\"167.907471\" xlink:href=\"#m99eaf96f29\" y=\"89.807428\"/>\n",
       "     <use style=\"fill:#1f77b4;stroke:#1f77b4;\" x=\"154.447915\" xlink:href=\"#m99eaf96f29\" y=\"87.035064\"/>\n",
       "     <use style=\"fill:#1f77b4;stroke:#1f77b4;\" x=\"127.699104\" xlink:href=\"#m99eaf96f29\" y=\"77.598323\"/>\n",
       "     <use style=\"fill:#1f77b4;stroke:#1f77b4;\" x=\"160.044507\" xlink:href=\"#m99eaf96f29\" y=\"72.320059\"/>\n",
       "     <use style=\"fill:#1f77b4;stroke:#1f77b4;\" x=\"70.049009\" xlink:href=\"#m99eaf96f29\" y=\"30.212287\"/>\n",
       "     <use style=\"fill:#1f77b4;stroke:#1f77b4;\" x=\"94.958822\" xlink:href=\"#m99eaf96f29\" y=\"50.879237\"/>\n",
       "     <use style=\"fill:#1f77b4;stroke:#1f77b4;\" x=\"132.170209\" xlink:href=\"#m99eaf96f29\" y=\"74.225482\"/>\n",
       "     <use style=\"fill:#1f77b4;stroke:#1f77b4;\" x=\"118.325911\" xlink:href=\"#m99eaf96f29\" y=\"66.962615\"/>\n",
       "     <use style=\"fill:#1f77b4;stroke:#1f77b4;\" x=\"137.57202\" xlink:href=\"#m99eaf96f29\" y=\"72.832593\"/>\n",
       "     <use style=\"fill:#1f77b4;stroke:#1f77b4;\" x=\"199.816893\" xlink:href=\"#m99eaf96f29\" y=\"96.124373\"/>\n",
       "     <use style=\"fill:#1f77b4;stroke:#1f77b4;\" x=\"166.986051\" xlink:href=\"#m99eaf96f29\" y=\"94.505556\"/>\n",
       "     <use style=\"fill:#1f77b4;stroke:#1f77b4;\" x=\"96.512968\" xlink:href=\"#m99eaf96f29\" y=\"47.978168\"/>\n",
       "     <use style=\"fill:#1f77b4;stroke:#1f77b4;\" x=\"100.86709\" xlink:href=\"#m99eaf96f29\" y=\"58.252243\"/>\n",
       "     <use style=\"fill:#1f77b4;stroke:#1f77b4;\" x=\"172.835341\" xlink:href=\"#m99eaf96f29\" y=\"92.098489\"/>\n",
       "     <use style=\"fill:#1f77b4;stroke:#1f77b4;\" x=\"157.934958\" xlink:href=\"#m99eaf96f29\" y=\"83.238759\"/>\n",
       "     <use style=\"fill:#1f77b4;stroke:#1f77b4;\" x=\"103.487536\" xlink:href=\"#m99eaf96f29\" y=\"55.719393\"/>\n",
       "     <use style=\"fill:#1f77b4;stroke:#1f77b4;\" x=\"131.36657\" xlink:href=\"#m99eaf96f29\" y=\"81.607714\"/>\n",
       "     <use style=\"fill:#1f77b4;stroke:#1f77b4;\" x=\"144.171125\" xlink:href=\"#m99eaf96f29\" y=\"61.848163\"/>\n",
       "     <use style=\"fill:#1f77b4;stroke:#1f77b4;\" x=\"157.275318\" xlink:href=\"#m99eaf96f29\" y=\"99.154411\"/>\n",
       "     <use style=\"fill:#1f77b4;stroke:#1f77b4;\" x=\"125.796028\" xlink:href=\"#m99eaf96f29\" y=\"53.164563\"/>\n",
       "     <use style=\"fill:#1f77b4;stroke:#1f77b4;\" x=\"146.03655\" xlink:href=\"#m99eaf96f29\" y=\"75.973528\"/>\n",
       "     <use style=\"fill:#1f77b4;stroke:#1f77b4;\" x=\"150.19906\" xlink:href=\"#m99eaf96f29\" y=\"64.964033\"/>\n",
       "     <use style=\"fill:#1f77b4;stroke:#1f77b4;\" x=\"101.020427\" xlink:href=\"#m99eaf96f29\" y=\"60.639059\"/>\n",
       "     <use style=\"fill:#1f77b4;stroke:#1f77b4;\" x=\"147.279148\" xlink:href=\"#m99eaf96f29\" y=\"70.275886\"/>\n",
       "     <use style=\"fill:#1f77b4;stroke:#1f77b4;\" x=\"141.320579\" xlink:href=\"#m99eaf96f29\" y=\"74.428035\"/>\n",
       "     <use style=\"fill:#1f77b4;stroke:#1f77b4;\" x=\"106.319823\" xlink:href=\"#m99eaf96f29\" y=\"62.455009\"/>\n",
       "     <use style=\"fill:#1f77b4;stroke:#1f77b4;\" x=\"150.943778\" xlink:href=\"#m99eaf96f29\" y=\"75.957501\"/>\n",
       "     <use style=\"fill:#1f77b4;stroke:#1f77b4;\" x=\"150.497787\" xlink:href=\"#m99eaf96f29\" y=\"90.853326\"/>\n",
       "     <use style=\"fill:#1f77b4;stroke:#1f77b4;\" x=\"121.584632\" xlink:href=\"#m99eaf96f29\" y=\"66.939854\"/>\n",
       "     <use style=\"fill:#1f77b4;stroke:#1f77b4;\" x=\"151.371591\" xlink:href=\"#m99eaf96f29\" y=\"82.151183\"/>\n",
       "     <use style=\"fill:#1f77b4;stroke:#1f77b4;\" x=\"108.832569\" xlink:href=\"#m99eaf96f29\" y=\"52.635414\"/>\n",
       "     <use style=\"fill:#1f77b4;stroke:#1f77b4;\" x=\"58.883503\" xlink:href=\"#m99eaf96f29\" y=\"21.839978\"/>\n",
       "     <use style=\"fill:#1f77b4;stroke:#1f77b4;\" x=\"150.201987\" xlink:href=\"#m99eaf96f29\" y=\"95.025545\"/>\n",
       "     <use style=\"fill:#1f77b4;stroke:#1f77b4;\" x=\"67.960016\" xlink:href=\"#m99eaf96f29\" y=\"38.373227\"/>\n",
       "     <use style=\"fill:#1f77b4;stroke:#1f77b4;\" x=\"90.170633\" xlink:href=\"#m99eaf96f29\" y=\"43.171012\"/>\n",
       "     <use style=\"fill:#1f77b4;stroke:#1f77b4;\" x=\"147.453286\" xlink:href=\"#m99eaf96f29\" y=\"77.118963\"/>\n",
       "     <use style=\"fill:#1f77b4;stroke:#1f77b4;\" x=\"140.879881\" xlink:href=\"#m99eaf96f29\" y=\"76.600085\"/>\n",
       "     <use style=\"fill:#1f77b4;stroke:#1f77b4;\" x=\"144.112185\" xlink:href=\"#m99eaf96f29\" y=\"72.946415\"/>\n",
       "     <use style=\"fill:#1f77b4;stroke:#1f77b4;\" x=\"128.375629\" xlink:href=\"#m99eaf96f29\" y=\"74.461603\"/>\n",
       "     <use style=\"fill:#1f77b4;stroke:#1f77b4;\" x=\"134.909257\" xlink:href=\"#m99eaf96f29\" y=\"73.489576\"/>\n",
       "     <use style=\"fill:#1f77b4;stroke:#1f77b4;\" x=\"110.074485\" xlink:href=\"#m99eaf96f29\" y=\"64.096156\"/>\n",
       "     <use style=\"fill:#1f77b4;stroke:#1f77b4;\" x=\"123.697148\" xlink:href=\"#m99eaf96f29\" y=\"61.542807\"/>\n",
       "     <use style=\"fill:#1f77b4;stroke:#1f77b4;\" x=\"104.776822\" xlink:href=\"#m99eaf96f29\" y=\"61.48054\"/>\n",
       "     <use style=\"fill:#1f77b4;stroke:#1f77b4;\" x=\"171.677584\" xlink:href=\"#m99eaf96f29\" y=\"96.877594\"/>\n",
       "     <use style=\"fill:#1f77b4;stroke:#1f77b4;\" x=\"116.111107\" xlink:href=\"#m99eaf96f29\" y=\"61.916718\"/>\n",
       "     <use style=\"fill:#1f77b4;stroke:#1f77b4;\" x=\"162.679378\" xlink:href=\"#m99eaf96f29\" y=\"91.161219\"/>\n",
       "     <use style=\"fill:#1f77b4;stroke:#1f77b4;\" x=\"154.5238\" xlink:href=\"#m99eaf96f29\" y=\"68.682689\"/>\n",
       "     <use style=\"fill:#1f77b4;stroke:#1f77b4;\" x=\"139.887544\" xlink:href=\"#m99eaf96f29\" y=\"65.67144\"/>\n",
       "     <use style=\"fill:#1f77b4;stroke:#1f77b4;\" x=\"124.480899\" xlink:href=\"#m99eaf96f29\" y=\"62.501988\"/>\n",
       "     <use style=\"fill:#1f77b4;stroke:#1f77b4;\" x=\"146.489594\" xlink:href=\"#m99eaf96f29\" y=\"67.726705\"/>\n",
       "     <use style=\"fill:#1f77b4;stroke:#1f77b4;\" x=\"158.848102\" xlink:href=\"#m99eaf96f29\" y=\"79.305659\"/>\n",
       "     <use style=\"fill:#1f77b4;stroke:#1f77b4;\" x=\"133.750835\" xlink:href=\"#m99eaf96f29\" y=\"72.237692\"/>\n",
       "     <use style=\"fill:#1f77b4;stroke:#1f77b4;\" x=\"117.843819\" xlink:href=\"#m99eaf96f29\" y=\"79.315287\"/>\n",
       "     <use style=\"fill:#1f77b4;stroke:#1f77b4;\" x=\"137.574922\" xlink:href=\"#m99eaf96f29\" y=\"63.471741\"/>\n",
       "     <use style=\"fill:#1f77b4;stroke:#1f77b4;\" x=\"115.026176\" xlink:href=\"#m99eaf96f29\" y=\"67.383075\"/>\n",
       "     <use style=\"fill:#1f77b4;stroke:#1f77b4;\" x=\"127.815944\" xlink:href=\"#m99eaf96f29\" y=\"64.770588\"/>\n",
       "     <use style=\"fill:#1f77b4;stroke:#1f77b4;\" x=\"153.356259\" xlink:href=\"#m99eaf96f29\" y=\"78.898003\"/>\n",
       "     <use style=\"fill:#1f77b4;stroke:#1f77b4;\" x=\"154.938795\" xlink:href=\"#m99eaf96f29\" y=\"64.309516\"/>\n",
       "     <use style=\"fill:#1f77b4;stroke:#1f77b4;\" x=\"125.741519\" xlink:href=\"#m99eaf96f29\" y=\"48.468177\"/>\n",
       "     <use style=\"fill:#1f77b4;stroke:#1f77b4;\" x=\"140.382495\" xlink:href=\"#m99eaf96f29\" y=\"69.093921\"/>\n",
       "     <use style=\"fill:#1f77b4;stroke:#1f77b4;\" x=\"117.129864\" xlink:href=\"#m99eaf96f29\" y=\"57.458482\"/>\n",
       "     <use style=\"fill:#1f77b4;stroke:#1f77b4;\" x=\"144.941868\" xlink:href=\"#m99eaf96f29\" y=\"66.581313\"/>\n",
       "     <use style=\"fill:#1f77b4;stroke:#1f77b4;\" x=\"156.5625\" xlink:href=\"#m99eaf96f29\" y=\"82.957409\"/>\n",
       "     <use style=\"fill:#1f77b4;stroke:#1f77b4;\" x=\"113.822793\" xlink:href=\"#m99eaf96f29\" y=\"54.579445\"/>\n",
       "     <use style=\"fill:#1f77b4;stroke:#1f77b4;\" x=\"134.025019\" xlink:href=\"#m99eaf96f29\" y=\"62.25957\"/>\n",
       "     <use style=\"fill:#1f77b4;stroke:#1f77b4;\" x=\"172.66368\" xlink:href=\"#m99eaf96f29\" y=\"92.305044\"/>\n",
       "     <use style=\"fill:#1f77b4;stroke:#1f77b4;\" x=\"81.958168\" xlink:href=\"#m99eaf96f29\" y=\"41.593668\"/>\n",
       "     <use style=\"fill:#1f77b4;stroke:#1f77b4;\" x=\"154.440246\" xlink:href=\"#m99eaf96f29\" y=\"80.525459\"/>\n",
       "     <use style=\"fill:#1f77b4;stroke:#1f77b4;\" x=\"170.496572\" xlink:href=\"#m99eaf96f29\" y=\"90.440941\"/>\n",
       "     <use style=\"fill:#1f77b4;stroke:#1f77b4;\" x=\"96.619175\" xlink:href=\"#m99eaf96f29\" y=\"53.081525\"/>\n",
       "     <use style=\"fill:#1f77b4;stroke:#1f77b4;\" x=\"97.850524\" xlink:href=\"#m99eaf96f29\" y=\"52.619979\"/>\n",
       "     <use style=\"fill:#1f77b4;stroke:#1f77b4;\" x=\"113.022982\" xlink:href=\"#m99eaf96f29\" y=\"63.484344\"/>\n",
       "     <use style=\"fill:#1f77b4;stroke:#1f77b4;\" x=\"130.955808\" xlink:href=\"#m99eaf96f29\" y=\"59.677094\"/>\n",
       "     <use style=\"fill:#1f77b4;stroke:#1f77b4;\" x=\"91.372364\" xlink:href=\"#m99eaf96f29\" y=\"44.022445\"/>\n",
       "     <use style=\"fill:#1f77b4;stroke:#1f77b4;\" x=\"105.705076\" xlink:href=\"#m99eaf96f29\" y=\"56.144071\"/>\n",
       "     <use style=\"fill:#1f77b4;stroke:#1f77b4;\" x=\"129.744608\" xlink:href=\"#m99eaf96f29\" y=\"66.963527\"/>\n",
       "     <use style=\"fill:#1f77b4;stroke:#1f77b4;\" x=\"158.451916\" xlink:href=\"#m99eaf96f29\" y=\"91.746072\"/>\n",
       "     <use style=\"fill:#1f77b4;stroke:#1f77b4;\" x=\"105.401171\" xlink:href=\"#m99eaf96f29\" y=\"42.917244\"/>\n",
       "     <use style=\"fill:#1f77b4;stroke:#1f77b4;\" x=\"110.221204\" xlink:href=\"#m99eaf96f29\" y=\"44.548309\"/>\n",
       "     <use style=\"fill:#1f77b4;stroke:#1f77b4;\" x=\"110.397364\" xlink:href=\"#m99eaf96f29\" y=\"65.722327\"/>\n",
       "     <use style=\"fill:#1f77b4;stroke:#1f77b4;\" x=\"184.902452\" xlink:href=\"#m99eaf96f29\" y=\"103.531179\"/>\n",
       "     <use style=\"fill:#1f77b4;stroke:#1f77b4;\" x=\"89.264055\" xlink:href=\"#m99eaf96f29\" y=\"56.09941\"/>\n",
       "     <use style=\"fill:#1f77b4;stroke:#1f77b4;\" x=\"136.621646\" xlink:href=\"#m99eaf96f29\" y=\"73.768391\"/>\n",
       "     <use style=\"fill:#1f77b4;stroke:#1f77b4;\" x=\"165.325769\" xlink:href=\"#m99eaf96f29\" y=\"99.538723\"/>\n",
       "     <use style=\"fill:#1f77b4;stroke:#1f77b4;\" x=\"167.210802\" xlink:href=\"#m99eaf96f29\" y=\"87.995574\"/>\n",
       "     <use style=\"fill:#1f77b4;stroke:#1f77b4;\" x=\"85.199007\" xlink:href=\"#m99eaf96f29\" y=\"48.945499\"/>\n",
       "     <use style=\"fill:#1f77b4;stroke:#1f77b4;\" x=\"160.544619\" xlink:href=\"#m99eaf96f29\" y=\"77.673278\"/>\n",
       "     <use style=\"fill:#1f77b4;stroke:#1f77b4;\" x=\"122.244319\" xlink:href=\"#m99eaf96f29\" y=\"55.286227\"/>\n",
       "     <use style=\"fill:#1f77b4;stroke:#1f77b4;\" x=\"142.388039\" xlink:href=\"#m99eaf96f29\" y=\"67.319879\"/>\n",
       "     <use style=\"fill:#1f77b4;stroke:#1f77b4;\" x=\"127.069769\" xlink:href=\"#m99eaf96f29\" y=\"60.71171\"/>\n",
       "     <use style=\"fill:#1f77b4;stroke:#1f77b4;\" x=\"124.987499\" xlink:href=\"#m99eaf96f29\" y=\"70.031355\"/>\n",
       "     <use style=\"fill:#1f77b4;stroke:#1f77b4;\" x=\"138.085429\" xlink:href=\"#m99eaf96f29\" y=\"71.250049\"/>\n",
       "     <use style=\"fill:#1f77b4;stroke:#1f77b4;\" x=\"124.576429\" xlink:href=\"#m99eaf96f29\" y=\"73.393913\"/>\n",
       "     <use style=\"fill:#1f77b4;stroke:#1f77b4;\" x=\"152.028538\" xlink:href=\"#m99eaf96f29\" y=\"74.487769\"/>\n",
       "     <use style=\"fill:#1f77b4;stroke:#1f77b4;\" x=\"141.993029\" xlink:href=\"#m99eaf96f29\" y=\"67.751859\"/>\n",
       "     <use style=\"fill:#1f77b4;stroke:#1f77b4;\" x=\"142.419232\" xlink:href=\"#m99eaf96f29\" y=\"69.681059\"/>\n",
       "     <use style=\"fill:#1f77b4;stroke:#1f77b4;\" x=\"123.691383\" xlink:href=\"#m99eaf96f29\" y=\"69.367506\"/>\n",
       "     <use style=\"fill:#1f77b4;stroke:#1f77b4;\" x=\"110.604375\" xlink:href=\"#m99eaf96f29\" y=\"56.657473\"/>\n",
       "     <use style=\"fill:#1f77b4;stroke:#1f77b4;\" x=\"74.453116\" xlink:href=\"#m99eaf96f29\" y=\"34.101491\"/>\n",
       "     <use style=\"fill:#1f77b4;stroke:#1f77b4;\" x=\"125.533453\" xlink:href=\"#m99eaf96f29\" y=\"57.760099\"/>\n",
       "     <use style=\"fill:#1f77b4;stroke:#1f77b4;\" x=\"188.434912\" xlink:href=\"#m99eaf96f29\" y=\"101.21338\"/>\n",
       "     <use style=\"fill:#1f77b4;stroke:#1f77b4;\" x=\"125.378607\" xlink:href=\"#m99eaf96f29\" y=\"57.929827\"/>\n",
       "     <use style=\"fill:#1f77b4;stroke:#1f77b4;\" x=\"132.210385\" xlink:href=\"#m99eaf96f29\" y=\"53.102929\"/>\n",
       "     <use style=\"fill:#1f77b4;stroke:#1f77b4;\" x=\"130.728193\" xlink:href=\"#m99eaf96f29\" y=\"67.718044\"/>\n",
       "     <use style=\"fill:#1f77b4;stroke:#1f77b4;\" x=\"130.507284\" xlink:href=\"#m99eaf96f29\" y=\"79.996638\"/>\n",
       "     <use style=\"fill:#1f77b4;stroke:#1f77b4;\" x=\"120.702987\" xlink:href=\"#m99eaf96f29\" y=\"64.094153\"/>\n",
       "     <use style=\"fill:#1f77b4;stroke:#1f77b4;\" x=\"146.387544\" xlink:href=\"#m99eaf96f29\" y=\"72.855515\"/>\n",
       "     <use style=\"fill:#1f77b4;stroke:#1f77b4;\" x=\"189.722161\" xlink:href=\"#m99eaf96f29\" y=\"106.77115\"/>\n",
       "     <use style=\"fill:#1f77b4;stroke:#1f77b4;\" x=\"86.341236\" xlink:href=\"#m99eaf96f29\" y=\"47.797669\"/>\n",
       "     <use style=\"fill:#1f77b4;stroke:#1f77b4;\" x=\"165.249306\" xlink:href=\"#m99eaf96f29\" y=\"84.991319\"/>\n",
       "     <use style=\"fill:#1f77b4;stroke:#1f77b4;\" x=\"140.237005\" xlink:href=\"#m99eaf96f29\" y=\"61.361673\"/>\n",
       "     <use style=\"fill:#1f77b4;stroke:#1f77b4;\" x=\"99.785392\" xlink:href=\"#m99eaf96f29\" y=\"50.812669\"/>\n",
       "     <use style=\"fill:#1f77b4;stroke:#1f77b4;\" x=\"162.1691\" xlink:href=\"#m99eaf96f29\" y=\"94.457015\"/>\n",
       "     <use style=\"fill:#1f77b4;stroke:#1f77b4;\" x=\"125.140088\" xlink:href=\"#m99eaf96f29\" y=\"72.631408\"/>\n",
       "     <use style=\"fill:#1f77b4;stroke:#1f77b4;\" x=\"113.35287\" xlink:href=\"#m99eaf96f29\" y=\"66.336962\"/>\n",
       "     <use style=\"fill:#1f77b4;stroke:#1f77b4;\" x=\"149.473618\" xlink:href=\"#m99eaf96f29\" y=\"82.949147\"/>\n",
       "     <use style=\"fill:#1f77b4;stroke:#1f77b4;\" x=\"118.150184\" xlink:href=\"#m99eaf96f29\" y=\"56.941317\"/>\n",
       "     <use style=\"fill:#1f77b4;stroke:#1f77b4;\" x=\"79.996262\" xlink:href=\"#m99eaf96f29\" y=\"44.000722\"/>\n",
       "     <use style=\"fill:#1f77b4;stroke:#1f77b4;\" x=\"68.22958\" xlink:href=\"#m99eaf96f29\" y=\"35.567686\"/>\n",
       "     <use style=\"fill:#1f77b4;stroke:#1f77b4;\" x=\"97.452284\" xlink:href=\"#m99eaf96f29\" y=\"47.367082\"/>\n",
       "     <use style=\"fill:#1f77b4;stroke:#1f77b4;\" x=\"145.498519\" xlink:href=\"#m99eaf96f29\" y=\"59.674309\"/>\n",
       "     <use style=\"fill:#1f77b4;stroke:#1f77b4;\" x=\"153.499709\" xlink:href=\"#m99eaf96f29\" y=\"83.894267\"/>\n",
       "     <use style=\"fill:#1f77b4;stroke:#1f77b4;\" x=\"154.743511\" xlink:href=\"#m99eaf96f29\" y=\"92.475187\"/>\n",
       "     <use style=\"fill:#1f77b4;stroke:#1f77b4;\" x=\"105.143905\" xlink:href=\"#m99eaf96f29\" y=\"55.006818\"/>\n",
       "     <use style=\"fill:#1f77b4;stroke:#1f77b4;\" x=\"126.394192\" xlink:href=\"#m99eaf96f29\" y=\"82.210295\"/>\n",
       "     <use style=\"fill:#1f77b4;stroke:#1f77b4;\" x=\"128.737007\" xlink:href=\"#m99eaf96f29\" y=\"73.583258\"/>\n",
       "     <use style=\"fill:#1f77b4;stroke:#1f77b4;\" x=\"109.985785\" xlink:href=\"#m99eaf96f29\" y=\"47.641459\"/>\n",
       "     <use style=\"fill:#1f77b4;stroke:#1f77b4;\" x=\"170.441376\" xlink:href=\"#m99eaf96f29\" y=\"87.793404\"/>\n",
       "     <use style=\"fill:#1f77b4;stroke:#1f77b4;\" x=\"122.230601\" xlink:href=\"#m99eaf96f29\" y=\"43.908353\"/>\n",
       "     <use style=\"fill:#1f77b4;stroke:#1f77b4;\" x=\"116.028387\" xlink:href=\"#m99eaf96f29\" y=\"58.407248\"/>\n",
       "     <use style=\"fill:#1f77b4;stroke:#1f77b4;\" x=\"110.284098\" xlink:href=\"#m99eaf96f29\" y=\"61.834165\"/>\n",
       "     <use style=\"fill:#1f77b4;stroke:#1f77b4;\" x=\"122.501776\" xlink:href=\"#m99eaf96f29\" y=\"77.677178\"/>\n",
       "     <use style=\"fill:#1f77b4;stroke:#1f77b4;\" x=\"133.20438\" xlink:href=\"#m99eaf96f29\" y=\"61.796567\"/>\n",
       "     <use style=\"fill:#1f77b4;stroke:#1f77b4;\" x=\"115.577549\" xlink:href=\"#m99eaf96f29\" y=\"46.033809\"/>\n",
       "     <use style=\"fill:#1f77b4;stroke:#1f77b4;\" x=\"137.348879\" xlink:href=\"#m99eaf96f29\" y=\"68.049187\"/>\n",
       "     <use style=\"fill:#1f77b4;stroke:#1f77b4;\" x=\"131.007269\" xlink:href=\"#m99eaf96f29\" y=\"53.821216\"/>\n",
       "     <use style=\"fill:#1f77b4;stroke:#1f77b4;\" x=\"108.958626\" xlink:href=\"#m99eaf96f29\" y=\"66.503967\"/>\n",
       "     <use style=\"fill:#1f77b4;stroke:#1f77b4;\" x=\"128.068403\" xlink:href=\"#m99eaf96f29\" y=\"70.085716\"/>\n",
       "     <use style=\"fill:#1f77b4;stroke:#1f77b4;\" x=\"179.990459\" xlink:href=\"#m99eaf96f29\" y=\"81.179612\"/>\n",
       "     <use style=\"fill:#1f77b4;stroke:#1f77b4;\" x=\"120.153429\" xlink:href=\"#m99eaf96f29\" y=\"56.363848\"/>\n",
       "     <use style=\"fill:#1f77b4;stroke:#1f77b4;\" x=\"178.663205\" xlink:href=\"#m99eaf96f29\" y=\"72.681581\"/>\n",
       "     <use style=\"fill:#1f77b4;stroke:#1f77b4;\" x=\"117.54335\" xlink:href=\"#m99eaf96f29\" y=\"56.03443\"/>\n",
       "     <use style=\"fill:#1f77b4;stroke:#1f77b4;\" x=\"175.613745\" xlink:href=\"#m99eaf96f29\" y=\"89.594491\"/>\n",
       "     <use style=\"fill:#1f77b4;stroke:#1f77b4;\" x=\"130.407701\" xlink:href=\"#m99eaf96f29\" y=\"61.917927\"/>\n",
       "     <use style=\"fill:#1f77b4;stroke:#1f77b4;\" x=\"136.713703\" xlink:href=\"#m99eaf96f29\" y=\"63.540148\"/>\n",
       "     <use style=\"fill:#1f77b4;stroke:#1f77b4;\" x=\"155.606515\" xlink:href=\"#m99eaf96f29\" y=\"77.901958\"/>\n",
       "     <use style=\"fill:#1f77b4;stroke:#1f77b4;\" x=\"113.208106\" xlink:href=\"#m99eaf96f29\" y=\"59.990179\"/>\n",
       "     <use style=\"fill:#1f77b4;stroke:#1f77b4;\" x=\"148.071649\" xlink:href=\"#m99eaf96f29\" y=\"70.688448\"/>\n",
       "     <use style=\"fill:#1f77b4;stroke:#1f77b4;\" x=\"132.271609\" xlink:href=\"#m99eaf96f29\" y=\"73.677693\"/>\n",
       "     <use style=\"fill:#1f77b4;stroke:#1f77b4;\" x=\"124.214167\" xlink:href=\"#m99eaf96f29\" y=\"63.283957\"/>\n",
       "     <use style=\"fill:#1f77b4;stroke:#1f77b4;\" x=\"89.326122\" xlink:href=\"#m99eaf96f29\" y=\"46.822329\"/>\n",
       "     <use style=\"fill:#1f77b4;stroke:#1f77b4;\" x=\"155.817135\" xlink:href=\"#m99eaf96f29\" y=\"58.834089\"/>\n",
       "     <use style=\"fill:#1f77b4;stroke:#1f77b4;\" x=\"122.599415\" xlink:href=\"#m99eaf96f29\" y=\"62.254734\"/>\n",
       "     <use style=\"fill:#1f77b4;stroke:#1f77b4;\" x=\"162.308629\" xlink:href=\"#m99eaf96f29\" y=\"79.743937\"/>\n",
       "     <use style=\"fill:#1f77b4;stroke:#1f77b4;\" x=\"144.43919\" xlink:href=\"#m99eaf96f29\" y=\"69.768427\"/>\n",
       "     <use style=\"fill:#1f77b4;stroke:#1f77b4;\" x=\"140.4327\" xlink:href=\"#m99eaf96f29\" y=\"65.695637\"/>\n",
       "     <use style=\"fill:#1f77b4;stroke:#1f77b4;\" x=\"101.616489\" xlink:href=\"#m99eaf96f29\" y=\"33.18087\"/>\n",
       "     <use style=\"fill:#1f77b4;stroke:#1f77b4;\" x=\"142.688787\" xlink:href=\"#m99eaf96f29\" y=\"65.828588\"/>\n",
       "     <use style=\"fill:#1f77b4;stroke:#1f77b4;\" x=\"147.024417\" xlink:href=\"#m99eaf96f29\" y=\"79.145063\"/>\n",
       "     <use style=\"fill:#1f77b4;stroke:#1f77b4;\" x=\"123.463482\" xlink:href=\"#m99eaf96f29\" y=\"63.092174\"/>\n",
       "     <use style=\"fill:#1f77b4;stroke:#1f77b4;\" x=\"156.471004\" xlink:href=\"#m99eaf96f29\" y=\"81.059033\"/>\n",
       "     <use style=\"fill:#1f77b4;stroke:#1f77b4;\" x=\"163.114563\" xlink:href=\"#m99eaf96f29\" y=\"91.689279\"/>\n",
       "     <use style=\"fill:#1f77b4;stroke:#1f77b4;\" x=\"115.06327\" xlink:href=\"#m99eaf96f29\" y=\"57.024363\"/>\n",
       "     <use style=\"fill:#1f77b4;stroke:#1f77b4;\" x=\"139.115291\" xlink:href=\"#m99eaf96f29\" y=\"57.15088\"/>\n",
       "     <use style=\"fill:#1f77b4;stroke:#1f77b4;\" x=\"152.870571\" xlink:href=\"#m99eaf96f29\" y=\"97.672956\"/>\n",
       "     <use style=\"fill:#1f77b4;stroke:#1f77b4;\" x=\"131.034465\" xlink:href=\"#m99eaf96f29\" y=\"78.498268\"/>\n",
       "     <use style=\"fill:#1f77b4;stroke:#1f77b4;\" x=\"157.375113\" xlink:href=\"#m99eaf96f29\" y=\"77.749221\"/>\n",
       "     <use style=\"fill:#1f77b4;stroke:#1f77b4;\" x=\"117.297259\" xlink:href=\"#m99eaf96f29\" y=\"44.112346\"/>\n",
       "     <use style=\"fill:#1f77b4;stroke:#1f77b4;\" x=\"166.990118\" xlink:href=\"#m99eaf96f29\" y=\"80.911952\"/>\n",
       "     <use style=\"fill:#1f77b4;stroke:#1f77b4;\" x=\"122.302425\" xlink:href=\"#m99eaf96f29\" y=\"67.568783\"/>\n",
       "     <use style=\"fill:#1f77b4;stroke:#1f77b4;\" x=\"121.313188\" xlink:href=\"#m99eaf96f29\" y=\"56.666245\"/>\n",
       "     <use style=\"fill:#1f77b4;stroke:#1f77b4;\" x=\"98.907874\" xlink:href=\"#m99eaf96f29\" y=\"43.996538\"/>\n",
       "     <use style=\"fill:#1f77b4;stroke:#1f77b4;\" x=\"125.234919\" xlink:href=\"#m99eaf96f29\" y=\"83.516361\"/>\n",
       "     <use style=\"fill:#1f77b4;stroke:#1f77b4;\" x=\"128.826026\" xlink:href=\"#m99eaf96f29\" y=\"57.059118\"/>\n",
       "     <use style=\"fill:#1f77b4;stroke:#1f77b4;\" x=\"148.947358\" xlink:href=\"#m99eaf96f29\" y=\"66.221847\"/>\n",
       "     <use style=\"fill:#1f77b4;stroke:#1f77b4;\" x=\"103.216045\" xlink:href=\"#m99eaf96f29\" y=\"54.63058\"/>\n",
       "     <use style=\"fill:#1f77b4;stroke:#1f77b4;\" x=\"146.505172\" xlink:href=\"#m99eaf96f29\" y=\"67.45073\"/>\n",
       "     <use style=\"fill:#1f77b4;stroke:#1f77b4;\" x=\"121.948105\" xlink:href=\"#m99eaf96f29\" y=\"62.248092\"/>\n",
       "     <use style=\"fill:#1f77b4;stroke:#1f77b4;\" x=\"118.438002\" xlink:href=\"#m99eaf96f29\" y=\"55.833226\"/>\n",
       "     <use style=\"fill:#1f77b4;stroke:#1f77b4;\" x=\"105.79764\" xlink:href=\"#m99eaf96f29\" y=\"44.670029\"/>\n",
       "     <use style=\"fill:#1f77b4;stroke:#1f77b4;\" x=\"77.175049\" xlink:href=\"#m99eaf96f29\" y=\"43.230876\"/>\n",
       "     <use style=\"fill:#1f77b4;stroke:#1f77b4;\" x=\"140.989126\" xlink:href=\"#m99eaf96f29\" y=\"69.670669\"/>\n",
       "     <use style=\"fill:#1f77b4;stroke:#1f77b4;\" x=\"178.275735\" xlink:href=\"#m99eaf96f29\" y=\"92.867806\"/>\n",
       "     <use style=\"fill:#1f77b4;stroke:#1f77b4;\" x=\"165.540582\" xlink:href=\"#m99eaf96f29\" y=\"97.893357\"/>\n",
       "     <use style=\"fill:#1f77b4;stroke:#1f77b4;\" x=\"144.73152\" xlink:href=\"#m99eaf96f29\" y=\"82.393087\"/>\n",
       "     <use style=\"fill:#1f77b4;stroke:#1f77b4;\" x=\"166.495895\" xlink:href=\"#m99eaf96f29\" y=\"91.491525\"/>\n",
       "     <use style=\"fill:#1f77b4;stroke:#1f77b4;\" x=\"163.300406\" xlink:href=\"#m99eaf96f29\" y=\"80.498762\"/>\n",
       "     <use style=\"fill:#1f77b4;stroke:#1f77b4;\" x=\"129.253628\" xlink:href=\"#m99eaf96f29\" y=\"71.073494\"/>\n",
       "     <use style=\"fill:#1f77b4;stroke:#1f77b4;\" x=\"109.381977\" xlink:href=\"#m99eaf96f29\" y=\"58.36251\"/>\n",
       "     <use style=\"fill:#1f77b4;stroke:#1f77b4;\" x=\"162.05728\" xlink:href=\"#m99eaf96f29\" y=\"93.062321\"/>\n",
       "     <use style=\"fill:#1f77b4;stroke:#1f77b4;\" x=\"162.08946\" xlink:href=\"#m99eaf96f29\" y=\"79.349117\"/>\n",
       "     <use style=\"fill:#1f77b4;stroke:#1f77b4;\" x=\"144.480551\" xlink:href=\"#m99eaf96f29\" y=\"71.804005\"/>\n",
       "     <use style=\"fill:#1f77b4;stroke:#1f77b4;\" x=\"136.909952\" xlink:href=\"#m99eaf96f29\" y=\"62.238402\"/>\n",
       "     <use style=\"fill:#1f77b4;stroke:#1f77b4;\" x=\"103.446858\" xlink:href=\"#m99eaf96f29\" y=\"58.176014\"/>\n",
       "     <use style=\"fill:#1f77b4;stroke:#1f77b4;\" x=\"154.148228\" xlink:href=\"#m99eaf96f29\" y=\"84.988635\"/>\n",
       "     <use style=\"fill:#1f77b4;stroke:#1f77b4;\" x=\"132.353471\" xlink:href=\"#m99eaf96f29\" y=\"85.251697\"/>\n",
       "     <use style=\"fill:#1f77b4;stroke:#1f77b4;\" x=\"80.719049\" xlink:href=\"#m99eaf96f29\" y=\"42.165252\"/>\n",
       "     <use style=\"fill:#1f77b4;stroke:#1f77b4;\" x=\"163.97468\" xlink:href=\"#m99eaf96f29\" y=\"97.810641\"/>\n",
       "     <use style=\"fill:#1f77b4;stroke:#1f77b4;\" x=\"150.389958\" xlink:href=\"#m99eaf96f29\" y=\"62.966189\"/>\n",
       "     <use style=\"fill:#1f77b4;stroke:#1f77b4;\" x=\"104.395193\" xlink:href=\"#m99eaf96f29\" y=\"57.082246\"/>\n",
       "     <use style=\"fill:#1f77b4;stroke:#1f77b4;\" x=\"168.196008\" xlink:href=\"#m99eaf96f29\" y=\"88.614707\"/>\n",
       "     <use style=\"fill:#1f77b4;stroke:#1f77b4;\" x=\"119.806089\" xlink:href=\"#m99eaf96f29\" y=\"47.862896\"/>\n",
       "     <use style=\"fill:#1f77b4;stroke:#1f77b4;\" x=\"89.190867\" xlink:href=\"#m99eaf96f29\" y=\"45.730253\"/>\n",
       "     <use style=\"fill:#1f77b4;stroke:#1f77b4;\" x=\"136.451497\" xlink:href=\"#m99eaf96f29\" y=\"71.469101\"/>\n",
       "     <use style=\"fill:#1f77b4;stroke:#1f77b4;\" x=\"112.072896\" xlink:href=\"#m99eaf96f29\" y=\"55.524867\"/>\n",
       "     <use style=\"fill:#1f77b4;stroke:#1f77b4;\" x=\"130.591914\" xlink:href=\"#m99eaf96f29\" y=\"76.224292\"/>\n",
       "     <use style=\"fill:#1f77b4;stroke:#1f77b4;\" x=\"108.922535\" xlink:href=\"#m99eaf96f29\" y=\"64.444467\"/>\n",
       "     <use style=\"fill:#1f77b4;stroke:#1f77b4;\" x=\"89.063074\" xlink:href=\"#m99eaf96f29\" y=\"58.415403\"/>\n",
       "     <use style=\"fill:#1f77b4;stroke:#1f77b4;\" x=\"171.83454\" xlink:href=\"#m99eaf96f29\" y=\"91.718958\"/>\n",
       "     <use style=\"fill:#1f77b4;stroke:#1f77b4;\" x=\"159.586526\" xlink:href=\"#m99eaf96f29\" y=\"72.957006\"/>\n",
       "     <use style=\"fill:#1f77b4;stroke:#1f77b4;\" x=\"101.435395\" xlink:href=\"#m99eaf96f29\" y=\"48.362948\"/>\n",
       "     <use style=\"fill:#1f77b4;stroke:#1f77b4;\" x=\"115.269258\" xlink:href=\"#m99eaf96f29\" y=\"77.736645\"/>\n",
       "     <use style=\"fill:#1f77b4;stroke:#1f77b4;\" x=\"88.069018\" xlink:href=\"#m99eaf96f29\" y=\"43.687853\"/>\n",
       "     <use style=\"fill:#1f77b4;stroke:#1f77b4;\" x=\"148.0305\" xlink:href=\"#m99eaf96f29\" y=\"80.426071\"/>\n",
       "     <use style=\"fill:#1f77b4;stroke:#1f77b4;\" x=\"91.255094\" xlink:href=\"#m99eaf96f29\" y=\"45.622445\"/>\n",
       "     <use style=\"fill:#1f77b4;stroke:#1f77b4;\" x=\"142.753555\" xlink:href=\"#m99eaf96f29\" y=\"54.33848\"/>\n",
       "     <use style=\"fill:#1f77b4;stroke:#1f77b4;\" x=\"175.034663\" xlink:href=\"#m99eaf96f29\" y=\"81.424243\"/>\n",
       "     <use style=\"fill:#1f77b4;stroke:#1f77b4;\" x=\"174.37981\" xlink:href=\"#m99eaf96f29\" y=\"88.431784\"/>\n",
       "     <use style=\"fill:#1f77b4;stroke:#1f77b4;\" x=\"155.017299\" xlink:href=\"#m99eaf96f29\" y=\"83.119229\"/>\n",
       "     <use style=\"fill:#1f77b4;stroke:#1f77b4;\" x=\"103.184528\" xlink:href=\"#m99eaf96f29\" y=\"45.373302\"/>\n",
       "     <use style=\"fill:#1f77b4;stroke:#1f77b4;\" x=\"96.451085\" xlink:href=\"#m99eaf96f29\" y=\"52.546844\"/>\n",
       "     <use style=\"fill:#1f77b4;stroke:#1f77b4;\" x=\"91.165322\" xlink:href=\"#m99eaf96f29\" y=\"48.33157\"/>\n",
       "     <use style=\"fill:#1f77b4;stroke:#1f77b4;\" x=\"141.890361\" xlink:href=\"#m99eaf96f29\" y=\"80.053504\"/>\n",
       "     <use style=\"fill:#1f77b4;stroke:#1f77b4;\" x=\"167.979738\" xlink:href=\"#m99eaf96f29\" y=\"81.244646\"/>\n",
       "     <use style=\"fill:#1f77b4;stroke:#1f77b4;\" x=\"173.771823\" xlink:href=\"#m99eaf96f29\" y=\"85.845767\"/>\n",
       "     <use style=\"fill:#1f77b4;stroke:#1f77b4;\" x=\"140.750486\" xlink:href=\"#m99eaf96f29\" y=\"78.759792\"/>\n",
       "     <use style=\"fill:#1f77b4;stroke:#1f77b4;\" x=\"149.350641\" xlink:href=\"#m99eaf96f29\" y=\"85.067241\"/>\n",
       "     <use style=\"fill:#1f77b4;stroke:#1f77b4;\" x=\"110.85559\" xlink:href=\"#m99eaf96f29\" y=\"63.62579\"/>\n",
       "     <use style=\"fill:#1f77b4;stroke:#1f77b4;\" x=\"116.990481\" xlink:href=\"#m99eaf96f29\" y=\"55.857669\"/>\n",
       "     <use style=\"fill:#1f77b4;stroke:#1f77b4;\" x=\"164.620814\" xlink:href=\"#m99eaf96f29\" y=\"88.168496\"/>\n",
       "     <use style=\"fill:#1f77b4;stroke:#1f77b4;\" x=\"124.918284\" xlink:href=\"#m99eaf96f29\" y=\"64.898279\"/>\n",
       "     <use style=\"fill:#1f77b4;stroke:#1f77b4;\" x=\"118.94915\" xlink:href=\"#m99eaf96f29\" y=\"62.510054\"/>\n",
       "     <use style=\"fill:#1f77b4;stroke:#1f77b4;\" x=\"106.34785\" xlink:href=\"#m99eaf96f29\" y=\"48.265992\"/>\n",
       "     <use style=\"fill:#1f77b4;stroke:#1f77b4;\" x=\"117.803146\" xlink:href=\"#m99eaf96f29\" y=\"66.496988\"/>\n",
       "     <use style=\"fill:#1f77b4;stroke:#1f77b4;\" x=\"95.997763\" xlink:href=\"#m99eaf96f29\" y=\"41.075882\"/>\n",
       "     <use style=\"fill:#1f77b4;stroke:#1f77b4;\" x=\"140.484384\" xlink:href=\"#m99eaf96f29\" y=\"73.850703\"/>\n",
       "     <use style=\"fill:#1f77b4;stroke:#1f77b4;\" x=\"121.11279\" xlink:href=\"#m99eaf96f29\" y=\"52.691478\"/>\n",
       "     <use style=\"fill:#1f77b4;stroke:#1f77b4;\" x=\"181.192601\" xlink:href=\"#m99eaf96f29\" y=\"94.781621\"/>\n",
       "     <use style=\"fill:#1f77b4;stroke:#1f77b4;\" x=\"151.361516\" xlink:href=\"#m99eaf96f29\" y=\"68.276584\"/>\n",
       "     <use style=\"fill:#1f77b4;stroke:#1f77b4;\" x=\"146.614445\" xlink:href=\"#m99eaf96f29\" y=\"68.258186\"/>\n",
       "     <use style=\"fill:#1f77b4;stroke:#1f77b4;\" x=\"133.6245\" xlink:href=\"#m99eaf96f29\" y=\"74.857888\"/>\n",
       "     <use style=\"fill:#1f77b4;stroke:#1f77b4;\" x=\"109.927918\" xlink:href=\"#m99eaf96f29\" y=\"69.710754\"/>\n",
       "     <use style=\"fill:#1f77b4;stroke:#1f77b4;\" x=\"138.161986\" xlink:href=\"#m99eaf96f29\" y=\"55.408478\"/>\n",
       "     <use style=\"fill:#1f77b4;stroke:#1f77b4;\" x=\"157.049356\" xlink:href=\"#m99eaf96f29\" y=\"96.484521\"/>\n",
       "     <use style=\"fill:#1f77b4;stroke:#1f77b4;\" x=\"99.763565\" xlink:href=\"#m99eaf96f29\" y=\"46.033801\"/>\n",
       "     <use style=\"fill:#1f77b4;stroke:#1f77b4;\" x=\"133.211415\" xlink:href=\"#m99eaf96f29\" y=\"81.122688\"/>\n",
       "     <use style=\"fill:#1f77b4;stroke:#1f77b4;\" x=\"119.657638\" xlink:href=\"#m99eaf96f29\" y=\"71.047075\"/>\n",
       "     <use style=\"fill:#1f77b4;stroke:#1f77b4;\" x=\"130.536462\" xlink:href=\"#m99eaf96f29\" y=\"75.230892\"/>\n",
       "     <use style=\"fill:#1f77b4;stroke:#1f77b4;\" x=\"102.160866\" xlink:href=\"#m99eaf96f29\" y=\"52.332931\"/>\n",
       "     <use style=\"fill:#1f77b4;stroke:#1f77b4;\" x=\"144.961846\" xlink:href=\"#m99eaf96f29\" y=\"78.829162\"/>\n",
       "     <use style=\"fill:#1f77b4;stroke:#1f77b4;\" x=\"140.793122\" xlink:href=\"#m99eaf96f29\" y=\"77.130004\"/>\n",
       "     <use style=\"fill:#1f77b4;stroke:#1f77b4;\" x=\"171.540264\" xlink:href=\"#m99eaf96f29\" y=\"90.484004\"/>\n",
       "     <use style=\"fill:#1f77b4;stroke:#1f77b4;\" x=\"70.401608\" xlink:href=\"#m99eaf96f29\" y=\"47.257038\"/>\n",
       "     <use style=\"fill:#1f77b4;stroke:#1f77b4;\" x=\"126.494001\" xlink:href=\"#m99eaf96f29\" y=\"78.539554\"/>\n",
       "     <use style=\"fill:#1f77b4;stroke:#1f77b4;\" x=\"97.978908\" xlink:href=\"#m99eaf96f29\" y=\"50.899129\"/>\n",
       "     <use style=\"fill:#1f77b4;stroke:#1f77b4;\" x=\"91.426154\" xlink:href=\"#m99eaf96f29\" y=\"43.611159\"/>\n",
       "     <use style=\"fill:#1f77b4;stroke:#1f77b4;\" x=\"96.468919\" xlink:href=\"#m99eaf96f29\" y=\"47.934082\"/>\n",
       "     <use style=\"fill:#1f77b4;stroke:#1f77b4;\" x=\"145.551884\" xlink:href=\"#m99eaf96f29\" y=\"81.51972\"/>\n",
       "     <use style=\"fill:#1f77b4;stroke:#1f77b4;\" x=\"116.394644\" xlink:href=\"#m99eaf96f29\" y=\"63.058669\"/>\n",
       "     <use style=\"fill:#1f77b4;stroke:#1f77b4;\" x=\"174.127928\" xlink:href=\"#m99eaf96f29\" y=\"89.318988\"/>\n",
       "     <use style=\"fill:#1f77b4;stroke:#1f77b4;\" x=\"202.884229\" xlink:href=\"#m99eaf96f29\" y=\"115.648691\"/>\n",
       "     <use style=\"fill:#1f77b4;stroke:#1f77b4;\" x=\"174.899989\" xlink:href=\"#m99eaf96f29\" y=\"94.249047\"/>\n",
       "     <use style=\"fill:#1f77b4;stroke:#1f77b4;\" x=\"160.039949\" xlink:href=\"#m99eaf96f29\" y=\"81.417416\"/>\n",
       "     <use style=\"fill:#1f77b4;stroke:#1f77b4;\" x=\"139.189995\" xlink:href=\"#m99eaf96f29\" y=\"87.613913\"/>\n",
       "     <use style=\"fill:#1f77b4;stroke:#1f77b4;\" x=\"87.371343\" xlink:href=\"#m99eaf96f29\" y=\"34.475202\"/>\n",
       "     <use style=\"fill:#1f77b4;stroke:#1f77b4;\" x=\"145.950739\" xlink:href=\"#m99eaf96f29\" y=\"63.428367\"/>\n",
       "     <use style=\"fill:#1f77b4;stroke:#1f77b4;\" x=\"114.40492\" xlink:href=\"#m99eaf96f29\" y=\"52.28888\"/>\n",
       "     <use style=\"fill:#1f77b4;stroke:#1f77b4;\" x=\"162.933751\" xlink:href=\"#m99eaf96f29\" y=\"99.584657\"/>\n",
       "     <use style=\"fill:#1f77b4;stroke:#1f77b4;\" x=\"140.009482\" xlink:href=\"#m99eaf96f29\" y=\"76.603543\"/>\n",
       "     <use style=\"fill:#1f77b4;stroke:#1f77b4;\" x=\"105.016119\" xlink:href=\"#m99eaf96f29\" y=\"58.993838\"/>\n",
       "     <use style=\"fill:#1f77b4;stroke:#1f77b4;\" x=\"171.255345\" xlink:href=\"#m99eaf96f29\" y=\"97.675338\"/>\n",
       "     <use style=\"fill:#1f77b4;stroke:#1f77b4;\" x=\"128.143731\" xlink:href=\"#m99eaf96f29\" y=\"55.796571\"/>\n",
       "     <use style=\"fill:#1f77b4;stroke:#1f77b4;\" x=\"144.684158\" xlink:href=\"#m99eaf96f29\" y=\"77.565137\"/>\n",
       "     <use style=\"fill:#1f77b4;stroke:#1f77b4;\" x=\"140.711847\" xlink:href=\"#m99eaf96f29\" y=\"73.901826\"/>\n",
       "     <use style=\"fill:#1f77b4;stroke:#1f77b4;\" x=\"129.969058\" xlink:href=\"#m99eaf96f29\" y=\"81.013808\"/>\n",
       "     <use style=\"fill:#1f77b4;stroke:#1f77b4;\" x=\"177.350853\" xlink:href=\"#m99eaf96f29\" y=\"80.962362\"/>\n",
       "     <use style=\"fill:#1f77b4;stroke:#1f77b4;\" x=\"130.839909\" xlink:href=\"#m99eaf96f29\" y=\"67.120409\"/>\n",
       "     <use style=\"fill:#1f77b4;stroke:#1f77b4;\" x=\"114.564457\" xlink:href=\"#m99eaf96f29\" y=\"63.368767\"/>\n",
       "     <use style=\"fill:#1f77b4;stroke:#1f77b4;\" x=\"151.7252\" xlink:href=\"#m99eaf96f29\" y=\"80.205468\"/>\n",
       "     <use style=\"fill:#1f77b4;stroke:#1f77b4;\" x=\"105.726632\" xlink:href=\"#m99eaf96f29\" y=\"67.136341\"/>\n",
       "     <use style=\"fill:#1f77b4;stroke:#1f77b4;\" x=\"101.508505\" xlink:href=\"#m99eaf96f29\" y=\"49.334373\"/>\n",
       "     <use style=\"fill:#1f77b4;stroke:#1f77b4;\" x=\"126.408847\" xlink:href=\"#m99eaf96f29\" y=\"72.062105\"/>\n",
       "     <use style=\"fill:#1f77b4;stroke:#1f77b4;\" x=\"121.329318\" xlink:href=\"#m99eaf96f29\" y=\"72.854697\"/>\n",
       "     <use style=\"fill:#1f77b4;stroke:#1f77b4;\" x=\"93.11479\" xlink:href=\"#m99eaf96f29\" y=\"48.871826\"/>\n",
       "     <use style=\"fill:#1f77b4;stroke:#1f77b4;\" x=\"146.625293\" xlink:href=\"#m99eaf96f29\" y=\"80.924092\"/>\n",
       "     <use style=\"fill:#1f77b4;stroke:#1f77b4;\" x=\"114.726589\" xlink:href=\"#m99eaf96f29\" y=\"53.874105\"/>\n",
       "     <use style=\"fill:#1f77b4;stroke:#1f77b4;\" x=\"135.984574\" xlink:href=\"#m99eaf96f29\" y=\"73.919938\"/>\n",
       "     <use style=\"fill:#1f77b4;stroke:#1f77b4;\" x=\"160.732622\" xlink:href=\"#m99eaf96f29\" y=\"78.996613\"/>\n",
       "     <use style=\"fill:#1f77b4;stroke:#1f77b4;\" x=\"158.539865\" xlink:href=\"#m99eaf96f29\" y=\"75.243769\"/>\n",
       "     <use style=\"fill:#1f77b4;stroke:#1f77b4;\" x=\"135.057192\" xlink:href=\"#m99eaf96f29\" y=\"64.342145\"/>\n",
       "     <use style=\"fill:#1f77b4;stroke:#1f77b4;\" x=\"86.298071\" xlink:href=\"#m99eaf96f29\" y=\"45.285493\"/>\n",
       "     <use style=\"fill:#1f77b4;stroke:#1f77b4;\" x=\"93.812739\" xlink:href=\"#m99eaf96f29\" y=\"38.136136\"/>\n",
       "     <use style=\"fill:#1f77b4;stroke:#1f77b4;\" x=\"190.375454\" xlink:href=\"#m99eaf96f29\" y=\"95.433333\"/>\n",
       "     <use style=\"fill:#1f77b4;stroke:#1f77b4;\" x=\"121.592592\" xlink:href=\"#m99eaf96f29\" y=\"65.43071\"/>\n",
       "     <use style=\"fill:#1f77b4;stroke:#1f77b4;\" x=\"57.640224\" xlink:href=\"#m99eaf96f29\" y=\"29.009189\"/>\n",
       "     <use style=\"fill:#1f77b4;stroke:#1f77b4;\" x=\"151.359857\" xlink:href=\"#m99eaf96f29\" y=\"83.842131\"/>\n",
       "     <use style=\"fill:#1f77b4;stroke:#1f77b4;\" x=\"118.822995\" xlink:href=\"#m99eaf96f29\" y=\"59.3932\"/>\n",
       "     <use style=\"fill:#1f77b4;stroke:#1f77b4;\" x=\"160.380258\" xlink:href=\"#m99eaf96f29\" y=\"84.242706\"/>\n",
       "     <use style=\"fill:#1f77b4;stroke:#1f77b4;\" x=\"131.838001\" xlink:href=\"#m99eaf96f29\" y=\"75.704186\"/>\n",
       "     <use style=\"fill:#1f77b4;stroke:#1f77b4;\" x=\"103.797336\" xlink:href=\"#m99eaf96f29\" y=\"53.047996\"/>\n",
       "     <use style=\"fill:#1f77b4;stroke:#1f77b4;\" x=\"152.460066\" xlink:href=\"#m99eaf96f29\" y=\"75.364928\"/>\n",
       "     <use style=\"fill:#1f77b4;stroke:#1f77b4;\" x=\"159.788295\" xlink:href=\"#m99eaf96f29\" y=\"64.438775\"/>\n",
       "     <use style=\"fill:#1f77b4;stroke:#1f77b4;\" x=\"217.138184\" xlink:href=\"#m99eaf96f29\" y=\"109.382252\"/>\n",
       "     <use style=\"fill:#1f77b4;stroke:#1f77b4;\" x=\"87.018585\" xlink:href=\"#m99eaf96f29\" y=\"49.264054\"/>\n",
       "     <use style=\"fill:#1f77b4;stroke:#1f77b4;\" x=\"140.542632\" xlink:href=\"#m99eaf96f29\" y=\"70.53586\"/>\n",
       "     <use style=\"fill:#1f77b4;stroke:#1f77b4;\" x=\"148.335477\" xlink:href=\"#m99eaf96f29\" y=\"61.86846\"/>\n",
       "     <use style=\"fill:#1f77b4;stroke:#1f77b4;\" x=\"215.138226\" xlink:href=\"#m99eaf96f29\" y=\"106.117628\"/>\n",
       "     <use style=\"fill:#1f77b4;stroke:#1f77b4;\" x=\"94.184073\" xlink:href=\"#m99eaf96f29\" y=\"47.746647\"/>\n",
       "     <use style=\"fill:#1f77b4;stroke:#1f77b4;\" x=\"100.644483\" xlink:href=\"#m99eaf96f29\" y=\"72.797903\"/>\n",
       "     <use style=\"fill:#1f77b4;stroke:#1f77b4;\" x=\"94.434661\" xlink:href=\"#m99eaf96f29\" y=\"37.025992\"/>\n",
       "     <use style=\"fill:#1f77b4;stroke:#1f77b4;\" x=\"93.965353\" xlink:href=\"#m99eaf96f29\" y=\"36.558651\"/>\n",
       "     <use style=\"fill:#1f77b4;stroke:#1f77b4;\" x=\"122.480029\" xlink:href=\"#m99eaf96f29\" y=\"45.875351\"/>\n",
       "     <use style=\"fill:#1f77b4;stroke:#1f77b4;\" x=\"122.653027\" xlink:href=\"#m99eaf96f29\" y=\"57.293814\"/>\n",
       "     <use style=\"fill:#1f77b4;stroke:#1f77b4;\" x=\"140.594596\" xlink:href=\"#m99eaf96f29\" y=\"82.018193\"/>\n",
       "     <use style=\"fill:#1f77b4;stroke:#1f77b4;\" x=\"128.518571\" xlink:href=\"#m99eaf96f29\" y=\"76.524409\"/>\n",
       "     <use style=\"fill:#1f77b4;stroke:#1f77b4;\" x=\"119.259183\" xlink:href=\"#m99eaf96f29\" y=\"75.463504\"/>\n",
       "     <use style=\"fill:#1f77b4;stroke:#1f77b4;\" x=\"120.411529\" xlink:href=\"#m99eaf96f29\" y=\"69.556213\"/>\n",
       "     <use style=\"fill:#1f77b4;stroke:#1f77b4;\" x=\"109.877716\" xlink:href=\"#m99eaf96f29\" y=\"42.526799\"/>\n",
       "     <use style=\"fill:#1f77b4;stroke:#1f77b4;\" x=\"128.433565\" xlink:href=\"#m99eaf96f29\" y=\"68.09429\"/>\n",
       "     <use style=\"fill:#1f77b4;stroke:#1f77b4;\" x=\"132.236253\" xlink:href=\"#m99eaf96f29\" y=\"78.834511\"/>\n",
       "     <use style=\"fill:#1f77b4;stroke:#1f77b4;\" x=\"104.433867\" xlink:href=\"#m99eaf96f29\" y=\"54.809641\"/>\n",
       "     <use style=\"fill:#1f77b4;stroke:#1f77b4;\" x=\"187.133135\" xlink:href=\"#m99eaf96f29\" y=\"91.882494\"/>\n",
       "     <use style=\"fill:#1f77b4;stroke:#1f77b4;\" x=\"106.390563\" xlink:href=\"#m99eaf96f29\" y=\"54.987865\"/>\n",
       "     <use style=\"fill:#1f77b4;stroke:#1f77b4;\" x=\"147.938737\" xlink:href=\"#m99eaf96f29\" y=\"79.298417\"/>\n",
       "     <use style=\"fill:#1f77b4;stroke:#1f77b4;\" x=\"114.187919\" xlink:href=\"#m99eaf96f29\" y=\"62.586983\"/>\n",
       "     <use style=\"fill:#1f77b4;stroke:#1f77b4;\" x=\"98.940707\" xlink:href=\"#m99eaf96f29\" y=\"50.475412\"/>\n",
       "     <use style=\"fill:#1f77b4;stroke:#1f77b4;\" x=\"110.420526\" xlink:href=\"#m99eaf96f29\" y=\"70.919476\"/>\n",
       "     <use style=\"fill:#1f77b4;stroke:#1f77b4;\" x=\"109.30369\" xlink:href=\"#m99eaf96f29\" y=\"55.032879\"/>\n",
       "     <use style=\"fill:#1f77b4;stroke:#1f77b4;\" x=\"187.441436\" xlink:href=\"#m99eaf96f29\" y=\"108.029647\"/>\n",
       "     <use style=\"fill:#1f77b4;stroke:#1f77b4;\" x=\"114.024302\" xlink:href=\"#m99eaf96f29\" y=\"74.686261\"/>\n",
       "     <use style=\"fill:#1f77b4;stroke:#1f77b4;\" x=\"158.236581\" xlink:href=\"#m99eaf96f29\" y=\"82.931198\"/>\n",
       "     <use style=\"fill:#1f77b4;stroke:#1f77b4;\" x=\"140.11057\" xlink:href=\"#m99eaf96f29\" y=\"73.122177\"/>\n",
       "     <use style=\"fill:#1f77b4;stroke:#1f77b4;\" x=\"130.478659\" xlink:href=\"#m99eaf96f29\" y=\"51.578219\"/>\n",
       "     <use style=\"fill:#1f77b4;stroke:#1f77b4;\" x=\"138.675667\" xlink:href=\"#m99eaf96f29\" y=\"86.832902\"/>\n",
       "     <use style=\"fill:#1f77b4;stroke:#1f77b4;\" x=\"149.580746\" xlink:href=\"#m99eaf96f29\" y=\"74.038169\"/>\n",
       "     <use style=\"fill:#1f77b4;stroke:#1f77b4;\" x=\"103.349468\" xlink:href=\"#m99eaf96f29\" y=\"47.165932\"/>\n",
       "     <use style=\"fill:#1f77b4;stroke:#1f77b4;\" x=\"114.186805\" xlink:href=\"#m99eaf96f29\" y=\"70.234603\"/>\n",
       "     <use style=\"fill:#1f77b4;stroke:#1f77b4;\" x=\"160.700262\" xlink:href=\"#m99eaf96f29\" y=\"83.700704\"/>\n",
       "     <use style=\"fill:#1f77b4;stroke:#1f77b4;\" x=\"153.268271\" xlink:href=\"#m99eaf96f29\" y=\"84.650914\"/>\n",
       "     <use style=\"fill:#1f77b4;stroke:#1f77b4;\" x=\"139.868012\" xlink:href=\"#m99eaf96f29\" y=\"88.203091\"/>\n",
       "     <use style=\"fill:#1f77b4;stroke:#1f77b4;\" x=\"82.399802\" xlink:href=\"#m99eaf96f29\" y=\"38.610739\"/>\n",
       "     <use style=\"fill:#1f77b4;stroke:#1f77b4;\" x=\"122.563894\" xlink:href=\"#m99eaf96f29\" y=\"60.963052\"/>\n",
       "     <use style=\"fill:#1f77b4;stroke:#1f77b4;\" x=\"44.254931\" xlink:href=\"#m99eaf96f29\" y=\"18.067395\"/>\n",
       "     <use style=\"fill:#1f77b4;stroke:#1f77b4;\" x=\"134.845229\" xlink:href=\"#m99eaf96f29\" y=\"68.659196\"/>\n",
       "     <use style=\"fill:#1f77b4;stroke:#1f77b4;\" x=\"106.786476\" xlink:href=\"#m99eaf96f29\" y=\"58.6454\"/>\n",
       "     <use style=\"fill:#1f77b4;stroke:#1f77b4;\" x=\"149.596824\" xlink:href=\"#m99eaf96f29\" y=\"78.613936\"/>\n",
       "     <use style=\"fill:#1f77b4;stroke:#1f77b4;\" x=\"143.227093\" xlink:href=\"#m99eaf96f29\" y=\"81.844004\"/>\n",
       "     <use style=\"fill:#1f77b4;stroke:#1f77b4;\" x=\"122.871307\" xlink:href=\"#m99eaf96f29\" y=\"67.380801\"/>\n",
       "     <use style=\"fill:#1f77b4;stroke:#1f77b4;\" x=\"166.486541\" xlink:href=\"#m99eaf96f29\" y=\"87.455108\"/>\n",
       "     <use style=\"fill:#1f77b4;stroke:#1f77b4;\" x=\"150.463205\" xlink:href=\"#m99eaf96f29\" y=\"91.2006\"/>\n",
       "     <use style=\"fill:#1f77b4;stroke:#1f77b4;\" x=\"66.298195\" xlink:href=\"#m99eaf96f29\" y=\"29.063821\"/>\n",
       "     <use style=\"fill:#1f77b4;stroke:#1f77b4;\" x=\"144.692834\" xlink:href=\"#m99eaf96f29\" y=\"87.232072\"/>\n",
       "     <use style=\"fill:#1f77b4;stroke:#1f77b4;\" x=\"126.622861\" xlink:href=\"#m99eaf96f29\" y=\"52.674646\"/>\n",
       "     <use style=\"fill:#1f77b4;stroke:#1f77b4;\" x=\"152.521374\" xlink:href=\"#m99eaf96f29\" y=\"83.076032\"/>\n",
       "     <use style=\"fill:#1f77b4;stroke:#1f77b4;\" x=\"166.496411\" xlink:href=\"#m99eaf96f29\" y=\"81.959065\"/>\n",
       "     <use style=\"fill:#1f77b4;stroke:#1f77b4;\" x=\"138.814267\" xlink:href=\"#m99eaf96f29\" y=\"79.097555\"/>\n",
       "     <use style=\"fill:#1f77b4;stroke:#1f77b4;\" x=\"124.076252\" xlink:href=\"#m99eaf96f29\" y=\"61.643524\"/>\n",
       "     <use style=\"fill:#1f77b4;stroke:#1f77b4;\" x=\"109.889963\" xlink:href=\"#m99eaf96f29\" y=\"74.251469\"/>\n",
       "     <use style=\"fill:#1f77b4;stroke:#1f77b4;\" x=\"151.375797\" xlink:href=\"#m99eaf96f29\" y=\"86.080605\"/>\n",
       "     <use style=\"fill:#1f77b4;stroke:#1f77b4;\" x=\"87.706239\" xlink:href=\"#m99eaf96f29\" y=\"66.369448\"/>\n",
       "     <use style=\"fill:#1f77b4;stroke:#1f77b4;\" x=\"140.917513\" xlink:href=\"#m99eaf96f29\" y=\"69.264017\"/>\n",
       "     <use style=\"fill:#1f77b4;stroke:#1f77b4;\" x=\"145.774756\" xlink:href=\"#m99eaf96f29\" y=\"83.938953\"/>\n",
       "     <use style=\"fill:#1f77b4;stroke:#1f77b4;\" x=\"131.936234\" xlink:href=\"#m99eaf96f29\" y=\"57.147752\"/>\n",
       "     <use style=\"fill:#1f77b4;stroke:#1f77b4;\" x=\"113.820332\" xlink:href=\"#m99eaf96f29\" y=\"82.355155\"/>\n",
       "     <use style=\"fill:#1f77b4;stroke:#1f77b4;\" x=\"154.955648\" xlink:href=\"#m99eaf96f29\" y=\"77.357154\"/>\n",
       "     <use style=\"fill:#1f77b4;stroke:#1f77b4;\" x=\"146.191077\" xlink:href=\"#m99eaf96f29\" y=\"73.174293\"/>\n",
       "     <use style=\"fill:#1f77b4;stroke:#1f77b4;\" x=\"108.215557\" xlink:href=\"#m99eaf96f29\" y=\"53.84046\"/>\n",
       "     <use style=\"fill:#1f77b4;stroke:#1f77b4;\" x=\"87.937997\" xlink:href=\"#m99eaf96f29\" y=\"45.24661\"/>\n",
       "     <use style=\"fill:#1f77b4;stroke:#1f77b4;\" x=\"164.486344\" xlink:href=\"#m99eaf96f29\" y=\"89.24901\"/>\n",
       "     <use style=\"fill:#1f77b4;stroke:#1f77b4;\" x=\"117.271458\" xlink:href=\"#m99eaf96f29\" y=\"49.737943\"/>\n",
       "     <use style=\"fill:#1f77b4;stroke:#1f77b4;\" x=\"142.178904\" xlink:href=\"#m99eaf96f29\" y=\"70.915804\"/>\n",
       "     <use style=\"fill:#1f77b4;stroke:#1f77b4;\" x=\"125.943044\" xlink:href=\"#m99eaf96f29\" y=\"57.779382\"/>\n",
       "     <use style=\"fill:#1f77b4;stroke:#1f77b4;\" x=\"116.298369\" xlink:href=\"#m99eaf96f29\" y=\"67.229363\"/>\n",
       "     <use style=\"fill:#1f77b4;stroke:#1f77b4;\" x=\"118.398638\" xlink:href=\"#m99eaf96f29\" y=\"61.775457\"/>\n",
       "     <use style=\"fill:#1f77b4;stroke:#1f77b4;\" x=\"159.441343\" xlink:href=\"#m99eaf96f29\" y=\"83.210497\"/>\n",
       "     <use style=\"fill:#1f77b4;stroke:#1f77b4;\" x=\"142.955246\" xlink:href=\"#m99eaf96f29\" y=\"89.29792\"/>\n",
       "     <use style=\"fill:#1f77b4;stroke:#1f77b4;\" x=\"123.925544\" xlink:href=\"#m99eaf96f29\" y=\"75.845061\"/>\n",
       "     <use style=\"fill:#1f77b4;stroke:#1f77b4;\" x=\"137.307687\" xlink:href=\"#m99eaf96f29\" y=\"66.126294\"/>\n",
       "     <use style=\"fill:#1f77b4;stroke:#1f77b4;\" x=\"179.467902\" xlink:href=\"#m99eaf96f29\" y=\"100.482782\"/>\n",
       "     <use style=\"fill:#1f77b4;stroke:#1f77b4;\" x=\"162.657031\" xlink:href=\"#m99eaf96f29\" y=\"96.78489\"/>\n",
       "     <use style=\"fill:#1f77b4;stroke:#1f77b4;\" x=\"150.484414\" xlink:href=\"#m99eaf96f29\" y=\"100.331787\"/>\n",
       "     <use style=\"fill:#1f77b4;stroke:#1f77b4;\" x=\"129.995891\" xlink:href=\"#m99eaf96f29\" y=\"72.786471\"/>\n",
       "     <use style=\"fill:#1f77b4;stroke:#1f77b4;\" x=\"111.568289\" xlink:href=\"#m99eaf96f29\" y=\"63.441114\"/>\n",
       "     <use style=\"fill:#1f77b4;stroke:#1f77b4;\" x=\"138.505795\" xlink:href=\"#m99eaf96f29\" y=\"70.957837\"/>\n",
       "     <use style=\"fill:#1f77b4;stroke:#1f77b4;\" x=\"110.738066\" xlink:href=\"#m99eaf96f29\" y=\"37.589477\"/>\n",
       "     <use style=\"fill:#1f77b4;stroke:#1f77b4;\" x=\"152.900001\" xlink:href=\"#m99eaf96f29\" y=\"77.397291\"/>\n",
       "     <use style=\"fill:#1f77b4;stroke:#1f77b4;\" x=\"133.423308\" xlink:href=\"#m99eaf96f29\" y=\"76.257995\"/>\n",
       "     <use style=\"fill:#1f77b4;stroke:#1f77b4;\" x=\"107.33857\" xlink:href=\"#m99eaf96f29\" y=\"51.563102\"/>\n",
       "     <use style=\"fill:#1f77b4;stroke:#1f77b4;\" x=\"69.085624\" xlink:href=\"#m99eaf96f29\" y=\"23.864599\"/>\n",
       "     <use style=\"fill:#1f77b4;stroke:#1f77b4;\" x=\"114.394812\" xlink:href=\"#m99eaf96f29\" y=\"73.753233\"/>\n",
       "     <use style=\"fill:#1f77b4;stroke:#1f77b4;\" x=\"103.424178\" xlink:href=\"#m99eaf96f29\" y=\"44.472853\"/>\n",
       "     <use style=\"fill:#1f77b4;stroke:#1f77b4;\" x=\"160.94769\" xlink:href=\"#m99eaf96f29\" y=\"67.617022\"/>\n",
       "     <use style=\"fill:#1f77b4;stroke:#1f77b4;\" x=\"118.151218\" xlink:href=\"#m99eaf96f29\" y=\"77.428328\"/>\n",
       "     <use style=\"fill:#1f77b4;stroke:#1f77b4;\" x=\"131.147326\" xlink:href=\"#m99eaf96f29\" y=\"64.588232\"/>\n",
       "     <use style=\"fill:#1f77b4;stroke:#1f77b4;\" x=\"131.894151\" xlink:href=\"#m99eaf96f29\" y=\"63.936714\"/>\n",
       "     <use style=\"fill:#1f77b4;stroke:#1f77b4;\" x=\"148.885953\" xlink:href=\"#m99eaf96f29\" y=\"82.804266\"/>\n",
       "     <use style=\"fill:#1f77b4;stroke:#1f77b4;\" x=\"129.508533\" xlink:href=\"#m99eaf96f29\" y=\"70.549536\"/>\n",
       "     <use style=\"fill:#1f77b4;stroke:#1f77b4;\" x=\"85.848671\" xlink:href=\"#m99eaf96f29\" y=\"49.449533\"/>\n",
       "     <use style=\"fill:#1f77b4;stroke:#1f77b4;\" x=\"158.029595\" xlink:href=\"#m99eaf96f29\" y=\"84.905795\"/>\n",
       "     <use style=\"fill:#1f77b4;stroke:#1f77b4;\" x=\"114.559786\" xlink:href=\"#m99eaf96f29\" y=\"71.625257\"/>\n",
       "     <use style=\"fill:#1f77b4;stroke:#1f77b4;\" x=\"118.258394\" xlink:href=\"#m99eaf96f29\" y=\"54.358049\"/>\n",
       "     <use style=\"fill:#1f77b4;stroke:#1f77b4;\" x=\"97.742071\" xlink:href=\"#m99eaf96f29\" y=\"53.231302\"/>\n",
       "     <use style=\"fill:#1f77b4;stroke:#1f77b4;\" x=\"129.133593\" xlink:href=\"#m99eaf96f29\" y=\"60.10897\"/>\n",
       "     <use style=\"fill:#1f77b4;stroke:#1f77b4;\" x=\"149.751309\" xlink:href=\"#m99eaf96f29\" y=\"74.096584\"/>\n",
       "     <use style=\"fill:#1f77b4;stroke:#1f77b4;\" x=\"136.352037\" xlink:href=\"#m99eaf96f29\" y=\"68.218007\"/>\n",
       "     <use style=\"fill:#1f77b4;stroke:#1f77b4;\" x=\"180.789166\" xlink:href=\"#m99eaf96f29\" y=\"94.601278\"/>\n",
       "     <use style=\"fill:#1f77b4;stroke:#1f77b4;\" x=\"135.580956\" xlink:href=\"#m99eaf96f29\" y=\"52.151899\"/>\n",
       "     <use style=\"fill:#1f77b4;stroke:#1f77b4;\" x=\"135.19522\" xlink:href=\"#m99eaf96f29\" y=\"66.382573\"/>\n",
       "     <use style=\"fill:#1f77b4;stroke:#1f77b4;\" x=\"78.451425\" xlink:href=\"#m99eaf96f29\" y=\"46.235632\"/>\n",
       "     <use style=\"fill:#1f77b4;stroke:#1f77b4;\" x=\"129.344925\" xlink:href=\"#m99eaf96f29\" y=\"61.539251\"/>\n",
       "     <use style=\"fill:#1f77b4;stroke:#1f77b4;\" x=\"127.981344\" xlink:href=\"#m99eaf96f29\" y=\"59.531686\"/>\n",
       "     <use style=\"fill:#1f77b4;stroke:#1f77b4;\" x=\"135.873532\" xlink:href=\"#m99eaf96f29\" y=\"52.732767\"/>\n",
       "     <use style=\"fill:#1f77b4;stroke:#1f77b4;\" x=\"150.190904\" xlink:href=\"#m99eaf96f29\" y=\"81.063279\"/>\n",
       "     <use style=\"fill:#1f77b4;stroke:#1f77b4;\" x=\"145.65273\" xlink:href=\"#m99eaf96f29\" y=\"77.757885\"/>\n",
       "     <use style=\"fill:#1f77b4;stroke:#1f77b4;\" x=\"145.981736\" xlink:href=\"#m99eaf96f29\" y=\"87.039165\"/>\n",
       "     <use style=\"fill:#1f77b4;stroke:#1f77b4;\" x=\"91.89129\" xlink:href=\"#m99eaf96f29\" y=\"55.335161\"/>\n",
       "     <use style=\"fill:#1f77b4;stroke:#1f77b4;\" x=\"140.11986\" xlink:href=\"#m99eaf96f29\" y=\"58.500361\"/>\n",
       "     <use style=\"fill:#1f77b4;stroke:#1f77b4;\" x=\"175.92905\" xlink:href=\"#m99eaf96f29\" y=\"83.123445\"/>\n",
       "     <use style=\"fill:#1f77b4;stroke:#1f77b4;\" x=\"141.401474\" xlink:href=\"#m99eaf96f29\" y=\"56.901689\"/>\n",
       "     <use style=\"fill:#1f77b4;stroke:#1f77b4;\" x=\"127.576158\" xlink:href=\"#m99eaf96f29\" y=\"72.944616\"/>\n",
       "     <use style=\"fill:#1f77b4;stroke:#1f77b4;\" x=\"148.448132\" xlink:href=\"#m99eaf96f29\" y=\"85.339797\"/>\n",
       "     <use style=\"fill:#1f77b4;stroke:#1f77b4;\" x=\"158.81994\" xlink:href=\"#m99eaf96f29\" y=\"83.300302\"/>\n",
       "     <use style=\"fill:#1f77b4;stroke:#1f77b4;\" x=\"174.748551\" xlink:href=\"#m99eaf96f29\" y=\"89.734429\"/>\n",
       "     <use style=\"fill:#1f77b4;stroke:#1f77b4;\" x=\"184.511044\" xlink:href=\"#m99eaf96f29\" y=\"101.567179\"/>\n",
       "     <use style=\"fill:#1f77b4;stroke:#1f77b4;\" x=\"77.548619\" xlink:href=\"#m99eaf96f29\" y=\"41.111267\"/>\n",
       "     <use style=\"fill:#1f77b4;stroke:#1f77b4;\" x=\"149.124414\" xlink:href=\"#m99eaf96f29\" y=\"71.643984\"/>\n",
       "     <use style=\"fill:#1f77b4;stroke:#1f77b4;\" x=\"145.667366\" xlink:href=\"#m99eaf96f29\" y=\"65.385014\"/>\n",
       "     <use style=\"fill:#1f77b4;stroke:#1f77b4;\" x=\"102.864956\" xlink:href=\"#m99eaf96f29\" y=\"50.553785\"/>\n",
       "     <use style=\"fill:#1f77b4;stroke:#1f77b4;\" x=\"126.248042\" xlink:href=\"#m99eaf96f29\" y=\"68.507011\"/>\n",
       "     <use style=\"fill:#1f77b4;stroke:#1f77b4;\" x=\"116.102091\" xlink:href=\"#m99eaf96f29\" y=\"68.049507\"/>\n",
       "     <use style=\"fill:#1f77b4;stroke:#1f77b4;\" x=\"136.484959\" xlink:href=\"#m99eaf96f29\" y=\"84.631465\"/>\n",
       "     <use style=\"fill:#1f77b4;stroke:#1f77b4;\" x=\"99.871141\" xlink:href=\"#m99eaf96f29\" y=\"56.409405\"/>\n",
       "     <use style=\"fill:#1f77b4;stroke:#1f77b4;\" x=\"138.45277\" xlink:href=\"#m99eaf96f29\" y=\"75.485122\"/>\n",
       "     <use style=\"fill:#1f77b4;stroke:#1f77b4;\" x=\"187.099803\" xlink:href=\"#m99eaf96f29\" y=\"96.559749\"/>\n",
       "     <use style=\"fill:#1f77b4;stroke:#1f77b4;\" x=\"96.219219\" xlink:href=\"#m99eaf96f29\" y=\"57.049032\"/>\n",
       "     <use style=\"fill:#1f77b4;stroke:#1f77b4;\" x=\"102.745025\" xlink:href=\"#m99eaf96f29\" y=\"45.82855\"/>\n",
       "     <use style=\"fill:#1f77b4;stroke:#1f77b4;\" x=\"170.230576\" xlink:href=\"#m99eaf96f29\" y=\"81.869441\"/>\n",
       "     <use style=\"fill:#1f77b4;stroke:#1f77b4;\" x=\"98.965259\" xlink:href=\"#m99eaf96f29\" y=\"54.540448\"/>\n",
       "     <use style=\"fill:#1f77b4;stroke:#1f77b4;\" x=\"123.716066\" xlink:href=\"#m99eaf96f29\" y=\"58.635664\"/>\n",
       "     <use style=\"fill:#1f77b4;stroke:#1f77b4;\" x=\"122.227652\" xlink:href=\"#m99eaf96f29\" y=\"63.201943\"/>\n",
       "     <use style=\"fill:#1f77b4;stroke:#1f77b4;\" x=\"107.331533\" xlink:href=\"#m99eaf96f29\" y=\"51.507389\"/>\n",
       "     <use style=\"fill:#1f77b4;stroke:#1f77b4;\" x=\"137.468962\" xlink:href=\"#m99eaf96f29\" y=\"63.946065\"/>\n",
       "     <use style=\"fill:#1f77b4;stroke:#1f77b4;\" x=\"125.106643\" xlink:href=\"#m99eaf96f29\" y=\"60.123387\"/>\n",
       "     <use style=\"fill:#1f77b4;stroke:#1f77b4;\" x=\"118.447175\" xlink:href=\"#m99eaf96f29\" y=\"76.085382\"/>\n",
       "     <use style=\"fill:#1f77b4;stroke:#1f77b4;\" x=\"166.847742\" xlink:href=\"#m99eaf96f29\" y=\"82.667048\"/>\n",
       "     <use style=\"fill:#1f77b4;stroke:#1f77b4;\" x=\"147.611792\" xlink:href=\"#m99eaf96f29\" y=\"67.943762\"/>\n",
       "     <use style=\"fill:#1f77b4;stroke:#1f77b4;\" x=\"134.547068\" xlink:href=\"#m99eaf96f29\" y=\"72.160213\"/>\n",
       "     <use style=\"fill:#1f77b4;stroke:#1f77b4;\" x=\"162.129248\" xlink:href=\"#m99eaf96f29\" y=\"83.334245\"/>\n",
       "     <use style=\"fill:#1f77b4;stroke:#1f77b4;\" x=\"79.772839\" xlink:href=\"#m99eaf96f29\" y=\"46.221005\"/>\n",
       "     <use style=\"fill:#1f77b4;stroke:#1f77b4;\" x=\"132.966766\" xlink:href=\"#m99eaf96f29\" y=\"66.493817\"/>\n",
       "     <use style=\"fill:#1f77b4;stroke:#1f77b4;\" x=\"93.867154\" xlink:href=\"#m99eaf96f29\" y=\"52.655566\"/>\n",
       "     <use style=\"fill:#1f77b4;stroke:#1f77b4;\" x=\"192.108023\" xlink:href=\"#m99eaf96f29\" y=\"91.055828\"/>\n",
       "     <use style=\"fill:#1f77b4;stroke:#1f77b4;\" x=\"163.171686\" xlink:href=\"#m99eaf96f29\" y=\"81.497818\"/>\n",
       "     <use style=\"fill:#1f77b4;stroke:#1f77b4;\" x=\"69.653728\" xlink:href=\"#m99eaf96f29\" y=\"31.098357\"/>\n",
       "     <use style=\"fill:#1f77b4;stroke:#1f77b4;\" x=\"148.408536\" xlink:href=\"#m99eaf96f29\" y=\"76.002022\"/>\n",
       "     <use style=\"fill:#1f77b4;stroke:#1f77b4;\" x=\"185.922423\" xlink:href=\"#m99eaf96f29\" y=\"98.009367\"/>\n",
       "     <use style=\"fill:#1f77b4;stroke:#1f77b4;\" x=\"193.100221\" xlink:href=\"#m99eaf96f29\" y=\"107.593676\"/>\n",
       "     <use style=\"fill:#1f77b4;stroke:#1f77b4;\" x=\"121.947108\" xlink:href=\"#m99eaf96f29\" y=\"68.799203\"/>\n",
       "     <use style=\"fill:#1f77b4;stroke:#1f77b4;\" x=\"103.982317\" xlink:href=\"#m99eaf96f29\" y=\"57.678306\"/>\n",
       "     <use style=\"fill:#1f77b4;stroke:#1f77b4;\" x=\"142.918157\" xlink:href=\"#m99eaf96f29\" y=\"64.304811\"/>\n",
       "     <use style=\"fill:#1f77b4;stroke:#1f77b4;\" x=\"107.591879\" xlink:href=\"#m99eaf96f29\" y=\"54.363943\"/>\n",
       "     <use style=\"fill:#1f77b4;stroke:#1f77b4;\" x=\"180.392988\" xlink:href=\"#m99eaf96f29\" y=\"90.477611\"/>\n",
       "     <use style=\"fill:#1f77b4;stroke:#1f77b4;\" x=\"116.930125\" xlink:href=\"#m99eaf96f29\" y=\"65.957438\"/>\n",
       "     <use style=\"fill:#1f77b4;stroke:#1f77b4;\" x=\"177.228075\" xlink:href=\"#m99eaf96f29\" y=\"96.655358\"/>\n",
       "     <use style=\"fill:#1f77b4;stroke:#1f77b4;\" x=\"110.234859\" xlink:href=\"#m99eaf96f29\" y=\"54.604933\"/>\n",
       "     <use style=\"fill:#1f77b4;stroke:#1f77b4;\" x=\"63.163449\" xlink:href=\"#m99eaf96f29\" y=\"43.680637\"/>\n",
       "     <use style=\"fill:#1f77b4;stroke:#1f77b4;\" x=\"164.015507\" xlink:href=\"#m99eaf96f29\" y=\"82.207148\"/>\n",
       "     <use style=\"fill:#1f77b4;stroke:#1f77b4;\" x=\"118.584717\" xlink:href=\"#m99eaf96f29\" y=\"63.560806\"/>\n",
       "     <use style=\"fill:#1f77b4;stroke:#1f77b4;\" x=\"112.05754\" xlink:href=\"#m99eaf96f29\" y=\"61.027427\"/>\n",
       "     <use style=\"fill:#1f77b4;stroke:#1f77b4;\" x=\"80.027932\" xlink:href=\"#m99eaf96f29\" y=\"45.123941\"/>\n",
       "     <use style=\"fill:#1f77b4;stroke:#1f77b4;\" x=\"199.983329\" xlink:href=\"#m99eaf96f29\" y=\"93.446123\"/>\n",
       "     <use style=\"fill:#1f77b4;stroke:#1f77b4;\" x=\"150.105004\" xlink:href=\"#m99eaf96f29\" y=\"72.301472\"/>\n",
       "     <use style=\"fill:#1f77b4;stroke:#1f77b4;\" x=\"175.429815\" xlink:href=\"#m99eaf96f29\" y=\"102.144355\"/>\n",
       "     <use style=\"fill:#1f77b4;stroke:#1f77b4;\" x=\"122.049379\" xlink:href=\"#m99eaf96f29\" y=\"66.145713\"/>\n",
       "     <use style=\"fill:#1f77b4;stroke:#1f77b4;\" x=\"124.112211\" xlink:href=\"#m99eaf96f29\" y=\"76.003038\"/>\n",
       "     <use style=\"fill:#1f77b4;stroke:#1f77b4;\" x=\"142.483156\" xlink:href=\"#m99eaf96f29\" y=\"85.471433\"/>\n",
       "     <use style=\"fill:#1f77b4;stroke:#1f77b4;\" x=\"135.055188\" xlink:href=\"#m99eaf96f29\" y=\"83.908493\"/>\n",
       "     <use style=\"fill:#1f77b4;stroke:#1f77b4;\" x=\"130.250483\" xlink:href=\"#m99eaf96f29\" y=\"55.806925\"/>\n",
       "     <use style=\"fill:#1f77b4;stroke:#1f77b4;\" x=\"113.308462\" xlink:href=\"#m99eaf96f29\" y=\"52.426355\"/>\n",
       "     <use style=\"fill:#1f77b4;stroke:#1f77b4;\" x=\"103.748066\" xlink:href=\"#m99eaf96f29\" y=\"48.34342\"/>\n",
       "     <use style=\"fill:#1f77b4;stroke:#1f77b4;\" x=\"155.398413\" xlink:href=\"#m99eaf96f29\" y=\"60.395381\"/>\n",
       "     <use style=\"fill:#1f77b4;stroke:#1f77b4;\" x=\"140.155105\" xlink:href=\"#m99eaf96f29\" y=\"79.026792\"/>\n",
       "     <use style=\"fill:#1f77b4;stroke:#1f77b4;\" x=\"97.305477\" xlink:href=\"#m99eaf96f29\" y=\"44.471718\"/>\n",
       "     <use style=\"fill:#1f77b4;stroke:#1f77b4;\" x=\"126.081788\" xlink:href=\"#m99eaf96f29\" y=\"71.543971\"/>\n",
       "     <use style=\"fill:#1f77b4;stroke:#1f77b4;\" x=\"136.026254\" xlink:href=\"#m99eaf96f29\" y=\"81.204569\"/>\n",
       "     <use style=\"fill:#1f77b4;stroke:#1f77b4;\" x=\"169.558415\" xlink:href=\"#m99eaf96f29\" y=\"88.908558\"/>\n",
       "     <use style=\"fill:#1f77b4;stroke:#1f77b4;\" x=\"124.129299\" xlink:href=\"#m99eaf96f29\" y=\"42.523391\"/>\n",
       "     <use style=\"fill:#1f77b4;stroke:#1f77b4;\" x=\"127.971777\" xlink:href=\"#m99eaf96f29\" y=\"71.299036\"/>\n",
       "     <use style=\"fill:#1f77b4;stroke:#1f77b4;\" x=\"136.910744\" xlink:href=\"#m99eaf96f29\" y=\"51.344961\"/>\n",
       "     <use style=\"fill:#1f77b4;stroke:#1f77b4;\" x=\"127.072163\" xlink:href=\"#m99eaf96f29\" y=\"59.84381\"/>\n",
       "     <use style=\"fill:#1f77b4;stroke:#1f77b4;\" x=\"133.542533\" xlink:href=\"#m99eaf96f29\" y=\"68.60645\"/>\n",
       "     <use style=\"fill:#1f77b4;stroke:#1f77b4;\" x=\"152.751498\" xlink:href=\"#m99eaf96f29\" y=\"75.727944\"/>\n",
       "     <use style=\"fill:#1f77b4;stroke:#1f77b4;\" x=\"131.74754\" xlink:href=\"#m99eaf96f29\" y=\"74.811901\"/>\n",
       "     <use style=\"fill:#1f77b4;stroke:#1f77b4;\" x=\"122.071318\" xlink:href=\"#m99eaf96f29\" y=\"69.389093\"/>\n",
       "     <use style=\"fill:#1f77b4;stroke:#1f77b4;\" x=\"129.18743\" xlink:href=\"#m99eaf96f29\" y=\"63.926729\"/>\n",
       "     <use style=\"fill:#1f77b4;stroke:#1f77b4;\" x=\"146.998567\" xlink:href=\"#m99eaf96f29\" y=\"92.912452\"/>\n",
       "     <use style=\"fill:#1f77b4;stroke:#1f77b4;\" x=\"121.373849\" xlink:href=\"#m99eaf96f29\" y=\"68.511521\"/>\n",
       "     <use style=\"fill:#1f77b4;stroke:#1f77b4;\" x=\"114.192786\" xlink:href=\"#m99eaf96f29\" y=\"66.580106\"/>\n",
       "     <use style=\"fill:#1f77b4;stroke:#1f77b4;\" x=\"131.120582\" xlink:href=\"#m99eaf96f29\" y=\"70.987915\"/>\n",
       "     <use style=\"fill:#1f77b4;stroke:#1f77b4;\" x=\"192.154572\" xlink:href=\"#m99eaf96f29\" y=\"103.955909\"/>\n",
       "     <use style=\"fill:#1f77b4;stroke:#1f77b4;\" x=\"180.985624\" xlink:href=\"#m99eaf96f29\" y=\"99.944603\"/>\n",
       "     <use style=\"fill:#1f77b4;stroke:#1f77b4;\" x=\"153.481703\" xlink:href=\"#m99eaf96f29\" y=\"78.481413\"/>\n",
       "     <use style=\"fill:#1f77b4;stroke:#1f77b4;\" x=\"137.781738\" xlink:href=\"#m99eaf96f29\" y=\"66.423789\"/>\n",
       "     <use style=\"fill:#1f77b4;stroke:#1f77b4;\" x=\"202.996021\" xlink:href=\"#m99eaf96f29\" y=\"96.249504\"/>\n",
       "     <use style=\"fill:#1f77b4;stroke:#1f77b4;\" x=\"117.210416\" xlink:href=\"#m99eaf96f29\" y=\"59.501909\"/>\n",
       "     <use style=\"fill:#1f77b4;stroke:#1f77b4;\" x=\"182.257168\" xlink:href=\"#m99eaf96f29\" y=\"101.946527\"/>\n",
       "     <use style=\"fill:#1f77b4;stroke:#1f77b4;\" x=\"142.87902\" xlink:href=\"#m99eaf96f29\" y=\"68.967778\"/>\n",
       "     <use style=\"fill:#1f77b4;stroke:#1f77b4;\" x=\"111.472187\" xlink:href=\"#m99eaf96f29\" y=\"63.25882\"/>\n",
       "     <use style=\"fill:#1f77b4;stroke:#1f77b4;\" x=\"179.674509\" xlink:href=\"#m99eaf96f29\" y=\"81.942132\"/>\n",
       "     <use style=\"fill:#1f77b4;stroke:#1f77b4;\" x=\"179.26017\" xlink:href=\"#m99eaf96f29\" y=\"96.261975\"/>\n",
       "     <use style=\"fill:#1f77b4;stroke:#1f77b4;\" x=\"69.882893\" xlink:href=\"#m99eaf96f29\" y=\"54.72005\"/>\n",
       "     <use style=\"fill:#1f77b4;stroke:#1f77b4;\" x=\"139.611226\" xlink:href=\"#m99eaf96f29\" y=\"91.261201\"/>\n",
       "     <use style=\"fill:#1f77b4;stroke:#1f77b4;\" x=\"137.676131\" xlink:href=\"#m99eaf96f29\" y=\"59.006619\"/>\n",
       "     <use style=\"fill:#1f77b4;stroke:#1f77b4;\" x=\"176.5275\" xlink:href=\"#m99eaf96f29\" y=\"85.432063\"/>\n",
       "     <use style=\"fill:#1f77b4;stroke:#1f77b4;\" x=\"132.796351\" xlink:href=\"#m99eaf96f29\" y=\"56.647987\"/>\n",
       "     <use style=\"fill:#1f77b4;stroke:#1f77b4;\" x=\"151.486025\" xlink:href=\"#m99eaf96f29\" y=\"82.276086\"/>\n",
       "     <use style=\"fill:#1f77b4;stroke:#1f77b4;\" x=\"191.575792\" xlink:href=\"#m99eaf96f29\" y=\"83.972156\"/>\n",
       "     <use style=\"fill:#1f77b4;stroke:#1f77b4;\" x=\"141.500841\" xlink:href=\"#m99eaf96f29\" y=\"79.390657\"/>\n",
       "     <use style=\"fill:#1f77b4;stroke:#1f77b4;\" x=\"62.031501\" xlink:href=\"#m99eaf96f29\" y=\"13.39319\"/>\n",
       "     <use style=\"fill:#1f77b4;stroke:#1f77b4;\" x=\"127.650439\" xlink:href=\"#m99eaf96f29\" y=\"66.278893\"/>\n",
       "     <use style=\"fill:#1f77b4;stroke:#1f77b4;\" x=\"137.176088\" xlink:href=\"#m99eaf96f29\" y=\"70.660087\"/>\n",
       "     <use style=\"fill:#1f77b4;stroke:#1f77b4;\" x=\"127.662094\" xlink:href=\"#m99eaf96f29\" y=\"57.109424\"/>\n",
       "     <use style=\"fill:#1f77b4;stroke:#1f77b4;\" x=\"127.796582\" xlink:href=\"#m99eaf96f29\" y=\"61.835671\"/>\n",
       "     <use style=\"fill:#1f77b4;stroke:#1f77b4;\" x=\"159.078229\" xlink:href=\"#m99eaf96f29\" y=\"76.156886\"/>\n",
       "     <use style=\"fill:#1f77b4;stroke:#1f77b4;\" x=\"61.478075\" xlink:href=\"#m99eaf96f29\" y=\"23.721654\"/>\n",
       "     <use style=\"fill:#1f77b4;stroke:#1f77b4;\" x=\"136.163184\" xlink:href=\"#m99eaf96f29\" y=\"48.859782\"/>\n",
       "     <use style=\"fill:#1f77b4;stroke:#1f77b4;\" x=\"123.086793\" xlink:href=\"#m99eaf96f29\" y=\"58.477136\"/>\n",
       "     <use style=\"fill:#1f77b4;stroke:#1f77b4;\" x=\"88.396507\" xlink:href=\"#m99eaf96f29\" y=\"50.68785\"/>\n",
       "     <use style=\"fill:#1f77b4;stroke:#1f77b4;\" x=\"113.74721\" xlink:href=\"#m99eaf96f29\" y=\"53.645687\"/>\n",
       "     <use style=\"fill:#1f77b4;stroke:#1f77b4;\" x=\"77.224585\" xlink:href=\"#m99eaf96f29\" y=\"33.393197\"/>\n",
       "     <use style=\"fill:#1f77b4;stroke:#1f77b4;\" x=\"161.37618\" xlink:href=\"#m99eaf96f29\" y=\"72.608706\"/>\n",
       "     <use style=\"fill:#1f77b4;stroke:#1f77b4;\" x=\"146.692616\" xlink:href=\"#m99eaf96f29\" y=\"82.568585\"/>\n",
       "     <use style=\"fill:#1f77b4;stroke:#1f77b4;\" x=\"92.165145\" xlink:href=\"#m99eaf96f29\" y=\"42.872977\"/>\n",
       "     <use style=\"fill:#1f77b4;stroke:#1f77b4;\" x=\"113.259002\" xlink:href=\"#m99eaf96f29\" y=\"56.321868\"/>\n",
       "     <use style=\"fill:#1f77b4;stroke:#1f77b4;\" x=\"131.982437\" xlink:href=\"#m99eaf96f29\" y=\"61.961619\"/>\n",
       "     <use style=\"fill:#1f77b4;stroke:#1f77b4;\" x=\"153.472146\" xlink:href=\"#m99eaf96f29\" y=\"72.343852\"/>\n",
       "     <use style=\"fill:#1f77b4;stroke:#1f77b4;\" x=\"162.054943\" xlink:href=\"#m99eaf96f29\" y=\"69.783655\"/>\n",
       "     <use style=\"fill:#1f77b4;stroke:#1f77b4;\" x=\"71.128258\" xlink:href=\"#m99eaf96f29\" y=\"30.625029\"/>\n",
       "     <use style=\"fill:#1f77b4;stroke:#1f77b4;\" x=\"145.086451\" xlink:href=\"#m99eaf96f29\" y=\"88.161372\"/>\n",
       "     <use style=\"fill:#1f77b4;stroke:#1f77b4;\" x=\"85.462486\" xlink:href=\"#m99eaf96f29\" y=\"40.275092\"/>\n",
       "     <use style=\"fill:#1f77b4;stroke:#1f77b4;\" x=\"107.969341\" xlink:href=\"#m99eaf96f29\" y=\"46.594443\"/>\n",
       "     <use style=\"fill:#1f77b4;stroke:#1f77b4;\" x=\"125.221032\" xlink:href=\"#m99eaf96f29\" y=\"58.334218\"/>\n",
       "     <use style=\"fill:#1f77b4;stroke:#1f77b4;\" x=\"102.19268\" xlink:href=\"#m99eaf96f29\" y=\"51.494165\"/>\n",
       "     <use style=\"fill:#1f77b4;stroke:#1f77b4;\" x=\"175.182462\" xlink:href=\"#m99eaf96f29\" y=\"90.743\"/>\n",
       "     <use style=\"fill:#1f77b4;stroke:#1f77b4;\" x=\"113.819633\" xlink:href=\"#m99eaf96f29\" y=\"73.726809\"/>\n",
       "     <use style=\"fill:#1f77b4;stroke:#1f77b4;\" x=\"173.97404\" xlink:href=\"#m99eaf96f29\" y=\"99.167448\"/>\n",
       "     <use style=\"fill:#1f77b4;stroke:#1f77b4;\" x=\"166.708125\" xlink:href=\"#m99eaf96f29\" y=\"84.915946\"/>\n",
       "     <use style=\"fill:#1f77b4;stroke:#1f77b4;\" x=\"149.708651\" xlink:href=\"#m99eaf96f29\" y=\"71.596916\"/>\n",
       "     <use style=\"fill:#1f77b4;stroke:#1f77b4;\" x=\"101.217232\" xlink:href=\"#m99eaf96f29\" y=\"56.433191\"/>\n",
       "     <use style=\"fill:#1f77b4;stroke:#1f77b4;\" x=\"177.42784\" xlink:href=\"#m99eaf96f29\" y=\"96.243376\"/>\n",
       "     <use style=\"fill:#1f77b4;stroke:#1f77b4;\" x=\"144.85954\" xlink:href=\"#m99eaf96f29\" y=\"90.490408\"/>\n",
       "     <use style=\"fill:#1f77b4;stroke:#1f77b4;\" x=\"108.219502\" xlink:href=\"#m99eaf96f29\" y=\"63.32002\"/>\n",
       "     <use style=\"fill:#1f77b4;stroke:#1f77b4;\" x=\"88.725684\" xlink:href=\"#m99eaf96f29\" y=\"37.593896\"/>\n",
       "     <use style=\"fill:#1f77b4;stroke:#1f77b4;\" x=\"113.044983\" xlink:href=\"#m99eaf96f29\" y=\"53.569521\"/>\n",
       "     <use style=\"fill:#1f77b4;stroke:#1f77b4;\" x=\"159.134769\" xlink:href=\"#m99eaf96f29\" y=\"93.903331\"/>\n",
       "     <use style=\"fill:#1f77b4;stroke:#1f77b4;\" x=\"127.505397\" xlink:href=\"#m99eaf96f29\" y=\"61.245209\"/>\n",
       "     <use style=\"fill:#1f77b4;stroke:#1f77b4;\" x=\"186.909688\" xlink:href=\"#m99eaf96f29\" y=\"96.778046\"/>\n",
       "     <use style=\"fill:#1f77b4;stroke:#1f77b4;\" x=\"138.721422\" xlink:href=\"#m99eaf96f29\" y=\"52.12978\"/>\n",
       "     <use style=\"fill:#1f77b4;stroke:#1f77b4;\" x=\"193.756226\" xlink:href=\"#m99eaf96f29\" y=\"99.921969\"/>\n",
       "     <use style=\"fill:#1f77b4;stroke:#1f77b4;\" x=\"77.408009\" xlink:href=\"#m99eaf96f29\" y=\"31.738276\"/>\n",
       "     <use style=\"fill:#1f77b4;stroke:#1f77b4;\" x=\"177.068014\" xlink:href=\"#m99eaf96f29\" y=\"94.509774\"/>\n",
       "     <use style=\"fill:#1f77b4;stroke:#1f77b4;\" x=\"221.654444\" xlink:href=\"#m99eaf96f29\" y=\"124.712199\"/>\n",
       "     <use style=\"fill:#1f77b4;stroke:#1f77b4;\" x=\"130.260486\" xlink:href=\"#m99eaf96f29\" y=\"61.035865\"/>\n",
       "     <use style=\"fill:#1f77b4;stroke:#1f77b4;\" x=\"122.269388\" xlink:href=\"#m99eaf96f29\" y=\"67.183877\"/>\n",
       "     <use style=\"fill:#1f77b4;stroke:#1f77b4;\" x=\"99.805843\" xlink:href=\"#m99eaf96f29\" y=\"67.534566\"/>\n",
       "     <use style=\"fill:#1f77b4;stroke:#1f77b4;\" x=\"173.325019\" xlink:href=\"#m99eaf96f29\" y=\"86.939497\"/>\n",
       "     <use style=\"fill:#1f77b4;stroke:#1f77b4;\" x=\"160.694545\" xlink:href=\"#m99eaf96f29\" y=\"84.666156\"/>\n",
       "     <use style=\"fill:#1f77b4;stroke:#1f77b4;\" x=\"107.202138\" xlink:href=\"#m99eaf96f29\" y=\"58.243063\"/>\n",
       "     <use style=\"fill:#1f77b4;stroke:#1f77b4;\" x=\"104.280057\" xlink:href=\"#m99eaf96f29\" y=\"47.955962\"/>\n",
       "     <use style=\"fill:#1f77b4;stroke:#1f77b4;\" x=\"143.002722\" xlink:href=\"#m99eaf96f29\" y=\"64.783569\"/>\n",
       "     <use style=\"fill:#1f77b4;stroke:#1f77b4;\" x=\"93.470555\" xlink:href=\"#m99eaf96f29\" y=\"44.370314\"/>\n",
       "     <use style=\"fill:#1f77b4;stroke:#1f77b4;\" x=\"124.020139\" xlink:href=\"#m99eaf96f29\" y=\"75.629626\"/>\n",
       "     <use style=\"fill:#1f77b4;stroke:#1f77b4;\" x=\"161.216238\" xlink:href=\"#m99eaf96f29\" y=\"89.08152\"/>\n",
       "     <use style=\"fill:#1f77b4;stroke:#1f77b4;\" x=\"140.889067\" xlink:href=\"#m99eaf96f29\" y=\"83.350673\"/>\n",
       "     <use style=\"fill:#1f77b4;stroke:#1f77b4;\" x=\"104.424913\" xlink:href=\"#m99eaf96f29\" y=\"46.423892\"/>\n",
       "     <use style=\"fill:#1f77b4;stroke:#1f77b4;\" x=\"133.059577\" xlink:href=\"#m99eaf96f29\" y=\"81.984631\"/>\n",
       "     <use style=\"fill:#1f77b4;stroke:#1f77b4;\" x=\"162.494354\" xlink:href=\"#m99eaf96f29\" y=\"74.701878\"/>\n",
       "     <use style=\"fill:#1f77b4;stroke:#1f77b4;\" x=\"126.345229\" xlink:href=\"#m99eaf96f29\" y=\"76.177329\"/>\n",
       "     <use style=\"fill:#1f77b4;stroke:#1f77b4;\" x=\"134.843218\" xlink:href=\"#m99eaf96f29\" y=\"66.533383\"/>\n",
       "     <use style=\"fill:#1f77b4;stroke:#1f77b4;\" x=\"198.980849\" xlink:href=\"#m99eaf96f29\" y=\"107.12126\"/>\n",
       "     <use style=\"fill:#1f77b4;stroke:#1f77b4;\" x=\"118.519112\" xlink:href=\"#m99eaf96f29\" y=\"59.90466\"/>\n",
       "     <use style=\"fill:#1f77b4;stroke:#1f77b4;\" x=\"106.614398\" xlink:href=\"#m99eaf96f29\" y=\"52.368284\"/>\n",
       "     <use style=\"fill:#1f77b4;stroke:#1f77b4;\" x=\"166.419693\" xlink:href=\"#m99eaf96f29\" y=\"91.233176\"/>\n",
       "     <use style=\"fill:#1f77b4;stroke:#1f77b4;\" x=\"135.809169\" xlink:href=\"#m99eaf96f29\" y=\"75.118943\"/>\n",
       "     <use style=\"fill:#1f77b4;stroke:#1f77b4;\" x=\"85.262681\" xlink:href=\"#m99eaf96f29\" y=\"64.080376\"/>\n",
       "     <use style=\"fill:#1f77b4;stroke:#1f77b4;\" x=\"163.908669\" xlink:href=\"#m99eaf96f29\" y=\"90.165528\"/>\n",
       "     <use style=\"fill:#1f77b4;stroke:#1f77b4;\" x=\"133.085998\" xlink:href=\"#m99eaf96f29\" y=\"59.355218\"/>\n",
       "     <use style=\"fill:#1f77b4;stroke:#1f77b4;\" x=\"156.784107\" xlink:href=\"#m99eaf96f29\" y=\"75.390612\"/>\n",
       "     <use style=\"fill:#1f77b4;stroke:#1f77b4;\" x=\"139.319192\" xlink:href=\"#m99eaf96f29\" y=\"60.608251\"/>\n",
       "     <use style=\"fill:#1f77b4;stroke:#1f77b4;\" x=\"113.391764\" xlink:href=\"#m99eaf96f29\" y=\"52.371135\"/>\n",
       "     <use style=\"fill:#1f77b4;stroke:#1f77b4;\" x=\"158.710089\" xlink:href=\"#m99eaf96f29\" y=\"62.000457\"/>\n",
       "     <use style=\"fill:#1f77b4;stroke:#1f77b4;\" x=\"153.631941\" xlink:href=\"#m99eaf96f29\" y=\"93.661869\"/>\n",
       "     <use style=\"fill:#1f77b4;stroke:#1f77b4;\" x=\"98.745584\" xlink:href=\"#m99eaf96f29\" y=\"60.07516\"/>\n",
       "     <use style=\"fill:#1f77b4;stroke:#1f77b4;\" x=\"131.623148\" xlink:href=\"#m99eaf96f29\" y=\"59.223474\"/>\n",
       "     <use style=\"fill:#1f77b4;stroke:#1f77b4;\" x=\"144.657938\" xlink:href=\"#m99eaf96f29\" y=\"81.70284\"/>\n",
       "     <use style=\"fill:#1f77b4;stroke:#1f77b4;\" x=\"119.762704\" xlink:href=\"#m99eaf96f29\" y=\"55.180305\"/>\n",
       "     <use style=\"fill:#1f77b4;stroke:#1f77b4;\" x=\"158.073116\" xlink:href=\"#m99eaf96f29\" y=\"92.467547\"/>\n",
       "     <use style=\"fill:#1f77b4;stroke:#1f77b4;\" x=\"144.88404\" xlink:href=\"#m99eaf96f29\" y=\"58.686597\"/>\n",
       "     <use style=\"fill:#1f77b4;stroke:#1f77b4;\" x=\"147.820164\" xlink:href=\"#m99eaf96f29\" y=\"74.71344\"/>\n",
       "     <use style=\"fill:#1f77b4;stroke:#1f77b4;\" x=\"143.790843\" xlink:href=\"#m99eaf96f29\" y=\"61.57703\"/>\n",
       "     <use style=\"fill:#1f77b4;stroke:#1f77b4;\" x=\"162.888136\" xlink:href=\"#m99eaf96f29\" y=\"77.162406\"/>\n",
       "     <use style=\"fill:#1f77b4;stroke:#1f77b4;\" x=\"128.65262\" xlink:href=\"#m99eaf96f29\" y=\"56.173091\"/>\n",
       "     <use style=\"fill:#1f77b4;stroke:#1f77b4;\" x=\"91.863115\" xlink:href=\"#m99eaf96f29\" y=\"41.303739\"/>\n",
       "     <use style=\"fill:#1f77b4;stroke:#1f77b4;\" x=\"100.896253\" xlink:href=\"#m99eaf96f29\" y=\"44.015043\"/>\n",
       "     <use style=\"fill:#1f77b4;stroke:#1f77b4;\" x=\"126.474094\" xlink:href=\"#m99eaf96f29\" y=\"76.694571\"/>\n",
       "     <use style=\"fill:#1f77b4;stroke:#1f77b4;\" x=\"159.44828\" xlink:href=\"#m99eaf96f29\" y=\"87.760139\"/>\n",
       "     <use style=\"fill:#1f77b4;stroke:#1f77b4;\" x=\"140.045608\" xlink:href=\"#m99eaf96f29\" y=\"73.143849\"/>\n",
       "     <use style=\"fill:#1f77b4;stroke:#1f77b4;\" x=\"106.27858\" xlink:href=\"#m99eaf96f29\" y=\"55.980227\"/>\n",
       "     <use style=\"fill:#1f77b4;stroke:#1f77b4;\" x=\"167.159238\" xlink:href=\"#m99eaf96f29\" y=\"80.90376\"/>\n",
       "     <use style=\"fill:#1f77b4;stroke:#1f77b4;\" x=\"136.534987\" xlink:href=\"#m99eaf96f29\" y=\"65.970996\"/>\n",
       "     <use style=\"fill:#1f77b4;stroke:#1f77b4;\" x=\"144.100073\" xlink:href=\"#m99eaf96f29\" y=\"83.560634\"/>\n",
       "     <use style=\"fill:#1f77b4;stroke:#1f77b4;\" x=\"136.842123\" xlink:href=\"#m99eaf96f29\" y=\"66.364818\"/>\n",
       "     <use style=\"fill:#1f77b4;stroke:#1f77b4;\" x=\"127.995523\" xlink:href=\"#m99eaf96f29\" y=\"63.973132\"/>\n",
       "     <use style=\"fill:#1f77b4;stroke:#1f77b4;\" x=\"130.953868\" xlink:href=\"#m99eaf96f29\" y=\"54.251368\"/>\n",
       "     <use style=\"fill:#1f77b4;stroke:#1f77b4;\" x=\"132.692803\" xlink:href=\"#m99eaf96f29\" y=\"64.583698\"/>\n",
       "     <use style=\"fill:#1f77b4;stroke:#1f77b4;\" x=\"158.595896\" xlink:href=\"#m99eaf96f29\" y=\"80.973486\"/>\n",
       "     <use style=\"fill:#1f77b4;stroke:#1f77b4;\" x=\"151.993054\" xlink:href=\"#m99eaf96f29\" y=\"66.561654\"/>\n",
       "     <use style=\"fill:#1f77b4;stroke:#1f77b4;\" x=\"177.409587\" xlink:href=\"#m99eaf96f29\" y=\"80.0288\"/>\n",
       "     <use style=\"fill:#1f77b4;stroke:#1f77b4;\" x=\"184.715144\" xlink:href=\"#m99eaf96f29\" y=\"85.045522\"/>\n",
       "     <use style=\"fill:#1f77b4;stroke:#1f77b4;\" x=\"112.720973\" xlink:href=\"#m99eaf96f29\" y=\"62.733783\"/>\n",
       "     <use style=\"fill:#1f77b4;stroke:#1f77b4;\" x=\"131.335978\" xlink:href=\"#m99eaf96f29\" y=\"76.590725\"/>\n",
       "     <use style=\"fill:#1f77b4;stroke:#1f77b4;\" x=\"172.174679\" xlink:href=\"#m99eaf96f29\" y=\"82.421003\"/>\n",
       "     <use style=\"fill:#1f77b4;stroke:#1f77b4;\" x=\"156.384663\" xlink:href=\"#m99eaf96f29\" y=\"84.393399\"/>\n",
       "     <use style=\"fill:#1f77b4;stroke:#1f77b4;\" x=\"163.255077\" xlink:href=\"#m99eaf96f29\" y=\"78.710955\"/>\n",
       "     <use style=\"fill:#1f77b4;stroke:#1f77b4;\" x=\"77.436853\" xlink:href=\"#m99eaf96f29\" y=\"24.748297\"/>\n",
       "     <use style=\"fill:#1f77b4;stroke:#1f77b4;\" x=\"145.522291\" xlink:href=\"#m99eaf96f29\" y=\"56.879731\"/>\n",
       "     <use style=\"fill:#1f77b4;stroke:#1f77b4;\" x=\"66.609015\" xlink:href=\"#m99eaf96f29\" y=\"29.117537\"/>\n",
       "     <use style=\"fill:#1f77b4;stroke:#1f77b4;\" x=\"147.566156\" xlink:href=\"#m99eaf96f29\" y=\"74.199637\"/>\n",
       "     <use style=\"fill:#1f77b4;stroke:#1f77b4;\" x=\"128.949982\" xlink:href=\"#m99eaf96f29\" y=\"61.055034\"/>\n",
       "     <use style=\"fill:#1f77b4;stroke:#1f77b4;\" x=\"77.319957\" xlink:href=\"#m99eaf96f29\" y=\"41.965484\"/>\n",
       "     <use style=\"fill:#1f77b4;stroke:#1f77b4;\" x=\"144.275562\" xlink:href=\"#m99eaf96f29\" y=\"89.229773\"/>\n",
       "     <use style=\"fill:#1f77b4;stroke:#1f77b4;\" x=\"143.755442\" xlink:href=\"#m99eaf96f29\" y=\"73.595092\"/>\n",
       "     <use style=\"fill:#1f77b4;stroke:#1f77b4;\" x=\"136.194483\" xlink:href=\"#m99eaf96f29\" y=\"70.082644\"/>\n",
       "     <use style=\"fill:#1f77b4;stroke:#1f77b4;\" x=\"160.626884\" xlink:href=\"#m99eaf96f29\" y=\"83.559738\"/>\n",
       "     <use style=\"fill:#1f77b4;stroke:#1f77b4;\" x=\"149.472982\" xlink:href=\"#m99eaf96f29\" y=\"77.61005\"/>\n",
       "     <use style=\"fill:#1f77b4;stroke:#1f77b4;\" x=\"148.836807\" xlink:href=\"#m99eaf96f29\" y=\"75.292466\"/>\n",
       "     <use style=\"fill:#1f77b4;stroke:#1f77b4;\" x=\"135.767254\" xlink:href=\"#m99eaf96f29\" y=\"67.72033\"/>\n",
       "     <use style=\"fill:#1f77b4;stroke:#1f77b4;\" x=\"99.784889\" xlink:href=\"#m99eaf96f29\" y=\"52.803333\"/>\n",
       "     <use style=\"fill:#1f77b4;stroke:#1f77b4;\" x=\"94.44497\" xlink:href=\"#m99eaf96f29\" y=\"59.451471\"/>\n",
       "     <use style=\"fill:#1f77b4;stroke:#1f77b4;\" x=\"158.156972\" xlink:href=\"#m99eaf96f29\" y=\"68.509031\"/>\n",
       "     <use style=\"fill:#1f77b4;stroke:#1f77b4;\" x=\"193.359307\" xlink:href=\"#m99eaf96f29\" y=\"103.906884\"/>\n",
       "     <use style=\"fill:#1f77b4;stroke:#1f77b4;\" x=\"117.110862\" xlink:href=\"#m99eaf96f29\" y=\"56.203382\"/>\n",
       "     <use style=\"fill:#1f77b4;stroke:#1f77b4;\" x=\"148.621893\" xlink:href=\"#m99eaf96f29\" y=\"69.469101\"/>\n",
       "     <use style=\"fill:#1f77b4;stroke:#1f77b4;\" x=\"145.060191\" xlink:href=\"#m99eaf96f29\" y=\"57.888145\"/>\n",
       "     <use style=\"fill:#1f77b4;stroke:#1f77b4;\" x=\"152.548539\" xlink:href=\"#m99eaf96f29\" y=\"75.483104\"/>\n",
       "     <use style=\"fill:#1f77b4;stroke:#1f77b4;\" x=\"106.96785\" xlink:href=\"#m99eaf96f29\" y=\"47.450084\"/>\n",
       "     <use style=\"fill:#1f77b4;stroke:#1f77b4;\" x=\"136.256384\" xlink:href=\"#m99eaf96f29\" y=\"64.836457\"/>\n",
       "     <use style=\"fill:#1f77b4;stroke:#1f77b4;\" x=\"120.433087\" xlink:href=\"#m99eaf96f29\" y=\"70.213324\"/>\n",
       "     <use style=\"fill:#1f77b4;stroke:#1f77b4;\" x=\"163.410089\" xlink:href=\"#m99eaf96f29\" y=\"82.588766\"/>\n",
       "     <use style=\"fill:#1f77b4;stroke:#1f77b4;\" x=\"97.656587\" xlink:href=\"#m99eaf96f29\" y=\"42.097289\"/>\n",
       "     <use style=\"fill:#1f77b4;stroke:#1f77b4;\" x=\"84.032578\" xlink:href=\"#m99eaf96f29\" y=\"35.518967\"/>\n",
       "     <use style=\"fill:#1f77b4;stroke:#1f77b4;\" x=\"117.447226\" xlink:href=\"#m99eaf96f29\" y=\"74.39189\"/>\n",
       "     <use style=\"fill:#1f77b4;stroke:#1f77b4;\" x=\"111.383697\" xlink:href=\"#m99eaf96f29\" y=\"55.386125\"/>\n",
       "     <use style=\"fill:#1f77b4;stroke:#1f77b4;\" x=\"141.741336\" xlink:href=\"#m99eaf96f29\" y=\"79.113572\"/>\n",
       "     <use style=\"fill:#1f77b4;stroke:#1f77b4;\" x=\"175.779481\" xlink:href=\"#m99eaf96f29\" y=\"105.145191\"/>\n",
       "     <use style=\"fill:#1f77b4;stroke:#1f77b4;\" x=\"163.12763\" xlink:href=\"#m99eaf96f29\" y=\"86.587894\"/>\n",
       "     <use style=\"fill:#1f77b4;stroke:#1f77b4;\" x=\"167.912693\" xlink:href=\"#m99eaf96f29\" y=\"85.58895\"/>\n",
       "     <use style=\"fill:#1f77b4;stroke:#1f77b4;\" x=\"150.968442\" xlink:href=\"#m99eaf96f29\" y=\"76.314068\"/>\n",
       "     <use style=\"fill:#1f77b4;stroke:#1f77b4;\" x=\"125.341508\" xlink:href=\"#m99eaf96f29\" y=\"81.022089\"/>\n",
       "     <use style=\"fill:#1f77b4;stroke:#1f77b4;\" x=\"164.578023\" xlink:href=\"#m99eaf96f29\" y=\"78.044444\"/>\n",
       "     <use style=\"fill:#1f77b4;stroke:#1f77b4;\" x=\"181.324689\" xlink:href=\"#m99eaf96f29\" y=\"111.216472\"/>\n",
       "     <use style=\"fill:#1f77b4;stroke:#1f77b4;\" x=\"146.883495\" xlink:href=\"#m99eaf96f29\" y=\"60.786664\"/>\n",
       "     <use style=\"fill:#1f77b4;stroke:#1f77b4;\" x=\"137.303337\" xlink:href=\"#m99eaf96f29\" y=\"64.348577\"/>\n",
       "     <use style=\"fill:#1f77b4;stroke:#1f77b4;\" x=\"136.048558\" xlink:href=\"#m99eaf96f29\" y=\"66.238493\"/>\n",
       "     <use style=\"fill:#1f77b4;stroke:#1f77b4;\" x=\"112.597626\" xlink:href=\"#m99eaf96f29\" y=\"54.015436\"/>\n",
       "     <use style=\"fill:#1f77b4;stroke:#1f77b4;\" x=\"141.434505\" xlink:href=\"#m99eaf96f29\" y=\"73.054483\"/>\n",
       "     <use style=\"fill:#1f77b4;stroke:#1f77b4;\" x=\"166.642739\" xlink:href=\"#m99eaf96f29\" y=\"88.815888\"/>\n",
       "     <use style=\"fill:#1f77b4;stroke:#1f77b4;\" x=\"151.291144\" xlink:href=\"#m99eaf96f29\" y=\"76.699934\"/>\n",
       "     <use style=\"fill:#1f77b4;stroke:#1f77b4;\" x=\"125.202795\" xlink:href=\"#m99eaf96f29\" y=\"57.045954\"/>\n",
       "     <use style=\"fill:#1f77b4;stroke:#1f77b4;\" x=\"91.320314\" xlink:href=\"#m99eaf96f29\" y=\"41.738948\"/>\n",
       "     <use style=\"fill:#1f77b4;stroke:#1f77b4;\" x=\"143.915792\" xlink:href=\"#m99eaf96f29\" y=\"73.645115\"/>\n",
       "     <use style=\"fill:#1f77b4;stroke:#1f77b4;\" x=\"217.132245\" xlink:href=\"#m99eaf96f29\" y=\"111.792656\"/>\n",
       "     <use style=\"fill:#1f77b4;stroke:#1f77b4;\" x=\"146.542822\" xlink:href=\"#m99eaf96f29\" y=\"68.941941\"/>\n",
       "     <use style=\"fill:#1f77b4;stroke:#1f77b4;\" x=\"127.270624\" xlink:href=\"#m99eaf96f29\" y=\"67.07256\"/>\n",
       "     <use style=\"fill:#1f77b4;stroke:#1f77b4;\" x=\"81.940541\" xlink:href=\"#m99eaf96f29\" y=\"40.570978\"/>\n",
       "     <use style=\"fill:#1f77b4;stroke:#1f77b4;\" x=\"113.797534\" xlink:href=\"#m99eaf96f29\" y=\"57.868794\"/>\n",
       "     <use style=\"fill:#1f77b4;stroke:#1f77b4;\" x=\"124.37567\" xlink:href=\"#m99eaf96f29\" y=\"61.832265\"/>\n",
       "     <use style=\"fill:#1f77b4;stroke:#1f77b4;\" x=\"117.225545\" xlink:href=\"#m99eaf96f29\" y=\"51.551933\"/>\n",
       "     <use style=\"fill:#1f77b4;stroke:#1f77b4;\" x=\"108.383316\" xlink:href=\"#m99eaf96f29\" y=\"54.984843\"/>\n",
       "     <use style=\"fill:#1f77b4;stroke:#1f77b4;\" x=\"100.61111\" xlink:href=\"#m99eaf96f29\" y=\"41.838627\"/>\n",
       "     <use style=\"fill:#1f77b4;stroke:#1f77b4;\" x=\"141.442992\" xlink:href=\"#m99eaf96f29\" y=\"62.022793\"/>\n",
       "     <use style=\"fill:#1f77b4;stroke:#1f77b4;\" x=\"99.930568\" xlink:href=\"#m99eaf96f29\" y=\"55.293458\"/>\n",
       "     <use style=\"fill:#1f77b4;stroke:#1f77b4;\" x=\"166.305668\" xlink:href=\"#m99eaf96f29\" y=\"84.649077\"/>\n",
       "     <use style=\"fill:#1f77b4;stroke:#1f77b4;\" x=\"104.070501\" xlink:href=\"#m99eaf96f29\" y=\"43.851394\"/>\n",
       "     <use style=\"fill:#1f77b4;stroke:#1f77b4;\" x=\"145.810216\" xlink:href=\"#m99eaf96f29\" y=\"80.382368\"/>\n",
       "     <use style=\"fill:#1f77b4;stroke:#1f77b4;\" x=\"59.224155\" xlink:href=\"#m99eaf96f29\" y=\"17.612819\"/>\n",
       "     <use style=\"fill:#1f77b4;stroke:#1f77b4;\" x=\"145.683536\" xlink:href=\"#m99eaf96f29\" y=\"72.851138\"/>\n",
       "     <use style=\"fill:#1f77b4;stroke:#1f77b4;\" x=\"155.912197\" xlink:href=\"#m99eaf96f29\" y=\"78.56651\"/>\n",
       "     <use style=\"fill:#1f77b4;stroke:#1f77b4;\" x=\"138.140404\" xlink:href=\"#m99eaf96f29\" y=\"75.102434\"/>\n",
       "     <use style=\"fill:#1f77b4;stroke:#1f77b4;\" x=\"153.900501\" xlink:href=\"#m99eaf96f29\" y=\"81.238388\"/>\n",
       "     <use style=\"fill:#1f77b4;stroke:#1f77b4;\" x=\"153.205815\" xlink:href=\"#m99eaf96f29\" y=\"70.819411\"/>\n",
       "     <use style=\"fill:#1f77b4;stroke:#1f77b4;\" x=\"98.552313\" xlink:href=\"#m99eaf96f29\" y=\"55.397682\"/>\n",
       "     <use style=\"fill:#1f77b4;stroke:#1f77b4;\" x=\"111.090651\" xlink:href=\"#m99eaf96f29\" y=\"56.247852\"/>\n",
       "     <use style=\"fill:#1f77b4;stroke:#1f77b4;\" x=\"122.455034\" xlink:href=\"#m99eaf96f29\" y=\"74.963206\"/>\n",
       "     <use style=\"fill:#1f77b4;stroke:#1f77b4;\" x=\"119.357337\" xlink:href=\"#m99eaf96f29\" y=\"58.350279\"/>\n",
       "     <use style=\"fill:#1f77b4;stroke:#1f77b4;\" x=\"160.542288\" xlink:href=\"#m99eaf96f29\" y=\"86.110079\"/>\n",
       "     <use style=\"fill:#1f77b4;stroke:#1f77b4;\" x=\"114.264807\" xlink:href=\"#m99eaf96f29\" y=\"73.99696\"/>\n",
       "     <use style=\"fill:#1f77b4;stroke:#1f77b4;\" x=\"155.120074\" xlink:href=\"#m99eaf96f29\" y=\"84.376019\"/>\n",
       "     <use style=\"fill:#1f77b4;stroke:#1f77b4;\" x=\"112.37004\" xlink:href=\"#m99eaf96f29\" y=\"54.157537\"/>\n",
       "     <use style=\"fill:#1f77b4;stroke:#1f77b4;\" x=\"136.466024\" xlink:href=\"#m99eaf96f29\" y=\"79.179469\"/>\n",
       "     <use style=\"fill:#1f77b4;stroke:#1f77b4;\" x=\"143.433943\" xlink:href=\"#m99eaf96f29\" y=\"77.460587\"/>\n",
       "     <use style=\"fill:#1f77b4;stroke:#1f77b4;\" x=\"165.39276\" xlink:href=\"#m99eaf96f29\" y=\"91.29952\"/>\n",
       "     <use style=\"fill:#1f77b4;stroke:#1f77b4;\" x=\"76.08769\" xlink:href=\"#m99eaf96f29\" y=\"46.678675\"/>\n",
       "     <use style=\"fill:#1f77b4;stroke:#1f77b4;\" x=\"135.207505\" xlink:href=\"#m99eaf96f29\" y=\"76.017915\"/>\n",
       "     <use style=\"fill:#1f77b4;stroke:#1f77b4;\" x=\"106.070017\" xlink:href=\"#m99eaf96f29\" y=\"54.89677\"/>\n",
       "     <use style=\"fill:#1f77b4;stroke:#1f77b4;\" x=\"126.281732\" xlink:href=\"#m99eaf96f29\" y=\"55.776304\"/>\n",
       "     <use style=\"fill:#1f77b4;stroke:#1f77b4;\" x=\"183.79475\" xlink:href=\"#m99eaf96f29\" y=\"83.712254\"/>\n",
       "     <use style=\"fill:#1f77b4;stroke:#1f77b4;\" x=\"145.17756\" xlink:href=\"#m99eaf96f29\" y=\"76.287387\"/>\n",
       "     <use style=\"fill:#1f77b4;stroke:#1f77b4;\" x=\"71.513937\" xlink:href=\"#m99eaf96f29\" y=\"41.953544\"/>\n",
       "     <use style=\"fill:#1f77b4;stroke:#1f77b4;\" x=\"118.598231\" xlink:href=\"#m99eaf96f29\" y=\"62.871543\"/>\n",
       "     <use style=\"fill:#1f77b4;stroke:#1f77b4;\" x=\"149.25828\" xlink:href=\"#m99eaf96f29\" y=\"58.609607\"/>\n",
       "     <use style=\"fill:#1f77b4;stroke:#1f77b4;\" x=\"120.381971\" xlink:href=\"#m99eaf96f29\" y=\"55.638965\"/>\n",
       "     <use style=\"fill:#1f77b4;stroke:#1f77b4;\" x=\"155.991652\" xlink:href=\"#m99eaf96f29\" y=\"90.296581\"/>\n",
       "     <use style=\"fill:#1f77b4;stroke:#1f77b4;\" x=\"139.343402\" xlink:href=\"#m99eaf96f29\" y=\"69.069368\"/>\n",
       "     <use style=\"fill:#1f77b4;stroke:#1f77b4;\" x=\"104.183953\" xlink:href=\"#m99eaf96f29\" y=\"57.80888\"/>\n",
       "     <use style=\"fill:#1f77b4;stroke:#1f77b4;\" x=\"129.268746\" xlink:href=\"#m99eaf96f29\" y=\"56.549288\"/>\n",
       "     <use style=\"fill:#1f77b4;stroke:#1f77b4;\" x=\"134.237793\" xlink:href=\"#m99eaf96f29\" y=\"61.601518\"/>\n",
       "     <use style=\"fill:#1f77b4;stroke:#1f77b4;\" x=\"117.794526\" xlink:href=\"#m99eaf96f29\" y=\"59.067887\"/>\n",
       "     <use style=\"fill:#1f77b4;stroke:#1f77b4;\" x=\"157.907687\" xlink:href=\"#m99eaf96f29\" y=\"93.725674\"/>\n",
       "     <use style=\"fill:#1f77b4;stroke:#1f77b4;\" x=\"138.471603\" xlink:href=\"#m99eaf96f29\" y=\"58.474347\"/>\n",
       "     <use style=\"fill:#1f77b4;stroke:#1f77b4;\" x=\"125.103061\" xlink:href=\"#m99eaf96f29\" y=\"64.184623\"/>\n",
       "     <use style=\"fill:#1f77b4;stroke:#1f77b4;\" x=\"183.790139\" xlink:href=\"#m99eaf96f29\" y=\"89.298638\"/>\n",
       "     <use style=\"fill:#1f77b4;stroke:#1f77b4;\" x=\"99.271237\" xlink:href=\"#m99eaf96f29\" y=\"45.665632\"/>\n",
       "     <use style=\"fill:#1f77b4;stroke:#1f77b4;\" x=\"138.731941\" xlink:href=\"#m99eaf96f29\" y=\"70.854605\"/>\n",
       "     <use style=\"fill:#1f77b4;stroke:#1f77b4;\" x=\"166.204541\" xlink:href=\"#m99eaf96f29\" y=\"82.112683\"/>\n",
       "     <use style=\"fill:#1f77b4;stroke:#1f77b4;\" x=\"143.217859\" xlink:href=\"#m99eaf96f29\" y=\"66.389715\"/>\n",
       "     <use style=\"fill:#1f77b4;stroke:#1f77b4;\" x=\"109.004577\" xlink:href=\"#m99eaf96f29\" y=\"67.818794\"/>\n",
       "    </g>\n",
       "   </g>\n",
       "   <g id=\"matplotlib.axis_1\">\n",
       "    <g id=\"xtick_1\">\n",
       "     <g id=\"line2d_1\">\n",
       "      <defs>\n",
       "       <path d=\"M 0 0 \n",
       "L 0 3.5 \n",
       "\" id=\"mfd5dd7a786\" style=\"stroke:#000000;stroke-width:0.8;\"/>\n",
       "      </defs>\n",
       "      <g>\n",
       "       <use style=\"stroke:#000000;stroke-width:0.8;\" x=\"75.486339\" xlink:href=\"#mfd5dd7a786\" y=\"143.1\"/>\n",
       "      </g>\n",
       "     </g>\n",
       "     <g id=\"text_1\">\n",
       "      <!-- −2 -->\n",
       "      <defs>\n",
       "       <path d=\"M 10.59375 35.5 \n",
       "L 73.1875 35.5 \n",
       "L 73.1875 27.203125 \n",
       "L 10.59375 27.203125 \n",
       "z\n",
       "\" id=\"DejaVuSans-8722\"/>\n",
       "       <path d=\"M 19.1875 8.296875 \n",
       "L 53.609375 8.296875 \n",
       "L 53.609375 0 \n",
       "L 7.328125 0 \n",
       "L 7.328125 8.296875 \n",
       "Q 12.9375 14.109375 22.625 23.890625 \n",
       "Q 32.328125 33.6875 34.8125 36.53125 \n",
       "Q 39.546875 41.84375 41.421875 45.53125 \n",
       "Q 43.3125 49.21875 43.3125 52.78125 \n",
       "Q 43.3125 58.59375 39.234375 62.25 \n",
       "Q 35.15625 65.921875 28.609375 65.921875 \n",
       "Q 23.96875 65.921875 18.8125 64.3125 \n",
       "Q 13.671875 62.703125 7.8125 59.421875 \n",
       "L 7.8125 69.390625 \n",
       "Q 13.765625 71.78125 18.9375 73 \n",
       "Q 24.125 74.21875 28.421875 74.21875 \n",
       "Q 39.75 74.21875 46.484375 68.546875 \n",
       "Q 53.21875 62.890625 53.21875 53.421875 \n",
       "Q 53.21875 48.921875 51.53125 44.890625 \n",
       "Q 49.859375 40.875 45.40625 35.40625 \n",
       "Q 44.1875 33.984375 37.640625 27.21875 \n",
       "Q 31.109375 20.453125 19.1875 8.296875 \n",
       "z\n",
       "\" id=\"DejaVuSans-50\"/>\n",
       "      </defs>\n",
       "      <g transform=\"translate(68.115245 157.698438)scale(0.1 -0.1)\">\n",
       "       <use xlink:href=\"#DejaVuSans-8722\"/>\n",
       "       <use x=\"83.789062\" xlink:href=\"#DejaVuSans-50\"/>\n",
       "      </g>\n",
       "     </g>\n",
       "    </g>\n",
       "    <g id=\"xtick_2\">\n",
       "     <g id=\"line2d_2\">\n",
       "      <g>\n",
       "       <use style=\"stroke:#000000;stroke-width:0.8;\" x=\"132.49118\" xlink:href=\"#mfd5dd7a786\" y=\"143.1\"/>\n",
       "      </g>\n",
       "     </g>\n",
       "     <g id=\"text_2\">\n",
       "      <!-- 0 -->\n",
       "      <defs>\n",
       "       <path d=\"M 31.78125 66.40625 \n",
       "Q 24.171875 66.40625 20.328125 58.90625 \n",
       "Q 16.5 51.421875 16.5 36.375 \n",
       "Q 16.5 21.390625 20.328125 13.890625 \n",
       "Q 24.171875 6.390625 31.78125 6.390625 \n",
       "Q 39.453125 6.390625 43.28125 13.890625 \n",
       "Q 47.125 21.390625 47.125 36.375 \n",
       "Q 47.125 51.421875 43.28125 58.90625 \n",
       "Q 39.453125 66.40625 31.78125 66.40625 \n",
       "z\n",
       "M 31.78125 74.21875 \n",
       "Q 44.046875 74.21875 50.515625 64.515625 \n",
       "Q 56.984375 54.828125 56.984375 36.375 \n",
       "Q 56.984375 17.96875 50.515625 8.265625 \n",
       "Q 44.046875 -1.421875 31.78125 -1.421875 \n",
       "Q 19.53125 -1.421875 13.0625 8.265625 \n",
       "Q 6.59375 17.96875 6.59375 36.375 \n",
       "Q 6.59375 54.828125 13.0625 64.515625 \n",
       "Q 19.53125 74.21875 31.78125 74.21875 \n",
       "z\n",
       "\" id=\"DejaVuSans-48\"/>\n",
       "      </defs>\n",
       "      <g transform=\"translate(129.30993 157.698438)scale(0.1 -0.1)\">\n",
       "       <use xlink:href=\"#DejaVuSans-48\"/>\n",
       "      </g>\n",
       "     </g>\n",
       "    </g>\n",
       "    <g id=\"xtick_3\">\n",
       "     <g id=\"line2d_3\">\n",
       "      <g>\n",
       "       <use style=\"stroke:#000000;stroke-width:0.8;\" x=\"189.496021\" xlink:href=\"#mfd5dd7a786\" y=\"143.1\"/>\n",
       "      </g>\n",
       "     </g>\n",
       "     <g id=\"text_3\">\n",
       "      <!-- 2 -->\n",
       "      <g transform=\"translate(186.314771 157.698438)scale(0.1 -0.1)\">\n",
       "       <use xlink:href=\"#DejaVuSans-50\"/>\n",
       "      </g>\n",
       "     </g>\n",
       "    </g>\n",
       "   </g>\n",
       "   <g id=\"matplotlib.axis_2\">\n",
       "    <g id=\"ytick_1\">\n",
       "     <g id=\"line2d_4\">\n",
       "      <defs>\n",
       "       <path d=\"M 0 0 \n",
       "L -3.5 0 \n",
       "\" id=\"m02297aaade\" style=\"stroke:#000000;stroke-width:0.8;\"/>\n",
       "      </defs>\n",
       "      <g>\n",
       "       <use style=\"stroke:#000000;stroke-width:0.8;\" x=\"35.304688\" xlink:href=\"#m02297aaade\" y=\"129.909693\"/>\n",
       "      </g>\n",
       "     </g>\n",
       "     <g id=\"text_4\">\n",
       "      <!-- −10 -->\n",
       "      <defs>\n",
       "       <path d=\"M 12.40625 8.296875 \n",
       "L 28.515625 8.296875 \n",
       "L 28.515625 63.921875 \n",
       "L 10.984375 60.40625 \n",
       "L 10.984375 69.390625 \n",
       "L 28.421875 72.90625 \n",
       "L 38.28125 72.90625 \n",
       "L 38.28125 8.296875 \n",
       "L 54.390625 8.296875 \n",
       "L 54.390625 0 \n",
       "L 12.40625 0 \n",
       "z\n",
       "\" id=\"DejaVuSans-49\"/>\n",
       "      </defs>\n",
       "      <g transform=\"translate(7.2 133.708911)scale(0.1 -0.1)\">\n",
       "       <use xlink:href=\"#DejaVuSans-8722\"/>\n",
       "       <use x=\"83.789062\" xlink:href=\"#DejaVuSans-49\"/>\n",
       "       <use x=\"147.412109\" xlink:href=\"#DejaVuSans-48\"/>\n",
       "      </g>\n",
       "     </g>\n",
       "    </g>\n",
       "    <g id=\"ytick_2\">\n",
       "     <g id=\"line2d_5\">\n",
       "      <g>\n",
       "       <use style=\"stroke:#000000;stroke-width:0.8;\" x=\"35.304688\" xlink:href=\"#m02297aaade\" y=\"86.645685\"/>\n",
       "      </g>\n",
       "     </g>\n",
       "     <g id=\"text_5\">\n",
       "      <!-- 0 -->\n",
       "      <g transform=\"translate(21.942187 90.444903)scale(0.1 -0.1)\">\n",
       "       <use xlink:href=\"#DejaVuSans-48\"/>\n",
       "      </g>\n",
       "     </g>\n",
       "    </g>\n",
       "    <g id=\"ytick_3\">\n",
       "     <g id=\"line2d_6\">\n",
       "      <g>\n",
       "       <use style=\"stroke:#000000;stroke-width:0.8;\" x=\"35.304688\" xlink:href=\"#m02297aaade\" y=\"43.381677\"/>\n",
       "      </g>\n",
       "     </g>\n",
       "     <g id=\"text_6\">\n",
       "      <!-- 10 -->\n",
       "      <g transform=\"translate(15.579687 47.180895)scale(0.1 -0.1)\">\n",
       "       <use xlink:href=\"#DejaVuSans-49\"/>\n",
       "       <use x=\"63.623047\" xlink:href=\"#DejaVuSans-48\"/>\n",
       "      </g>\n",
       "     </g>\n",
       "    </g>\n",
       "   </g>\n",
       "   <g id=\"patch_3\">\n",
       "    <path d=\"M 35.304688 143.1 \n",
       "L 35.304688 7.2 \n",
       "\" style=\"fill:none;stroke:#000000;stroke-linecap:square;stroke-linejoin:miter;stroke-width:0.8;\"/>\n",
       "   </g>\n",
       "   <g id=\"patch_4\">\n",
       "    <path d=\"M 230.604688 143.1 \n",
       "L 230.604688 7.2 \n",
       "\" style=\"fill:none;stroke:#000000;stroke-linecap:square;stroke-linejoin:miter;stroke-width:0.8;\"/>\n",
       "   </g>\n",
       "   <g id=\"patch_5\">\n",
       "    <path d=\"M 35.304688 143.1 \n",
       "L 230.604688 143.1 \n",
       "\" style=\"fill:none;stroke:#000000;stroke-linecap:square;stroke-linejoin:miter;stroke-width:0.8;\"/>\n",
       "   </g>\n",
       "   <g id=\"patch_6\">\n",
       "    <path d=\"M 35.304688 7.2 \n",
       "L 230.604688 7.2 \n",
       "\" style=\"fill:none;stroke:#000000;stroke-linecap:square;stroke-linejoin:miter;stroke-width:0.8;\"/>\n",
       "   </g>\n",
       "  </g>\n",
       " </g>\n",
       " <defs>\n",
       "  <clipPath id=\"p126e0b308a\">\n",
       "   <rect height=\"135.9\" width=\"195.3\" x=\"35.304688\" y=\"7.2\"/>\n",
       "  </clipPath>\n",
       " </defs>\n",
       "</svg>\n"
      ],
      "text/plain": [
       "<Figure size 252x180 with 1 Axes>"
      ]
     },
     "metadata": {
      "needs_background": "light"
     },
     "output_type": "display_data"
    }
   ],
   "source": [
    "def use_svg_display():\n",
    "    # 用矢量图显示\n",
    "    display.set_matplotlib_formats('svg')\n",
    "\n",
    "def set_figsize(figsize=(3.5, 2.5)):\n",
    "    use_svg_display()\n",
    "    # 设置图的尺寸\n",
    "    plt.rcParams['figure.figsize'] = figsize\n",
    "\n",
    "set_figsize()\n",
    "plt.scatter(features[:, 1].numpy(), labels.numpy(), 1);  # 加分号只显示图"
   ]
  },
  {
   "cell_type": "markdown",
   "metadata": {},
   "source": [
    "我们将上面的 `plt` 作图函数以及 `use_svg_display` 函数和 `set_figsize` 函数定义在 `dl4wm` 包里。以后在作图时，我们将直接调用 `dl4wm.plt`。由于 `plt` 在 `dl4wm` 包中是一个全局变量，我们在作图前只需要调用 `dl4wm.set_figsize()` 即可打印矢量图并设置图的尺寸。"
   ]
  },
  {
   "cell_type": "markdown",
   "metadata": {},
   "source": [
    "### 读取数据集\n",
    "\n",
    "在训练模型的时候，我们需要遍历数据集并不断读取小批量数据样本。这里我们定义一个函数：它每次返回 `batch_size`（批量大小）个随机样本的特征和标签。"
   ]
  },
  {
   "cell_type": "code",
   "execution_count": 11,
   "metadata": {},
   "outputs": [],
   "source": [
    "# 本函数已保存在 dl4wm 包中方便以后使用\n",
    "def data_iter(batch_size, features, labels):\n",
    "    num_examples = len(features)\n",
    "    indices = list(range(num_examples))\n",
    "    random.shuffle(indices)  # 样本的读取顺序是随机的\n",
    "    for i in range(0, num_examples, batch_size):\n",
    "        j = torch.tensor(indices[i: min(i + batch_size, num_examples)])\n",
    "        yield features.index_select(dim=0, index=j), labels.index_select(dim=0, index=j) \n",
    "        # index_select 函数根据索引返回对应元素"
   ]
  },
  {
   "cell_type": "markdown",
   "metadata": {},
   "source": [
    "让我们读取第一个小批量数据样本并打印。每个批量的特征形状为 (10, 2)，分别对应批量大小和输入个数；标签形状为批量大小。"
   ]
  },
  {
   "cell_type": "code",
   "execution_count": 12,
   "metadata": {},
   "outputs": [
    {
     "name": "stdout",
     "output_type": "stream",
     "text": [
      "tensor([[ 0.8558,  1.7363],\n",
      "        [ 0.2204, -1.5585],\n",
      "        [ 0.2168, -0.2810],\n",
      "        [-0.3010, -0.2693],\n",
      "        [ 0.0926,  0.7364],\n",
      "        [-1.3542,  0.9348],\n",
      "        [ 0.1820, -1.4468],\n",
      "        [-0.8049,  0.4269],\n",
      "        [-0.2008, -0.4136],\n",
      "        [-0.1879,  0.1783]])\n",
      "tensor([ 1.4626e-03,  9.9292e+00,  5.5806e+00,  4.5016e+00,  1.8871e+00,\n",
      "        -1.6775e+00,  9.4821e+00,  1.1425e+00,  5.2125e+00,  3.1927e+00])\n"
     ]
    }
   ],
   "source": [
    "batch_size = 10\n",
    "\n",
    "for X, y in data_iter(batch_size, features, labels):\n",
    "    print(X)\n",
    "    print(y)\n",
    "    break"
   ]
  },
  {
   "cell_type": "markdown",
   "metadata": {},
   "source": [
    "### 初始化模型参数\n",
    "\n",
    "我们将权重初始化成均值为 0、标准差为 0.01 的正态随机数，偏差则初始化成 0。"
   ]
  },
  {
   "cell_type": "code",
   "execution_count": 13,
   "metadata": {},
   "outputs": [],
   "source": [
    "w = torch.normal(mean=0, std=0.01, size=(num_inputs, 1))\n",
    "b = torch.zeros(size=(1,))\n",
    "assert w.dtype == torch.float32"
   ]
  },
  {
   "cell_type": "markdown",
   "metadata": {},
   "source": [
    "之后的模型训练中，需要对这些参数求梯度来迭代参数的值，因此我们需要创建它们的梯度。"
   ]
  },
  {
   "cell_type": "code",
   "execution_count": 14,
   "metadata": {},
   "outputs": [],
   "source": [
    "# w.requires_grad = True\n",
    "# b.requires_grad = True\n",
    "# or\n",
    "w.requires_grad_(requires_grad=True)\n",
    "b.requires_grad_(requires_grad=True);"
   ]
  },
  {
   "cell_type": "markdown",
   "metadata": {},
   "source": [
    "### 定义模型\n",
    "\n",
    "下面是线性回归的矢量计算表达式的实现。我们使用 `torch.mm` 函数做矩阵乘法。\n",
    "\n",
    "$$\n",
    "\\hat{\\boldsymbol{y}}=\\boldsymbol{X} \\boldsymbol{w}+b\n",
    "$$"
   ]
  },
  {
   "cell_type": "code",
   "execution_count": 16,
   "metadata": {},
   "outputs": [],
   "source": [
    "def linreg(X, w, b):  # 本函数已保存在 dl4wm 包中方便以后使用\n",
    "    return torch.mm(X, w) + b"
   ]
  },
  {
   "cell_type": "markdown",
   "metadata": {},
   "source": [
    "### 定义损失函数\n",
    "\n",
    "我们使用刚刚描述的**平方损失**来定义线性回归的损失函数。在实现中，我们需要把真实值 `y` 变形成预测值 `y_hat` 的形状。以下函数返回的结果也将和 `y_hat` 的形状相同。\n",
    "\n",
    "$$\n",
    "\\ell^{(i)}\\left(w_{1}, w_{2}, b\\right)=\\frac{1}{2}\\left(\\hat{y}^{(i)}-y^{(i)}\\right)^{2}\n",
    "$$"
   ]
  },
  {
   "cell_type": "code",
   "execution_count": 17,
   "metadata": {},
   "outputs": [],
   "source": [
    "def squared_loss(y_hat, y):  # 本函数已保存在 dl4wm 包中方便以后使用\n",
    "    # 注意这里返回的是向量, 另外, pytorch 里的 MSELoss 并没有除以 2\n",
    "    return (y_hat - y.reshape(y_hat.shape)) ** 2 / 2"
   ]
  },
  {
   "cell_type": "markdown",
   "metadata": {},
   "source": [
    "### 定义优化算法\n",
    "\n",
    "以下的 `sgd` 函数实现了上一节中介绍的**小批量随机梯度下降算法**。它通过不断迭代模型参数来优化损失函数。这里自动求梯度模块计算得来的梯度是一个批量样本的梯度和。我们将它除以批量大小来得到平均值。\n",
    "\n",
    "$$\n",
    "\\begin{array}{l}\n",
    "w_{1} \\leftarrow w_{1}-\\frac{\\eta}{|\\mathcal{B}|} \\sum_{i \\in \\mathcal{B}} \\frac{\\partial \\ell^{(i)}\\left(w_{1}, w_{2}, b\\right)}{\\partial w_{1}} \\\\\n",
    "w_{2} \\leftarrow w_{2}-\\frac{\\eta}{|\\mathcal{B}|} \\sum_{i \\in \\mathcal{B}} \\frac{\\partial \\ell^{(i)}\\left(w_{1}, w_{2}, b\\right)}{\\partial w_{2}} \\\\\n",
    "b \\leftarrow b-\\frac{\\eta}{|\\mathcal{B}|} \\sum_{i \\in \\mathcal{B}} \\frac{\\partial \\ell^{(i)}\\left(w_{1}, w_{2}, b\\right)}{\\partial b}\n",
    "\\end{array}\n",
    "$$"
   ]
  },
  {
   "cell_type": "code",
   "execution_count": 18,
   "metadata": {},
   "outputs": [],
   "source": [
    "def sgd(params, lr, batch_size):  # 本函数已保存在 dl4wm 包中方便以后使用\n",
    "    for param in params:\n",
    "        param.data -= lr * param.grad / batch_size # 注意这里更新的是 param.data ！"
   ]
  },
  {
   "cell_type": "markdown",
   "metadata": {},
   "source": [
    "- Why `param.data`？\n",
    "    - 上面的计算对 `param.data` 值的更改，并不会记录在计算图里，所以不会影响到梯度的计算。\n",
    "    - 但是，对 `param.data` 值的更改，依然会影响原 `param` 的值。"
   ]
  },
  {
   "cell_type": "markdown",
   "metadata": {},
   "source": [
    "### 训练模型\n",
    "\n",
    "在训练中，我们将多次迭代模型参数。在每次迭代中，我们根据当前读取的小批量数据样本（特征 `X` 和标签 `y`），通过调用反向函数 `backward` 计算小批量随机梯度，并调用优化算法 `sgd` 迭代模型参数。由于我们之前设批量大小 `batch_size` 为 10，每个小批量的损失 `l` 的形状为 (10, 1)。回忆一下上一讲中谈到“自动求梯度”的时候。由于变量 `l` 并不是一个标量，所以我们将会运行 `torch.mean` 函数 (`torch.sum`也可以) 将其约化到一个标量，再运行 `l.backward()` 将对 `l` 中元素求和得到新的变量，再求该变量有关模型参数的梯度。\n",
    "\n",
    "在一个**迭代周期**（epoch）中，我们将完整遍历一遍 `data_iter` 函数，并对训练数据集中所有样本都使用一次（假设样本数能够被批量大小整除）。这里的迭代周期个数 `num_epochs` 和学习率 `lr` 都是超参数，分别设 10 和 0.03。在实践中，大多超参数都需要通过反复试错来不断调节。虽然迭代周期数设得越大模型可能越有效，但是训练时间可能过长。我们会在后面“优化算法”的课程中再详细介绍学习率对模型的影响。"
   ]
  },
  {
   "cell_type": "code",
   "execution_count": 21,
   "metadata": {},
   "outputs": [
    {
     "name": "stdout",
     "output_type": "stream",
     "text": [
      "epoch 1, loss 0.001948\n",
      "epoch 2, loss 0.001056\n",
      "epoch 3, loss 0.000573\n",
      "epoch 4, loss 0.000313\n",
      "epoch 5, loss 0.000172\n",
      "epoch 6, loss 0.000095\n",
      "epoch 7, loss 0.000054\n",
      "epoch 8, loss 0.000032\n",
      "epoch 9, loss 0.000020\n",
      "epoch 10, loss 0.000013\n"
     ]
    }
   ],
   "source": [
    "lr = 0.03           # 学习率\n",
    "num_epochs = 10      # 迭代周期个数\n",
    "net = linreg         # 我们的线性回归模型\n",
    "loss = squared_loss  # 损失函数 0.5 (y-y')^2\n",
    "\n",
    "for epoch in range(num_epochs):  # 训练模型一共需要 num_epochs 个迭代周期\n",
    "    # 在每一个迭代周期中，会使用训练数据集中所有样本一次（假设样本数能够被批量大小整除）。\n",
    "    # X 和 y 分别是小批量样本的特征和标签\n",
    "    for X, y in data_iter(batch_size, features, labels):\n",
    "        l = loss(net(X, w, b), y)  # l是有关小批量 X 和 y 的损失\n",
    "        l.mean().backward()  # 小批量的损失 l 对模型参数 [w, b] 求梯度\n",
    "        sgd([w, b], lr, batch_size)  # 使用小批量随机梯度下降迭代模型参数\n",
    "\n",
    "        # 一定不要忘了对当前小批量数据下的梯度清零\n",
    "        w.grad.data.zero_()\n",
    "        b.grad.data.zero_()\n",
    "    with torch.no_grad():\n",
    "        train_l = sum([loss(net(X, w, b),y).mean() for X, y in data_iter(batch_size, features, labels)])/num_examples\n",
    "        print('epoch %d, loss %f' % (epoch + 1, train_l))\n"
   ]
  },
  {
   "cell_type": "markdown",
   "metadata": {},
   "source": [
    "训练完成后，我们可以比较学到的参数和用来生成训练集的真实参数。它们应该很接近。"
   ]
  },
  {
   "cell_type": "code",
   "execution_count": 22,
   "metadata": {},
   "outputs": [
    {
     "name": "stdout",
     "output_type": "stream",
     "text": [
      "Error in estimating w tensor([ 0.0053, -0.0058])\n",
      "Error in estimating b tensor([0.0090])\n",
      "================================================== \n",
      "True w:[ 2.  -3.4]\n",
      "Pred w:[ 1.9946705 -3.3942113]\n",
      "================================================== \n",
      "True b:4.2\n",
      "Pred b:[4.1910048]\n"
     ]
    }
   ],
   "source": [
    "print('Error in estimating w', true_w - w.reshape(true_w.shape).data)\n",
    "print('Error in estimating b', true_b - b.data)\n",
    "print('='*50, '\\nTrue w:{}\\nPred w:{}'.format(true_w.numpy(),\n",
    "                                                w.reshape(true_w.shape).data.numpy()))\n",
    "print('='*50, '\\nTrue b:{}\\nPred b:{}'.format(true_b,\n",
    "                                                b.data.numpy()))"
   ]
  },
  {
   "cell_type": "markdown",
   "metadata": {},
   "source": [
    ">注意：`grad` 在反向传播过程中是**累加的**(accumulated, `+=`)，这意味着每一次运行反向传播，梯度都会累加之前的梯度，所以一般在反向传播之前需把梯度清零。"
   ]
  },
  {
   "cell_type": "code",
   "execution_count": 32,
   "metadata": {},
   "outputs": [
    {
     "data": {
      "text/plain": [
       "tensor([[-0.0015],\n",
       "        [-0.0026]])"
      ]
     },
     "execution_count": 32,
     "metadata": {},
     "output_type": "execute_result"
    }
   ],
   "source": [
    "w.grad.data.zero_()\n",
    "\n",
    "l = loss(net(X, w, b), y)  # l是有关小批量 X 和 y 的损失\n",
    "l.mean().backward()  # 小批量的损失 l 对模型参数 [w, b] 求梯度\n",
    "w.grad"
   ]
  },
  {
   "cell_type": "code",
   "execution_count": 24,
   "metadata": {},
   "outputs": [
    {
     "data": {
      "text/plain": [
       "tensor([[-0.0015],\n",
       "        [-0.0026]])"
      ]
     },
     "execution_count": 24,
     "metadata": {},
     "output_type": "execute_result"
    }
   ],
   "source": [
    "w.grad"
   ]
  },
  {
   "cell_type": "markdown",
   "metadata": {},
   "source": [
    "小结：\n",
    "\n",
    "- 仅使用 `Tensor` 和 `autograd` 模块就可以很容易地实现一个模型。"
   ]
  },
  {
   "cell_type": "markdown",
   "metadata": {},
   "source": [
    "- 更加紧凑的写法：\n",
    "\n",
    "```python\n",
    "def sgd(params, lr, batch_size):\n",
    "    for param in params:\n",
    "        param.data.sub_(lr*param.grad/batch_size)\n",
    "        param.grad.data.zero_()\n",
    "```"
   ]
  },
  {
   "cell_type": "markdown",
   "metadata": {},
   "source": [
    "---\n",
    "\n",
    "## 线性回归的简洁实现\n",
    "\n",
    ">(Restart your kernel here)\n",
    "\n",
    "随着深度学习框架的发展，开发深度学习应用变得越来越便利。实践中，我们通常可以用比上一节更简洁的代码来实现同样的模型。在本节中，我们将介绍如何使用 PyTorch 更方便地实现线性回归的训练。"
   ]
  },
  {
   "cell_type": "code",
   "execution_count": 1,
   "metadata": {},
   "outputs": [
    {
     "name": "stdout",
     "output_type": "stream",
     "text": [
      "1.3.0.post2\n"
     ]
    }
   ],
   "source": [
    "import torch  # 加载 torch 库\n",
    "print(torch.__version__)   # 查看版本\n",
    "import numpy as np"
   ]
  },
  {
   "cell_type": "markdown",
   "metadata": {},
   "source": [
    "### 生成数据集\n",
    "\n",
    "我们生成与上一节中相同的数据集。其中 `features` 是训练数据特征，`labels` 是标签。"
   ]
  },
  {
   "cell_type": "code",
   "execution_count": 2,
   "metadata": {},
   "outputs": [
    {
     "data": {
      "text/plain": [
       "(torch.Size([1000, 2]), torch.Size([1000, 1]))"
      ]
     },
     "execution_count": 2,
     "metadata": {},
     "output_type": "execute_result"
    }
   ],
   "source": [
    "def synthetic_data(w, b, num_examples):\n",
    "    \"\"\"generate y = X w + b + noise\"\"\"\n",
    "    X = np.random.normal(scale=1, size=(num_examples, len(w)))\n",
    "    y = np.dot(X, w) + b\n",
    "    y += np.random.normal(scale=0.01, size=y.shape)\n",
    "    X = torch.from_numpy(X).float()\n",
    "    y = torch.from_numpy(y).float().reshape(-1,1)\n",
    "    return X,y\n",
    "\n",
    "true_w = torch.Tensor([2, -3.4])\n",
    "true_b = 4.2\n",
    "features, labels = synthetic_data(true_w, true_b, 1000)\n",
    "features.size(), labels.size()"
   ]
  },
  {
   "cell_type": "markdown",
   "metadata": {},
   "source": [
    "### 读取数据\n",
    "\n",
    "PyTorch 提供了 `data` 包来读取数据。由于 `data` 常用作变量名，我们将导入的 `data` 模块用 `Data` 代替。在每一次迭代中，我们将随机读取包含 10 个数据样本的小批量。"
   ]
  },
  {
   "cell_type": "code",
   "execution_count": 4,
   "metadata": {},
   "outputs": [],
   "source": [
    "import torch.utils.data as Data\n",
    "def load_array(data_arrays, batch_size, is_train=True):\n",
    "    # 将训练数据的特征和标签组合\n",
    "    dataset = Data.TensorDataset(*data_arrays)\n",
    "    # 随机读取小批量\n",
    "    dataloader = Data.DataLoader(dataset, batch_size, shuffle=True)\n",
    "    return dataloader\n",
    "\n",
    "batch_size = 10\n",
    "data_iter = load_array((features, labels), batch_size)"
   ]
  },
  {
   "cell_type": "markdown",
   "metadata": {},
   "source": [
    "这里 `data_iter` 的使用跟上一节中的一样。让我们读取并打印第一个小批量数据样本。"
   ]
  },
  {
   "cell_type": "code",
   "execution_count": 13,
   "metadata": {},
   "outputs": [
    {
     "name": "stdout",
     "output_type": "stream",
     "text": [
      "tensor([[ 1.5651,  0.7536],\n",
      "        [-0.7829, -1.6684],\n",
      "        [-0.8139,  0.1182],\n",
      "        [-0.4684,  0.5977],\n",
      "        [ 1.2983,  0.8152],\n",
      "        [ 1.0206, -0.7925],\n",
      "        [-0.4237, -0.7368],\n",
      "        [ 1.8887,  1.1557],\n",
      "        [ 0.3605, -1.9125],\n",
      "        [-0.8984,  0.1105]])\n",
      "tensor([[ 4.7748],\n",
      "        [ 8.3099],\n",
      "        [ 2.1485],\n",
      "        [ 1.2490],\n",
      "        [ 4.0374],\n",
      "        [ 8.9397],\n",
      "        [ 5.8601],\n",
      "        [ 4.0516],\n",
      "        [11.4209],\n",
      "        [ 2.0148]])\n"
     ]
    }
   ],
   "source": [
    "for X, y in data_iter:\n",
    "    print(X)\n",
    "    print(y)\n",
    "    break"
   ]
  },
  {
   "cell_type": "markdown",
   "metadata": {},
   "source": [
    "### 定义模型\n",
    "\n",
    "在上一节从零开始的实现中，我们需要定义模型参数，并使用它们一步步描述模型是怎样计算的。当模型结构变得更复杂时，这些步骤将变得更繁琐。其实，PyTorch 提供了大量预定义的层，这使我们只需关注使用哪些层来构造模型。下面将介绍如何使用 PyTorch 更简洁地定义线性回归。\n",
    "\n",
    "![](https://vip2.loli.io/2021/03/08/kHJDwS7tgOLeKan.png)\n",
    "\n",
    "首先，导入 `torch.nn` 模块。实际上，\"nn\" 是 neural networks（神经网络）的缩写。顾名思义，该模块定义了大量神经网络的层。之前我们已经用过了 `autograd`，而 `nn` 就是利用 `autograd` 来定义模型。`nn` 的核心数据结构是 `Module`，它是一个抽象概念，既可以表示神经网络中的某个层（layer），也可以表示一个包含很多层的神经网络。在实际使用中，最常见的做法是继承 `nn.Module`，撰写自己的网络/层。一个 `nn.Module` 实例应该包含一些层以及返回输出的前向传播（forward）方法。下面先来看看如何用 `nn.Module` 实现一个线性回归模型。"
   ]
  },
  {
   "cell_type": "code",
   "execution_count": 25,
   "metadata": {},
   "outputs": [
    {
     "name": "stdout",
     "output_type": "stream",
     "text": [
      "LinearRegressionModel(\n",
      "  (layer1): Linear(in_features=2, out_features=1, bias=True)\n",
      ")\n"
     ]
    }
   ],
   "source": [
    "class LinearRegressionModel(torch.nn.Module):\n",
    "    def __init__(self, in_features, out_features):\n",
    "        super(LinearRegressionModel, self).__init__()\n",
    "        self.layer1 = torch.nn.Linear(in_features, out_features, bias=True)\n",
    "    # forward 定义前向传播\n",
    "    def forward(self, x):\n",
    "        y = self.layer1(x)\n",
    "        return y\n",
    "\n",
    "net = LinearRegressionModel(in_features=2, out_features=1)\n",
    "print(net) # 使用 print 可以打印出网络的结构"
   ]
  },
  {
   "cell_type": "markdown",
   "metadata": {},
   "source": [
    "另外，事实上我们还可以用 `nn.Sequential` 来更加方便地搭建网络，`Sequential` 是一个有序的容器，网络层将按照在传入 `Sequential` 的顺序依次被添加到计算图中。\n",
    "\n",
    "其他写法："
   ]
  },
  {
   "cell_type": "code",
   "execution_count": 23,
   "metadata": {},
   "outputs": [
    {
     "name": "stdout",
     "output_type": "stream",
     "text": [
      "Sequential(\n",
      "  (linear): Linear(in_features=2, out_features=1, bias=True)\n",
      ")\n",
      "Linear(in_features=2, out_features=1, bias=True)\n"
     ]
    }
   ],
   "source": [
    "# 写法一（参数化）\n",
    "net = torch.nn.Sequential(\n",
    "    torch.nn.Linear(2, 1),\n",
    "    # 此处还可以传入其他层\n",
    "    )\n",
    "\n",
    "# 写法二 (面向对象编程)\n",
    "net = torch.nn.Sequential()\n",
    "net.add_module('linear', torch.nn.Linear(2, 1))\n",
    "# net.add_module ......\n",
    "\n",
    "# 写法三（有序迭代化）\n",
    "from collections import OrderedDict\n",
    "net = torch.nn.Sequential(OrderedDict(\n",
    "    [\n",
    "        ('linear', torch.nn.Linear(2, 1)),\n",
    "        # ......\n",
    "    ]\n",
    "))\n",
    "print(net)\n",
    "print(net[0])"
   ]
  },
  {
   "cell_type": "markdown",
   "metadata": {},
   "source": [
    "我们的模型定义好以后，就可以通过 `net.parameters()` 来查看模型所有的可学习参数，此函数将返回一个生成器。"
   ]
  },
  {
   "cell_type": "code",
   "execution_count": 17,
   "metadata": {},
   "outputs": [
    {
     "name": "stdout",
     "output_type": "stream",
     "text": [
      "Parameter containing:\n",
      "tensor([[0.3155, 0.2245]], requires_grad=True)\n",
      "Parameter containing:\n",
      "tensor([0.3160], requires_grad=True)\n"
     ]
    }
   ],
   "source": [
    "for param in net.parameters():\n",
    "    print(param)"
   ]
  },
  {
   "cell_type": "markdown",
   "metadata": {},
   "source": [
    ">回忆：线性回归在神经网络图中的表示。作为一个单层神经网络，线性回归输出层中的神经元和输入层中各个输入完全连接。因此，线性回归的输出层又叫全连接层。\n",
    "\n",
    ">注意：`torch.nn` 仅支持输入一个 `batch` 的样本不支持单个样本输入，如果只有单个样本，可使用 `input.unsqueeze(0)` 来添加一维。"
   ]
  },
  {
   "cell_type": "markdown",
   "metadata": {},
   "source": [
    "### 初始化模型参数\n",
    "\n",
    "在使用 `net` 前，我们需要初始化模型参数，如线性回归模型中的权重和偏差。PyTorch 在 `init` 模块中提供了多种参数初始化方法。这里的 `init` 是 `initializer` 的缩写形式。我们通过 `init.normal_` 将权重参数每个元素初始化为随机采样于均值为 0、标准差为 0.01 的正态分布。偏差会初始化为零。"
   ]
  },
  {
   "cell_type": "code",
   "execution_count": 21,
   "metadata": {},
   "outputs": [
    {
     "name": "stdout",
     "output_type": "stream",
     "text": [
      "Parameter containing:\n",
      "tensor([[-0.0177,  0.0017]], requires_grad=True) Parameter containing:\n",
      "tensor([0.], requires_grad=True)\n"
     ]
    }
   ],
   "source": [
    "# 自定义方法\n",
    "net.layer1.weight.data = torch.normal(mean=0,std=0.01,size=(1,2))\n",
    "net.layer1.bias.data = torch.Tensor([0])\n",
    "\n",
    "print(net.layer1.weight, net.layer1.bias)"
   ]
  },
  {
   "cell_type": "code",
   "execution_count": 24,
   "metadata": {},
   "outputs": [
    {
     "name": "stdout",
     "output_type": "stream",
     "text": [
      "Parameter containing:\n",
      "tensor([[0.0150, 0.0002]], requires_grad=True) Parameter containing:\n",
      "tensor([0.], requires_grad=True)\n"
     ]
    }
   ],
   "source": [
    "# 方法一、二、三 \n",
    "torch.nn.init.normal_(net[0].weight, mean=0, std=0.01)\n",
    "torch.nn.init.constant_(net[0].bias, val=0)  \n",
    "# 也可以直接修改 bias 的data: net[0].bias.data.fill_(0)\n",
    "\n",
    "print(net[0].weight, net[0].bias)"
   ]
  },
  {
   "cell_type": "markdown",
   "metadata": {},
   "source": [
    ">注意：由于 `net[0]` 这样根据**下标**访问子模块的写法只有当 `net` 是个 `ModuleList` 或者 `Sequential` 实例时才可以。"
   ]
  },
  {
   "cell_type": "markdown",
   "metadata": {},
   "source": [
    "### 定义损失函数\n",
    "\n",
    "PyTorch 在 `nn` 模块中提供了各种损失函数，这些损失函数可看作是一种特殊的层，\n",
    "PyTorch 也将这些损失函数实现为 `nn.Module` 的子类。我们现在使用它提供的均方误差损失作为模型的损失函数。"
   ]
  },
  {
   "cell_type": "code",
   "execution_count": 26,
   "metadata": {},
   "outputs": [],
   "source": [
    "# Mean Squared Error (squared L2 norm) \n",
    "loss = torch.nn.MSELoss(reduction='mean')"
   ]
  },
  {
   "cell_type": "markdown",
   "metadata": {},
   "source": [
    "The unreduced (i.e. with `reduction` set to ``'none'``) loss can be described as:\n",
    "\n",
    "$$\n",
    "    \\ell(x, y) = L = \\{l_1,\\dots,l_N\\}^\\top, \\quad\n",
    "    l_n = \\left( x_n - y_n \\right)^2,\n",
    "$$\n",
    "\n",
    "where $N$ is the batch size. If `reduction` is not ``'none'``\n",
    "(default ``'mean'``), then:\n",
    "\n",
    "$$\n",
    "    \\ell(x, y) =\n",
    "    \\begin{cases}\n",
    "        \\operatorname{mean}(L), &  \\text{if reduction} = \\text{'mean';}\\\\\n",
    "        \\operatorname{sum}(L),  &  \\text{if reduction} = \\text{'sum'.}\n",
    "    \\end{cases}\n",
    "$$\n",
    "\n",
    "$x$ and $y$ are tensors of arbitrary shapes with a total\n",
    "of $n$ elements each."
   ]
  },
  {
   "cell_type": "markdown",
   "metadata": {},
   "source": [
    "### 定义优化算法\n",
    "\n",
    "同样，我们也无须自己实现小批量随机梯度下降算法。`torch.optim` 模块提供了很多常用的优化算法比如 SGD、Adam 和 RMSProp 等。下面我们创建一个用于优化 `net` 所有参数的优化器实例，并指定学习率为 0.03 的小批量随机梯度下降（SGD）为优化算法。"
   ]
  },
  {
   "cell_type": "code",
   "execution_count": 27,
   "metadata": {},
   "outputs": [
    {
     "name": "stdout",
     "output_type": "stream",
     "text": [
      "SGD (\n",
      "Parameter Group 0\n",
      "    dampening: 0\n",
      "    lr: 0.03\n",
      "    momentum: 0\n",
      "    nesterov: False\n",
      "    weight_decay: 0\n",
      ")\n"
     ]
    }
   ],
   "source": [
    "optimizer = torch.optim.SGD(net.parameters(), lr=0.03)\n",
    "print(optimizer)"
   ]
  },
  {
   "cell_type": "markdown",
   "metadata": {},
   "source": [
    "我们还可以为不同子网络设置不同的学习率，这在 **finetune** 时经常用到。例：\n",
    "\n",
    "```python\n",
    "optimizer =optim.SGD([\n",
    "    # 如果对某个参数不指定学习率，就使用最外层的默认学习率\n",
    "    {'params': net.subnet1.parameters()}, # lr=0.03\n",
    "    {'params': net.subnet2.parameters(), 'lr': 0.01}\n",
    "], lr=0.03)\n",
    "```\n",
    "\n",
    "有时候我们不想让学习率固定成一个常数，那如何调整学习率呢？主要有两种做法。一种是修改 `optimizer.param_groups` 中对应的学习率，另一种是更简单也是较为推荐的做法——新建优化器，由于 optimizer 十分轻量级，构建开销很小，故而可以构建新的 optimizer。但是后者对于使用动量的优化器（如 Adam），会丢失动量等状态信息，可能会造成损失函数的收敛出现震荡等情况。\n",
    "\n",
    "```python\n",
    "# 调整学习率\n",
    "for param_group in optimizer.param_groups:\n",
    "    param_group['lr'] *= 0.1 # 学习率为之前的0.1倍\n",
    "```\n",
    "\n",
    "关于学习的策略，我们会在之后的课程中给大家详细再谈到。"
   ]
  },
  {
   "cell_type": "markdown",
   "metadata": {},
   "source": [
    "### 训练模型\n",
    "\n",
    "在使用 PyTorch 训练模型时，我们通过调用 `optim` 实例的 `step` 函数来迭代模型参数。按照小批量随机梯度下降的定义，我们在 `step` 函数中指明批量大小，从而对批量中样本梯度求平均。"
   ]
  },
  {
   "cell_type": "code",
   "execution_count": 28,
   "metadata": {},
   "outputs": [
    {
     "name": "stdout",
     "output_type": "stream",
     "text": [
      "epoch 1, loss: 0.000347\n",
      "epoch 2, loss: 0.000121\n",
      "epoch 3, loss: 0.000083\n"
     ]
    }
   ],
   "source": [
    "num_epochs = 3\n",
    "for epoch in range(1, num_epochs + 1):\n",
    "    for X, y in data_iter:\n",
    "        output = net(X)\n",
    "        l = loss(output, y.view(-1, 1))\n",
    "        optimizer.zero_grad() # 梯度清零，等价于 net.zero_grad()\n",
    "        l.backward()\n",
    "        optimizer.step()\n",
    "    print('epoch %d, loss: %f' % (epoch, l.item()))"
   ]
  },
  {
   "cell_type": "markdown",
   "metadata": {},
   "source": [
    "下面我们分别比较学到的模型参数和真实的模型参数。我们从 `net` 获得需要的层，并访问其权重（weight）和偏差（bias）。学到的参数和真实的参数很接近。"
   ]
  },
  {
   "cell_type": "code",
   "execution_count": 29,
   "metadata": {},
   "outputs": [
    {
     "name": "stdout",
     "output_type": "stream",
     "text": [
      "Error in estimating w tensor([-3.4595e-04, -4.8399e-05], grad_fn=<SubBackward0>)\n",
      "Error in estimating b tensor(-0.0009, grad_fn=<RsubBackward1>)\n",
      "================================================== \n",
      "True w:[ 2.  -3.4]\n",
      "Pred w:[ 2.000346  -3.3999517]\n",
      "================================================== \n",
      "True b:4.2\n",
      "Pred b:4.200947284698486\n"
     ]
    }
   ],
   "source": [
    "w = list(net.parameters())[0][0]\n",
    "print('Error in estimating w', true_w.reshape(w.shape) - w)\n",
    "b = list(net.parameters())[1][0]\n",
    "print('Error in estimating b', true_b - b)\n",
    "\n",
    "print('='*50, '\\nTrue w:{}\\nPred w:{}'.format(true_w.numpy(),\n",
    "                                                w.reshape(true_w.shape).data.numpy()))\n",
    "print('='*50, '\\nTrue b:{}\\nPred b:{}'.format(true_b,\n",
    "                                                b.data.numpy()))"
   ]
  },
  {
   "cell_type": "markdown",
   "metadata": {},
   "source": [
    ">验证一下这个 `torch.nn.MSELoss` 和我们自己自定义的损失函数是不是真的差 1/2 呢？"
   ]
  },
  {
   "cell_type": "code",
   "execution_count": 32,
   "metadata": {},
   "outputs": [
    {
     "data": {
      "text/plain": [
       "tensor(8.3274e-05, grad_fn=<MseLossBackward>)"
      ]
     },
     "execution_count": 32,
     "metadata": {},
     "output_type": "execute_result"
    }
   ],
   "source": [
    "loss(output, y.view(-1, 1))"
   ]
  },
  {
   "cell_type": "code",
   "execution_count": 34,
   "metadata": {},
   "outputs": [
    {
     "data": {
      "text/plain": [
       "tensor(8.3274e-05, grad_fn=<MulBackward0>)"
      ]
     },
     "execution_count": 34,
     "metadata": {},
     "output_type": "execute_result"
    }
   ],
   "source": [
    "from dl4wm import squared_loss\n",
    "squared_loss(output, y.view(-1, 1)).mean()*2"
   ]
  },
  {
   "cell_type": "markdown",
   "metadata": {},
   "source": [
    "小结：\n",
    "\n",
    "- `torch.utils.data` 模块提供了有关数据处理的工具，\n",
    "- `torch.nn` 模块定义了大量神经网络的层\n",
    "- `torch.nn.init` 模块定义了各种初始化方法\n",
    "- `torch.optim` 模块提供了很多常用的优化算法。"
   ]
  },
  {
   "cell_type": "code",
   "execution_count": null,
   "metadata": {},
   "outputs": [],
   "source": []
  }
 ],
 "metadata": {
  "kernelspec": {
   "display_name": "Python 3",
   "language": "python",
   "name": "python3"
  },
  "language_info": {
   "codemirror_mode": {
    "name": "ipython",
    "version": 3
   },
   "file_extension": ".py",
   "mimetype": "text/x-python",
   "name": "python",
   "nbconvert_exporter": "python",
   "pygments_lexer": "ipython3",
   "version": "3.7.3"
  }
 },
 "nbformat": 4,
 "nbformat_minor": 4
}
