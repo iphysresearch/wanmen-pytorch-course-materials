{
 "cells": [
  {
   "cell_type": "code",
   "execution_count": 1,
   "metadata": {},
   "outputs": [],
   "source": [
    "import pandas as pd"
   ]
  },
  {
   "cell_type": "code",
   "execution_count": 22,
   "metadata": {},
   "outputs": [],
   "source": [
    "import bibtexparser\n",
    "\n",
    "with open('/Users/herb/Github/Survey4GWML/Survey4GWML.bib') as bibtex_file:\n",
    "    bib_database = bibtexparser.load(bibtex_file)"
   ]
  },
  {
   "cell_type": "code",
   "execution_count": 23,
   "metadata": {},
   "outputs": [
    {
     "data": {
      "text/plain": [
       "251"
      ]
     },
     "execution_count": 23,
     "metadata": {},
     "output_type": "execute_result"
    }
   ],
   "source": [
    "len(bib_database.entries)"
   ]
  },
  {
   "cell_type": "code",
   "execution_count": 26,
   "metadata": {},
   "outputs": [],
   "source": [
    "journal_list = []\n",
    "for entry in bib_database.entries:\n",
    "    try:\n",
    "        if 'arXiv' in entry['journal']:\n",
    "            continue\n",
    "        if 'Proceedings' in entry['journal']:\n",
    "            continue\n",
    "        elif 'Conference' in entry['journal']:\n",
    "            continue\n",
    "        if 'Physical Review D' in entry['journal']:\n",
    "            entry['journal'] = 'Phys. Rev. D'\n",
    "        elif 'Monthly Notices of the Royal Astronomical Society' in entry['journal']:\n",
    "            entry['journal'] = 'Mon Not R Astron Soc'\n",
    "    except KeyError:\n",
    "        continue\n",
    "    journal_list.append(entry['journal'])"
   ]
  },
  {
   "cell_type": "code",
   "execution_count": 27,
   "metadata": {},
   "outputs": [
    {
     "data": {
      "text/plain": [
       "138"
      ]
     },
     "execution_count": 27,
     "metadata": {},
     "output_type": "execute_result"
    }
   ],
   "source": [
    "len(journal_list)"
   ]
  },
  {
   "cell_type": "code",
   "execution_count": 28,
   "metadata": {},
   "outputs": [
    {
     "data": {
      "text/plain": [
       "Phys. Rev. D                                                                         62\n",
       "Classical and Quantum Gravity                                                        16\n",
       "Physics Letters B                                                                     9\n",
       "Mon Not R Astron Soc                                                                  9\n",
       "Machine Learning: Science and Technology                                              5\n",
       "Phys. Rev. Lett.                                                                      5\n",
       "The Astrophysical Journal                                                             5\n",
       "Frontiers of Physics                                                                  3\n",
       "Phys. Rev. Research                                                                   3\n",
       "Science China Physics, Mechanics & Astronomy                                          2\n",
       "General Relativity and Gravitation                                                    1\n",
       "Computer Physics Communications                                                       1\n",
       "Nature Astronomy                                                                      1\n",
       "International Journal of Modern Physics D                                             1\n",
       "Phys. Rev. X                                                                          1\n",
       "Publications of the Astronomical Society of the Pacific, 132(1016), 104501 (2020)     1\n",
       "Expert Systems with Applications                                                      1\n",
       "IEEE Transactions on Pattern Analysis and Machine Intelligence                        1\n",
       "Nature Physics                                                                        1\n",
       "The Bulletin of The Korean Astronomical Society                                       1\n",
       "Nature Reviews Physics                                                                1\n",
       "Bayesian Anal.                                                                        1\n",
       "Journal of Henan Normal University                                                    1\n",
       "Astron. Astrophys.                                                                    1\n",
       "Scientific Reports                                                                    1\n",
       "New Journal of Physics                                                                1\n",
       "Computing and Software for Big Science                                                1\n",
       "Wiley Interdisciplinary Reviews: Data Mining and Knowledge Discovery                  1\n",
       "Information Sciences                                                                  1\n",
       "dtype: int64"
      ]
     },
     "execution_count": 28,
     "metadata": {},
     "output_type": "execute_result"
    }
   ],
   "source": [
    "pd.Series(journal_list).value_counts()"
   ]
  },
  {
   "cell_type": "code",
   "execution_count": 1,
   "metadata": {},
   "outputs": [
    {
     "name": "stdout",
     "output_type": "stream",
     "text": [
      "history.png            js_history.txt         test_event_samples.npy\n",
      "history.txt            kl_history.png\n",
      "js_history.png         kl_history.txt\n"
     ]
    }
   ],
   "source": [
    "!ls /Users/herb/Downloads/round4/models/GW150914_sample_uniform_100basis_extrinsic_uniform_prior"
   ]
  },
  {
   "cell_type": "code",
   "execution_count": 9,
   "metadata": {},
   "outputs": [
    {
     "name": "stderr",
     "output_type": "stream",
     "text": [
      "/Users/herb/anaconda3/lib/python3.7/importlib/_bootstrap.py:219: RuntimeWarning: numpy.ufunc size changed, may indicate binary incompatibility. Expected 192 from C header, got 216 from PyObject\n",
      "  return f(*args, **kwds)\n",
      "/Users/herb/anaconda3/lib/python3.7/importlib/_bootstrap.py:219: RuntimeWarning: numpy.ufunc size changed, may indicate binary incompatibility. Expected 192 from C header, got 216 from PyObject\n",
      "  return f(*args, **kwds)\n",
      "/Users/herb/anaconda3/lib/python3.7/importlib/_bootstrap.py:219: RuntimeWarning: numpy.ufunc size changed, may indicate binary incompatibility. Expected 192 from C header, got 216 from PyObject\n",
      "  return f(*args, **kwds)\n"
     ]
    }
   ],
   "source": [
    "import numpy as np\n",
    "import pandas as pd\n",
    "\n",
    "from scipy import stats\n",
    "import matplotlib.pyplot as plt\n",
    "\n",
    "def js_divergence(samples, kde=stats.gaussian_kde, decimal=5, base=2.0):\n",
    "    try:\n",
    "         kernel = [kde(i) for i in samples]\n",
    "    except np.linalg.LinAlgError:\n",
    "         return float(\"nan\")\n",
    "        \n",
    "    x = np.linspace(\n",
    "        np.min([np.min(i) for i in samples]),\n",
    "        np.max([np.max(i) for i in samples]),\n",
    "        100\n",
    "    )\n",
    "    \n",
    "    a, b = [k(x) for k in kernel]\n",
    "    a = np.asarray(a)\n",
    "    b = np.asarray(b)\n",
    "    \n",
    "    m = 1. / 2 * (a + b)\n",
    "    kl_forward = stats.entropy(a, qk=m, base=base)\n",
    "    kl_backward = stats.entropy(b, qk=m, base=base)\n",
    "    return np.round(kl_forward / 2. + kl_backward / 2., decimal)\n",
    "\n",
    "\n",
    "test_event_samples = np.load('/Users/herb/Downloads/round4/models/GW150914_sample_uniform_100basis_extrinsic_uniform_prior/test_event_samples.npy')\n"
   ]
  },
  {
   "cell_type": "code",
   "execution_count": 8,
   "metadata": {},
   "outputs": [],
   "source": [
    "event = 'GW150914'\n",
    "df = pd.read_csv('/Users/herb/Github/VisibleGWevents/Bilby-GWTC-1-Analysis-and-Verification/gwtc-1_analysis_results/downsampled_posterior_samples_v1.0.0/{}_downsampled_posterior_samples.dat'.format(event), sep=' ')\n",
    "bilby_samples = df.dropna()[['mass_1', 'mass_2', 'phase', 'geocent_time', 'luminosity_distance',\n",
    "                      'a_1', 'a_2', 'tilt_1', 'tilt_2', 'phi_12', 'phi_jl',\n",
    "                      'theta_jn', 'psi', 'ra', 'dec']].values.astype('float64')\n",
    "bilby_samples[:,3] = bilby_samples[:,3] - 1126259462.4 #GW150914 #ref_time\n",
    "# if self.sample_extrinsic_only:\n",
    "# bilby_samples_extrisinc = bilby_samples[:,[3,4,12,13,14]]"
   ]
  },
  {
   "cell_type": "code",
   "execution_count": 13,
   "metadata": {},
   "outputs": [
    {
     "data": {
      "text/plain": [
       "0.64238"
      ]
     },
     "execution_count": 13,
     "metadata": {},
     "output_type": "execute_result"
    }
   ],
   "source": [
    "index = -1\n",
    "js_divergence([test_event_samples[:,index], bilby_samples[:,index]])"
   ]
  },
  {
   "cell_type": "code",
   "execution_count": 1,
   "metadata": {},
   "outputs": [
    {
     "name": "stdout",
     "output_type": "stream",
     "text": [
      "\u001b[1m\u001b[36mDatasets\u001b[m\u001b[m                          优化算法1.ipynb\n",
      "PyTorch 预备知识.ipynb            优化算法2.ipynb\n",
      "PyTorch 深度学习计算.ipynb        计算机视觉1.ipynb\n",
      "PyTorch 深度学习基础1.ipynb       计算机视觉2.ipynb\n",
      "PyTorch 深度学习基础2.ipynb       计算机视觉3.ipynb\n",
      "PyTorch 深度学习基础3.ipynb       计算机视觉4.ipynb\n",
      "PyTorch 深度学习基础4.ipynb       计算机视觉5.ipynb\n",
      "\u001b[1m\u001b[36mdl4wm\u001b[m\u001b[m                             卷积神经网络1.ipynb\n",
      "dl4wm.zip                         循环神经网络1.ipynb\n",
      "未命名.ipynb                      卷积神经网络2.ipynb\n",
      "计算性能.ipynb                    循环神经网络2.ipynb\n"
     ]
    }
   ],
   "source": [
    "!ls "
   ]
  },
  {
   "cell_type": "code",
   "execution_count": null,
   "metadata": {},
   "outputs": [],
   "source": []
  }
 ],
 "metadata": {
  "kernelspec": {
   "display_name": "Python 3",
   "language": "python",
   "name": "python3"
  },
  "language_info": {
   "codemirror_mode": {
    "name": "ipython",
    "version": 3
   },
   "file_extension": ".py",
   "mimetype": "text/x-python",
   "name": "python",
   "nbconvert_exporter": "python",
   "pygments_lexer": "ipython3",
   "version": "3.7.3"
  }
 },
 "nbformat": 4,
 "nbformat_minor": 4
}
